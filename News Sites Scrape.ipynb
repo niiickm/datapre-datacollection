{
 "cells": [
  {
   "cell_type": "markdown",
   "metadata": {},
   "source": [
    "# Scraping from 3 different news sites"
   ]
  },
  {
   "cell_type": "markdown",
   "metadata": {},
   "source": [
    "**Datetime:** 04-05-2021 2021\n",
    "\n",
    "NOTE: originally finished on 03-26-2021, had to re-run code to re-scrape news\n",
    "\n",
    "**Sites:** \n",
    "    - Inquirer (Crawl delay: 5)\n",
    "    - Manila Bulletin (Crawl delay: unspecified, use random between 10-20)\n",
    "    - The Guardian (Using API)"
   ]
  },
  {
   "cell_type": "markdown",
   "metadata": {},
   "source": [
    "## Imports"
   ]
  },
  {
   "cell_type": "code",
   "execution_count": 1,
   "metadata": {},
   "outputs": [],
   "source": [
    "import requests\n",
    "import json\n",
    "import time\n",
    "import random\n",
    "from bs4 import BeautifulSoup"
   ]
  },
  {
   "cell_type": "markdown",
   "metadata": {},
   "source": [
    "## Scraping from Inquirer"
   ]
  },
  {
   "cell_type": "markdown",
   "metadata": {},
   "source": [
    "### Getting the latest news links"
   ]
  },
  {
   "cell_type": "code",
   "execution_count": 2,
   "metadata": {},
   "outputs": [],
   "source": [
    "URL = \"https://www.inquirer.net/latest-stories\"\n",
    "headers = {'User-agent' : '*'}\n",
    "page = requests.get(URL, headers=headers) # Access time: 04-05-2021, 2014\n",
    "soup = BeautifulSoup(page.content, 'html.parser')"
   ]
  },
  {
   "cell_type": "code",
   "execution_count": 3,
   "metadata": {
    "scrolled": true
   },
   "outputs": [
    {
     "name": "stdout",
     "output_type": "stream",
     "text": [
      "<div id=\"al-box\">\n",
      "<div id=\"al-time\">GLOBALNATION - 7:59 PM</div>\n",
      "<h2><a href=\"https://globalnation.inquirer.net/194858/police-communities-across-us-fight-back-vs-anti-asian-hate-crimes\">Police, communities across US fight back vs anti-Asian hate crimes</a></h2>\n",
      "</div>\n"
     ]
    }
   ],
   "source": [
    "container = soup.find(id='al-wrap')\n",
    "headlines = container.find_all(id='al-box')\n",
    "# Sanity Check\n",
    "print(headlines[0])"
   ]
  },
  {
   "cell_type": "code",
   "execution_count": 4,
   "metadata": {
    "scrolled": true
   },
   "outputs": [
    {
     "name": "stdout",
     "output_type": "stream",
     "text": [
      "Index  0  Content:\n",
      " \n",
      "\n",
      "Index  1  Content:\n",
      " <div id=\"al-time\">GLOBALNATION - 7:59 PM</div>\n",
      "Index  2  Content:\n",
      " \n",
      "\n",
      "Index  3  Content:\n",
      " <h2><a href=\"https://globalnation.inquirer.net/194858/police-communities-across-us-fight-back-vs-anti-asian-hate-crimes\">Police, communities across US fight back vs anti-Asian hate crimes</a></h2>\n",
      "Index  4  Content:\n",
      " \n",
      "\n",
      "----------\n",
      "Index  0  Content:\n",
      " <a href=\"https://globalnation.inquirer.net/194858/police-communities-across-us-fight-back-vs-anti-asian-hate-crimes\">Police, communities across US fight back vs anti-Asian hate crimes</a>\n",
      "----------\n",
      "\n",
      "Type - time:  GLOBALNATION - 7:59 PM\n",
      "\n",
      "Headline:  Police, communities across US fight back vs anti-Asian hate crimes\n",
      "\n",
      "URL:  https://globalnation.inquirer.net/194858/police-communities-across-us-fight-back-vs-anti-asian-hate-crimes\n"
     ]
    }
   ],
   "source": [
    "# parse content\n",
    "\n",
    "for idx in range(len(headlines[0].contents)):\n",
    "    print(\"Index \", idx, \" Content:\\n\", headlines[0].contents[idx])\n",
    "\n",
    "print(\"----------\")    \n",
    "for idx in range(len(headlines[0].contents[3].contents)):\n",
    "    print(\"Index \", idx, \" Content:\\n\", headlines[0].contents[3].contents[idx])\n",
    "\n",
    "    \n",
    "print(\"----------\")\n",
    "print(\"\\nType - time: \", headlines[0].contents[1].text.strip())\n",
    "print(\"\\nHeadline: \", headlines[0].contents[3].contents[0].text.strip())\n",
    "print(\"\\nURL: \", headlines[0].contents[3].contents[0]['href'])"
   ]
  },
  {
   "cell_type": "code",
   "execution_count": 5,
   "metadata": {
    "scrolled": true
   },
   "outputs": [
    {
     "name": "stdout",
     "output_type": "stream",
     "text": [
      "['https://newsinfo.inquirer.net/1415144/healthcare-utilization-should-drop-to-60-before-easing-of-ncr-plus-restrictions-doh', 'https://newsinfo.inquirer.net/1415154/un-tribunal-denies-early-release-to-rwanda-genocide-mastermind', 'https://newsinfo.inquirer.net/1415157/jordans-prince-hamzah-strikes-defiant-tone-amid-palace-turmoil', 'https://newsinfo.inquirer.net/1415160/davao-city-braces-for-worst-as-ncr-cases-keep-surging', 'https://newsinfo.inquirer.net/1415151/ghana-investigates-after-dead-fish-dolphins-wash-up-on-shore', 'https://newsinfo.inquirer.net/1415150/838-yolanda-houses-turned-over-in-leyte-eastern-samar', 'https://newsinfo.inquirer.net/1415145/mandaue-mayor-isolates-self-after-covid-19-symptoms-show', 'https://newsinfo.inquirer.net/1415143/bangladesh-ferry-accident-kills-at-least-26', 'https://newsinfo.inquirer.net/1415137/govt-to-ramp-up-covid-19-testing-by-using-30000-antigen-kits-per-day', 'https://newsinfo.inquirer.net/1414910/singapore-to-accept-covid-19-digital-travel-pass-from-may', 'https://newsinfo.inquirer.net/1415121/gesmundo-swears-in-as-new-supreme-court-chief-justice', 'https://newsinfo.inquirer.net/1415116/northeasterly-windflow-to-bring-cloudy-skies-light-rains-over-parts-of-northern-luzon', 'https://newsinfo.inquirer.net/1415098/defensor-to-distribute-ivermectin-to-quezon-city-residents', 'https://newsinfo.inquirer.net/1415117/travelers-from-ncr-plus-bubble-required-covid-19-swab-test-before-entry-to-tacloban', 'https://newsinfo.inquirer.net/1415109/woman-gives-birth-to-baby-in-ambulance-in-southern-leyte', 'https://newsinfo.inquirer.net/1415108/look-peach-blossoms-usher-in-spring-for-tibetan-tourism', 'https://newsinfo.inquirer.net/1415106/9-casino-employees-in-bacolod-test-positive-for-covid-19', 'https://newsinfo.inquirer.net/1415097/greece-reopens-shops-despite-high-infection-rate', 'https://newsinfo.inquirer.net/1415100/indonesian-maid-in-singapore-gets-9-months-jail-for-elbowing-babys-face-stepping-on-his-knee', 'https://newsinfo.inquirer.net/1415090/man-arrested-over-brutal-killing-of-dog-in-thailand', 'https://newsinfo.inquirer.net/1415084/hong-kong-bar-owners-in-hunger-strike-over-virus-closures', 'https://newsinfo.inquirer.net/1415083/36-npa-rebels-in-aurora-yield', 'https://newsinfo.inquirer.net/1415080/japan-fears-covid-19-variants-are-behind-possible-fourth-wave', 'https://newsinfo.inquirer.net/1415075/portugal-reopens-museums-cafe-terraces-and-schools', 'https://newsinfo.inquirer.net/1415068/uk-to-announce-new-international-travel-rules', 'https://newsinfo.inquirer.net/1415062/vietnams-pandemic-response-leader-sworn-in-as-president', 'https://newsinfo.inquirer.net/1415046/palace-admits-aid-not-enough-but-no-additional-assistance-despite-ecq-extension', 'https://newsinfo.inquirer.net/1415057/phs-total-covid-19-count-surpasses-800000', 'https://newsinfo.inquirer.net/1415051/millions-mark-easter-under-virus-curbs-as-pope-francis-urges-jabs-for-poor', 'https://newsinfo.inquirer.net/1415041/dole-set-to-hire-12000-contact-tracers-in-ncr-plus-bubble', 'https://newsinfo.inquirer.net/1415045/doh-lgus-to-open-triage-system-for-covid-19-patients', 'https://newsinfo.inquirer.net/1415020/octa-says-ncrs-covid-19-trend-declines-doh-notes-decrease-was-artificial', 'https://newsinfo.inquirer.net/1414999/man-handcuffed-behind-his-back-leads-police-in-high-speed-car-chase', 'https://newsinfo.inquirer.net/1415023/manila-waters-corporate-tax-off-consumers-back-under-new-deal-palace', 'https://newsinfo.inquirer.net/1415035/1409-covid-19-protocol-violators-nabbed-in-cavite', 'https://newsinfo.inquirer.net/1415016/antigen-test-of-ang-probinsyano-rep-delos-santos-yields-positive-for-coronavirus', 'https://newsinfo.inquirer.net/1415018/singapore-blogger-crowdfunds-99000-to-pay-pm-lee-damages-in-defamation-case', 'https://newsinfo.inquirer.net/1414989/patients-waiting-in-tents-not-covered-by-philhealth-thats-unacceptable-marcos', 'https://newsinfo.inquirer.net/1415001/indias-daily-covid-19-cases-surpass-100000-mark-for-first-time', 'https://newsinfo.inquirer.net/1414970/fwd-marcos-p1000-assistance-amid-ecq-not-enough', 'https://newsinfo.inquirer.net/1414997/ph-runs-out-of-astrazeneca-covid-19-vaccine-doses', 'https://newsinfo.inquirer.net/1414991/taiwan-rescuers-work-to-bring-out-last-body-from-wrecked-train', 'https://newsinfo.inquirer.net/1414983/local-pharma-firm-applies-for-registration-of-ivermectin-for-human-use', 'https://newsinfo.inquirer.net/1414981/indonesia-death-toll-reaches-55-from-floods-40-missing', 'https://newsinfo.inquirer.net/1414961/impose-mecq-not-impractical-ecq-in-ncr-plus-says-marcos', 'https://newsinfo.inquirer.net/1414968/nearly-800000-filipinos-vaccinated-vs-covid-19', 'https://newsinfo.inquirer.net/1414974/tarlac-town-mayor-contracts-covid-19', 'https://newsinfo.inquirer.net/1414969/nueva-vizcaya-gov-4-execs-test-positive-for-covid-19-provl-capitol-on-lockdown', 'https://newsinfo.inquirer.net/1414931/csc-warns-public-anew-against-cse-review-classes-reviewers-for-sale', 'https://newsinfo.inquirer.net/1414958/entry-of-travelers-from-ncr-plus-bubble-to-region-6-temporarily-halted', 'https://newsinfo.inquirer.net/1414939/phs-covid-19-cases-may-pass-1m-before-end-of-april-octa-research', 'https://newsinfo.inquirer.net/1414955/approval-sought-to-repurpose-hepatitis-c-drug-for-covid-19-in-india', 'https://newsinfo.inquirer.net/1414949/china-reports-32-new-covid-19-cases-biggest-daily-jump-in-over-two-months']\n"
     ]
    }
   ],
   "source": [
    "# get only of type NEWSINFO\n",
    "\n",
    "news_headlines = []\n",
    "\n",
    "for item in headlines:\n",
    "    if item.contents[1].text.strip().find('NEWSINFO') != -1:\n",
    "        news_headlines.append({\n",
    "            'type': item.contents[1].text.strip(),\n",
    "            'Headline': item.contents[3].contents[0].text.strip(),\n",
    "            'URL': item.contents[3].contents[0]['href']\n",
    "        })\n",
    "\n",
    "news_urls = [item['URL'] for item in news_headlines]\n",
    "\n",
    "# Sanity Check\n",
    "print(news_urls)"
   ]
  },
  {
   "cell_type": "markdown",
   "metadata": {},
   "source": [
    "### Scraping the news pages"
   ]
  },
  {
   "cell_type": "code",
   "execution_count": 6,
   "metadata": {},
   "outputs": [
    {
     "name": "stdout",
     "output_type": "stream",
     "text": [
      "URL:  https://newsinfo.inquirer.net/1415144/healthcare-utilization-should-drop-to-60-before-easing-of-ncr-plus-restrictions-doh\n",
      "\n",
      "Headline:  To ease ‘NCR Plus’ curbs, healthcare demand must drop to 60% – DOH\n",
      "\n",
      "Author:  Christia Marie Ramos\n",
      "\n",
      "Date:  7:49 PM April 05, 2021\n",
      "\n",
      "Article body: \n",
      " \n",
      "MANILA, Philippines — The current restrictions enforced on the “NCR Plus” area can be eased once healthcare demand has been lowered to at least 60 percent, the Department of Health (DOH) said Monday.\n",
      "“For healthcare utilization, we need to see that the utilization will be down to at least 60% before we can say that we are at that safe level,” DOH Undersecretary Ma. Rosario Vergeire said in a Palace briefing.\n",
      "“The health system should be able to manage and should be able to breathe and should have this decongestion before we can say that we can easily lift the restrictions for this community quarantine,” she added.\n",
      "According to a DOH official, the National Capital Region’s total healthcare demand is reportedly between 78 and 80 percent.\n",
      "“For ICU (intensive care unit) beds…almost 100% in most cities. So we need to bring that down so that we will be able to say that our healthcare system can manage,” she said.\n",
      "“What would be most important really would be for us to look at the healthcare utilization,” she added.\n",
      "Initially, the government imposed the enhanced community quarantine (ECQ), the government’s most stringent quarantine classification, on the “NCR Plus” bubble that encompassed Metro Manila, Bulacan, Cavite, Laguna, and Rizal. The ECQ was scheduled to expire on April 4, but was extended for an additional week.\n",
      "READ:\n",
      "Malacañang, on the other hand, has ruled out extending the ECQ in the affected region for a third week, preferring to impose a more lenient modified ECQ for a week after the existing status expires on April 11.\n",
      "READ:\n",
      "The country has seen record-breaking daily increases in COVID-19 infections during the ECQ, with the highest single-day rise of 15,310 infections recorded last April 2.\n",
      "READ:\n",
      "On Monday, the Philippines’ COVID-19 case tally exceeded 800,00 after the DOH reported 8,355 new infections. Of the total, 143,726 are active cases.\n"
     ]
    },
    {
     "name": "stderr",
     "output_type": "stream",
     "text": [
      "C:\\Users\\niiick\\Anaconda3\\lib\\site-packages\\bs4\\element.py:1371: UserWarning: has_key is deprecated. Use has_attr(\"class\") instead.\n",
      "  key))\n"
     ]
    }
   ],
   "source": [
    "curr_url = news_urls[0]\n",
    "curr_page = requests.get(curr_url, headers=headers)\n",
    "curr_soup = BeautifulSoup(curr_page.content, 'html.parser')\n",
    "\n",
    "# attempt to find format\n",
    "headline = curr_soup.find('h1', {'class':'entry-title'}).text.strip()\n",
    "author = curr_soup.find(id='art_author')['data-byline-strips']\n",
    "date = curr_soup.find(id='art_plat').contents[2]\n",
    "\n",
    "body = ''\n",
    "body_soup = curr_soup.find(id='article_content').contents[1].find_all('p')\n",
    "\n",
    "# remove all children from <p>s found in article content (e.g. advertisments, extenral links)\n",
    "for x in body_soup:\n",
    "    for y in x.find_all():\n",
    "        if len(list(y.parents)) >= 1:\n",
    "            y.extract()\n",
    "    # to remove the caption\n",
    "    if x.has_key('class'):\n",
    "        if x['class'][0] == 'wp-caption-text':\n",
    "            x.extract()\n",
    "\n",
    "for x in body_soup:\n",
    "    #print(\"Index: \", x)\n",
    "    #print(\"\\n\", body_soup[x].text.strip())\n",
    "    if x.text.strip() == 'RELATED STORIES': # cut off of article\n",
    "        break\n",
    "    if x.has_key('class'):\n",
    "        if x['class'][0] == 'corona_article_tracker': # to account for the common paragraphs abt covid-19 in covid related news\n",
    "            break\n",
    "        pass\n",
    "    else:\n",
    "        body += '\\n' + x.text.strip()\n",
    "\n",
    "print('URL: ', curr_url)\n",
    "print(\"\\nHeadline: \", headline)\n",
    "print(\"\\nAuthor: \", author)\n",
    "print(\"\\nDate: \", date[4:])\n",
    "print(\"\\nArticle body: \\n\", body)"
   ]
  },
  {
   "cell_type": "code",
   "execution_count": 14,
   "metadata": {},
   "outputs": [
    {
     "name": "stdout",
     "output_type": "stream",
     "text": [
      "[SCRAPING] URL:  https://newsinfo.inquirer.net/1415144/healthcare-utilization-should-drop-to-60-before-easing-of-ncr-plus-restrictions-doh\n",
      "DONE, NEXT:\n",
      "[SCRAPING] URL:  https://newsinfo.inquirer.net/1415154/un-tribunal-denies-early-release-to-rwanda-genocide-mastermind\n",
      "DONE, NEXT:\n",
      "[SCRAPING] URL:  https://newsinfo.inquirer.net/1415157/jordans-prince-hamzah-strikes-defiant-tone-amid-palace-turmoil\n",
      "DONE, NEXT:\n",
      "[SCRAPING] URL:  https://newsinfo.inquirer.net/1415160/davao-city-braces-for-worst-as-ncr-cases-keep-surging\n",
      "DONE, NEXT:\n",
      "[SCRAPING] URL:  https://newsinfo.inquirer.net/1415151/ghana-investigates-after-dead-fish-dolphins-wash-up-on-shore\n",
      "DONE, NEXT:\n",
      "[SCRAPING] URL:  https://newsinfo.inquirer.net/1415150/838-yolanda-houses-turned-over-in-leyte-eastern-samar\n",
      "DONE, NEXT:\n",
      "[SCRAPING] URL:  https://newsinfo.inquirer.net/1415145/mandaue-mayor-isolates-self-after-covid-19-symptoms-show\n",
      "DONE, NEXT:\n",
      "[SCRAPING] URL:  https://newsinfo.inquirer.net/1415143/bangladesh-ferry-accident-kills-at-least-26\n",
      "DONE, NEXT:\n",
      "[SCRAPING] URL:  https://newsinfo.inquirer.net/1415137/govt-to-ramp-up-covid-19-testing-by-using-30000-antigen-kits-per-day\n",
      "DONE, NEXT:\n",
      "[SCRAPING] URL:  https://newsinfo.inquirer.net/1414910/singapore-to-accept-covid-19-digital-travel-pass-from-may\n",
      "DONE, NEXT:\n",
      "[SCRAPING] URL:  https://newsinfo.inquirer.net/1415121/gesmundo-swears-in-as-new-supreme-court-chief-justice\n",
      "DONE, NEXT:\n",
      "[SCRAPING] URL:  https://newsinfo.inquirer.net/1415116/northeasterly-windflow-to-bring-cloudy-skies-light-rains-over-parts-of-northern-luzon\n",
      "DONE, NEXT:\n",
      "[SCRAPING] URL:  https://newsinfo.inquirer.net/1415098/defensor-to-distribute-ivermectin-to-quezon-city-residents\n",
      "DONE, NEXT:\n",
      "[SCRAPING] URL:  https://newsinfo.inquirer.net/1415117/travelers-from-ncr-plus-bubble-required-covid-19-swab-test-before-entry-to-tacloban\n",
      "DONE, NEXT:\n",
      "[SCRAPING] URL:  https://newsinfo.inquirer.net/1415109/woman-gives-birth-to-baby-in-ambulance-in-southern-leyte\n",
      "DONE, NEXT:\n",
      "[SCRAPING] URL:  https://newsinfo.inquirer.net/1415108/look-peach-blossoms-usher-in-spring-for-tibetan-tourism\n",
      "DONE, NEXT:\n",
      "[SCRAPING] URL:  https://newsinfo.inquirer.net/1415106/9-casino-employees-in-bacolod-test-positive-for-covid-19\n",
      "DONE, NEXT:\n",
      "[SCRAPING] URL:  https://newsinfo.inquirer.net/1415097/greece-reopens-shops-despite-high-infection-rate\n",
      "DONE, NEXT:\n",
      "[SCRAPING] URL:  https://newsinfo.inquirer.net/1415100/indonesian-maid-in-singapore-gets-9-months-jail-for-elbowing-babys-face-stepping-on-his-knee\n",
      "DONE, NEXT:\n",
      "[SCRAPING] URL:  https://newsinfo.inquirer.net/1415090/man-arrested-over-brutal-killing-of-dog-in-thailand\n",
      "DONE, NEXT:\n",
      "[SCRAPING] URL:  https://newsinfo.inquirer.net/1415084/hong-kong-bar-owners-in-hunger-strike-over-virus-closures\n",
      "DONE, NEXT:\n",
      "[SCRAPING] URL:  https://newsinfo.inquirer.net/1415083/36-npa-rebels-in-aurora-yield\n",
      "DONE, NEXT:\n",
      "[SCRAPING] URL:  https://newsinfo.inquirer.net/1415080/japan-fears-covid-19-variants-are-behind-possible-fourth-wave\n",
      "DONE, NEXT:\n",
      "[SCRAPING] URL:  https://newsinfo.inquirer.net/1415075/portugal-reopens-museums-cafe-terraces-and-schools\n",
      "DONE, NEXT:\n",
      "[SCRAPING] URL:  https://newsinfo.inquirer.net/1415068/uk-to-announce-new-international-travel-rules\n",
      "DONE, NEXT:\n",
      "[SCRAPING] URL:  https://newsinfo.inquirer.net/1415062/vietnams-pandemic-response-leader-sworn-in-as-president\n",
      "DONE, NEXT:\n",
      "[SCRAPING] URL:  https://newsinfo.inquirer.net/1415046/palace-admits-aid-not-enough-but-no-additional-assistance-despite-ecq-extension\n",
      "DONE, NEXT:\n",
      "[SCRAPING] URL:  https://newsinfo.inquirer.net/1415057/phs-total-covid-19-count-surpasses-800000\n",
      "DONE, NEXT:\n",
      "[SCRAPING] URL:  https://newsinfo.inquirer.net/1415051/millions-mark-easter-under-virus-curbs-as-pope-francis-urges-jabs-for-poor\n",
      "DONE, NEXT:\n",
      "[SCRAPING] URL:  https://newsinfo.inquirer.net/1415041/dole-set-to-hire-12000-contact-tracers-in-ncr-plus-bubble\n",
      "DONE, NEXT:\n",
      "[SCRAPING] URL:  https://newsinfo.inquirer.net/1415045/doh-lgus-to-open-triage-system-for-covid-19-patients\n",
      "DONE, NEXT:\n",
      "[SCRAPING] URL:  https://newsinfo.inquirer.net/1415020/octa-says-ncrs-covid-19-trend-declines-doh-notes-decrease-was-artificial\n",
      "DONE, NEXT:\n",
      "[SCRAPING] URL:  https://newsinfo.inquirer.net/1414999/man-handcuffed-behind-his-back-leads-police-in-high-speed-car-chase\n",
      "DONE, NEXT:\n",
      "[SCRAPING] URL:  https://newsinfo.inquirer.net/1415023/manila-waters-corporate-tax-off-consumers-back-under-new-deal-palace\n",
      "DONE, NEXT:\n",
      "[SCRAPING] URL:  https://newsinfo.inquirer.net/1415035/1409-covid-19-protocol-violators-nabbed-in-cavite\n",
      "DONE, NEXT:\n",
      "[SCRAPING] URL:  https://newsinfo.inquirer.net/1415016/antigen-test-of-ang-probinsyano-rep-delos-santos-yields-positive-for-coronavirus\n",
      "DONE, NEXT:\n",
      "[SCRAPING] URL:  https://newsinfo.inquirer.net/1415018/singapore-blogger-crowdfunds-99000-to-pay-pm-lee-damages-in-defamation-case\n",
      "DONE, NEXT:\n",
      "[SCRAPING] URL:  https://newsinfo.inquirer.net/1414989/patients-waiting-in-tents-not-covered-by-philhealth-thats-unacceptable-marcos\n",
      "DONE, NEXT:\n",
      "[SCRAPING] URL:  https://newsinfo.inquirer.net/1415001/indias-daily-covid-19-cases-surpass-100000-mark-for-first-time\n",
      "DONE, NEXT:\n",
      "[SCRAPING] URL:  https://newsinfo.inquirer.net/1414970/fwd-marcos-p1000-assistance-amid-ecq-not-enough\n",
      "DONE, NEXT:\n",
      "[SCRAPING] URL:  https://newsinfo.inquirer.net/1414997/ph-runs-out-of-astrazeneca-covid-19-vaccine-doses\n",
      "DONE, NEXT:\n",
      "[SCRAPING] URL:  https://newsinfo.inquirer.net/1414991/taiwan-rescuers-work-to-bring-out-last-body-from-wrecked-train\n",
      "DONE, NEXT:\n",
      "[SCRAPING] URL:  https://newsinfo.inquirer.net/1414983/local-pharma-firm-applies-for-registration-of-ivermectin-for-human-use\n",
      "DONE, NEXT:\n",
      "[SCRAPING] URL:  https://newsinfo.inquirer.net/1414981/indonesia-death-toll-reaches-55-from-floods-40-missing\n",
      "DONE, NEXT:\n",
      "[SCRAPING] URL:  https://newsinfo.inquirer.net/1414961/impose-mecq-not-impractical-ecq-in-ncr-plus-says-marcos\n",
      "DONE, NEXT:\n",
      "[SCRAPING] URL:  https://newsinfo.inquirer.net/1414968/nearly-800000-filipinos-vaccinated-vs-covid-19\n",
      "DONE, NEXT:\n",
      "[SCRAPING] URL:  https://newsinfo.inquirer.net/1414974/tarlac-town-mayor-contracts-covid-19\n",
      "DONE, NEXT:\n",
      "[SCRAPING] URL:  https://newsinfo.inquirer.net/1414969/nueva-vizcaya-gov-4-execs-test-positive-for-covid-19-provl-capitol-on-lockdown\n",
      "DONE, NEXT:\n",
      "[SCRAPING] URL:  https://newsinfo.inquirer.net/1414931/csc-warns-public-anew-against-cse-review-classes-reviewers-for-sale\n",
      "DONE, NEXT:\n",
      "[SCRAPING] URL:  https://newsinfo.inquirer.net/1414958/entry-of-travelers-from-ncr-plus-bubble-to-region-6-temporarily-halted\n",
      "DONE, NEXT:\n",
      "[SCRAPING] URL:  https://newsinfo.inquirer.net/1414939/phs-covid-19-cases-may-pass-1m-before-end-of-april-octa-research\n",
      "DONE, NEXT:\n",
      "[SCRAPING] URL:  https://newsinfo.inquirer.net/1414955/approval-sought-to-repurpose-hepatitis-c-drug-for-covid-19-in-india\n",
      "DONE, NEXT:\n",
      "[SCRAPING] URL:  https://newsinfo.inquirer.net/1414949/china-reports-32-new-covid-19-cases-biggest-daily-jump-in-over-two-months\n",
      "DONE, NEXT:\n"
     ]
    }
   ],
   "source": [
    "# actual scraping\n",
    "\n",
    "inquirer_news = []\n",
    "\n",
    "for x in news_urls:\n",
    "    print(\"[SCRAPING] URL: \", x)\n",
    "    curr_url = x\n",
    "    curr_page = requests.get(curr_url, headers=headers)\n",
    "    curr_soup = BeautifulSoup(curr_page.content, 'html.parser')\n",
    "\n",
    "    # attempt to find format\n",
    "    headline = curr_soup.find('h1', {'class':'entry-title'}).text.strip()\n",
    "    if curr_soup.find(id='art_author') is not None:\n",
    "        author = curr_soup.find(id='art_author')['data-byline-strips']\n",
    "    else:\n",
    "        author = ''\n",
    "    if len(curr_soup.find(id='art_plat').contents) > 1:\n",
    "        date = curr_soup.find(id='art_plat').contents[2]\n",
    "    else:\n",
    "        date = curr_soup.find(id='art_plat').contents[0]\n",
    "\n",
    "    body = ''\n",
    "    body_soup = curr_soup.find(id='article_content').contents[1].find_all('p')\n",
    "\n",
    "    # remove all children from <p>s found in article content (e.g. advertisments, extenral links)\n",
    "    for x in body_soup:\n",
    "        for y in x.find_all():\n",
    "            if len(list(y.parents)) >= 1:\n",
    "                y.extract()\n",
    "        # to remove the caption\n",
    "        if x.has_key('class'):\n",
    "            if x['class'][0] == 'wp-caption-text':\n",
    "                x.extract()\n",
    "\n",
    "    for x in body_soup:\n",
    "        if x.text.strip() == 'RELATED STORIES': # cut off of article\n",
    "            break\n",
    "        if x.has_key('class'):\n",
    "            if x['class'][0] == 'corona_article_tracker': # to account for the common paragraphs abt covid-19 in covid related news\n",
    "                break\n",
    "            pass\n",
    "        else:\n",
    "            body += '\\n' + x.text.strip()\n",
    "    \n",
    "    inquirer_news.append({\n",
    "        'source': curr_url,\n",
    "        'date': date[4:],\n",
    "        'title': headline,\n",
    "        'article_body': body,\n",
    "        'author': author\n",
    "    })\n",
    "    \n",
    "    time.sleep(5)\n",
    "    print(\"DONE, NEXT:\")"
   ]
  },
  {
   "cell_type": "code",
   "execution_count": 15,
   "metadata": {},
   "outputs": [
    {
     "name": "stdout",
     "output_type": "stream",
     "text": [
      "Index:  48\n",
      "\n",
      "Source:  https://newsinfo.inquirer.net/1414931/csc-warns-public-anew-against-cse-review-classes-reviewers-for-sale\n",
      "\n",
      "Title:  CSC warns public anew against CSE review classes, reviewers for sale\n",
      "\n",
      "Author:  \n",
      "\n",
      "Date:  1:42 PM April 05, 2021\n",
      "\n",
      "Article body: \n",
      " \n",
      "MANILA, Philippines — The Civil Service Commission (CSC) has cautioned the public against review classes and reviewers for the Career Service Professional and Subprofessional Examination (CSE) being offered by any center or group, or individual.\n",
      "CSC reiterated Monday that it does not conduct any review classes or disseminate any review materials for its CSE or any other civil service tests.\n",
      "“May we advise again the public that the CSC neither holds any review classes nor publishes or distributes any review materials for the Career and any Civil Service examinations,” it said in a statement.\n",
      "According to CSC, it has received information that reviewers and group reviews for CSEs were being offered and sold either through bookstores, social media, or online selling websites.\n",
      "There were even claims that the reviewers were prepared by CSE top-notchers, it added.\n",
      "CSC further said it does not accredit and has not accredited any review center for the purpose of offering and holding review classes to prospective career service examinees.\n",
      "Purchasing of such products or services shall be at one’s own risk, it also said.\n",
      "CSC moreover said it has not allowed any individual or entity to use its logo in review materials or review centers.\n",
      "It then warned those using the CSC logo without express authority from the government for the purpose of earning profit or for any purpose that they may be subjected to criminal prosecution under applicable laws.\n"
     ]
    }
   ],
   "source": [
    "# sanity check\n",
    "\n",
    "article_no = random.randint(0,len(inquirer_news)-1)\n",
    "\n",
    "print('Index: ', article_no)\n",
    "print('\\nSource: ', inquirer_news[article_no]['source'])\n",
    "print(\"\\nTitle: \", inquirer_news[article_no]['title'])\n",
    "print(\"\\nAuthor: \", inquirer_news[article_no]['author'])\n",
    "print(\"\\nDate: \", inquirer_news[article_no]['date'])\n",
    "print(\"\\nArticle body: \\n\", inquirer_news[article_no]['article_body'])"
   ]
  },
  {
   "cell_type": "code",
   "execution_count": 16,
   "metadata": {},
   "outputs": [],
   "source": [
    "# write to file\n",
    "with open('inquirer_news.json', 'w') as file:\n",
    "    json.dump(inquirer_news, file, indent=4)"
   ]
  },
  {
   "cell_type": "markdown",
   "metadata": {},
   "source": [
    "## Scraping from Manila Bulletin"
   ]
  },
  {
   "cell_type": "markdown",
   "metadata": {},
   "source": [
    "### Getting the latest news links"
   ]
  },
  {
   "cell_type": "code",
   "execution_count": 17,
   "metadata": {},
   "outputs": [],
   "source": [
    "URL = \"https://mb.com.ph/news/\"\n",
    "headers = {'User-agent' : '*'}\n",
    "page = requests.get(URL, headers=headers) # Access time: 03-26-2021, 2202\n",
    "soup = BeautifulSoup(page.content, 'html.parser')"
   ]
  },
  {
   "cell_type": "code",
   "execution_count": 18,
   "metadata": {},
   "outputs": [
    {
     "name": "stdout",
     "output_type": "stream",
     "text": [
      "<li class=\"article article-highlight\">\n",
      "<div class=\"article-inner row flex-row-reverse flex-md-row\">\n",
      "<figure class=\"article-figure col col-sm-auto\">\n",
      "<a class=\"article-img\" href=\"https://mb.com.ph/2021/03/31/fil-am-woman-attacked-in-nyc-security-guard-shuts-doors-on-her/\">\n",
      "<img alt=\"US-CRIME-RACISM-ASIAN\" src=\"https://mb.com.ph/wp-content/uploads/2021/03/000_9729JD-1.jpg\"/>\n",
      "</a>\n",
      "</figure>\n",
      "<div class=\"article-info col\">\n",
      "<div class=\"cat\">\n",
      "<a href=\"https://mb.com.ph/category/news/world/\">World</a> </div>\n",
      "<h3 class=\"title\"><a href=\"https://mb.com.ph/2021/03/31/fil-am-woman-attacked-in-nyc-security-guard-shuts-doors-on-her/\">Fil-Am woman attacked in NYC, security guard shuts doors on her</a></h3>\n",
      "<div class=\"desc\">\n",
      "<p>An elderly Filipina immigrant was randomly attacked in Midtown Manhattan in New York City on Monday, the latest in the string of violent attacks against Asian Americans.</p>\n",
      "<p>The 65-year-old Filipino woman was walking along 360 West 43rd Street on Monday when a man approached her and suddenly kicked her multiple times, according to the report by the New York Police District (NYPD).</p>\n",
      "</div>\n",
      "<div class=\"post-meta\">\n",
      "<span class=\"time-posted\">\n",
      "<i class=\"mb-icon-time\"></i>\n",
      "<span class=\"count\"><time class=\"time-ago\" data-time=\"2021-03-31 09:10:06\"></time></span>\n",
      "</span>\n",
      "<span class=\"share counter\">\n",
      "<i class=\"mb-icon-share\"></i>\n",
      "<span class=\"count\">\n",
      "\t\t\t\t\t\t\t\t\t\t\t\t\t\t\t0 Share\t\t\t\t\t\t\t\t\t\t\t\t\t\t</span>\n",
      "</span>\n",
      "</div>\n",
      "</div>\n",
      "</div>\n",
      "</li>\n"
     ]
    }
   ],
   "source": [
    "container = soup.find('ul',{'class': 'articles-list'}) # the div with the main news articles\n",
    "headlines = container.find_all('li',{'class': 'article'})\n",
    "\n",
    "# Sanity check\n",
    "print(headlines[0])"
   ]
  },
  {
   "cell_type": "code",
   "execution_count": 19,
   "metadata": {},
   "outputs": [
    {
     "name": "stdout",
     "output_type": "stream",
     "text": [
      "URL https://mb.com.ph/2021/03/31/fil-am-woman-attacked-in-nyc-security-guard-shuts-doors-on-her/\n",
      "\n",
      "Title:  Fil-Am woman attacked in NYC, security guard shuts doors on her\n"
     ]
    }
   ],
   "source": [
    "# parse format\n",
    "\n",
    "print(\"URL\", headlines[0].find('h3',{'class': 'title'}).find('a')['href'])\n",
    "print('\\nTitle: ', headlines[0].find('h3',{'class': 'title'}).find('a').text.strip())"
   ]
  },
  {
   "cell_type": "code",
   "execution_count": 20,
   "metadata": {
    "scrolled": true
   },
   "outputs": [
    {
     "name": "stdout",
     "output_type": "stream",
     "text": [
      "\n",
      "URL:  https://mb.com.ph/2021/03/31/fil-am-woman-attacked-in-nyc-security-guard-shuts-doors-on-her/\n",
      "\n",
      "URL:  https://mb.com.ph/2021/04/05/no-extension-after-all-april-15-deadline-for-2020-itr-filing-stays-says-bir/\n",
      "\n",
      "URL:  https://mb.com.ph/2021/04/05/defensor-to-give-away-ivermectin-to-qc-residents-for-free/\n",
      "\n",
      "URL:  https://mb.com.ph/2021/04/05/doh-fda-do-not-recommend-use-of-ivermectin-for-covid-19-treatment/\n",
      "\n",
      "URL:  https://mb.com.ph/2021/04/05/who-delivery-of-astrazeneca-vaccines-from-covax-may-be-delayed/\n",
      "\n",
      "URL:  https://mb.com.ph/2021/04/05/doh-fda-deny-profiting-from-remdesivir-tocilizumab-use/\n",
      "\n",
      "URL:  https://mb.com.ph/2021/04/05/mayor-tiangco-household-lockdown-is-a-good-plan-but-how-do-you-implement-it/\n",
      "\n",
      "URL:  https://mb.com.ph/2021/04/05/start-of-something-good-dar-links-pangasinan-squash-kamote-farmers-to-enutribun-producer/\n",
      "\n",
      "URL:  https://mb.com.ph/2021/04/05/avoid-rapid-tests-ph-red-cross-reminds-public-to-choose-rt-pcr-for-saliva-based-covid-19-testing/\n",
      "\n",
      "URL:  https://mb.com.ph/2021/04/05/number-of-residents-willing-to-be-vaccinated-doubles-in-navotas/\n",
      "\n",
      "URL:  https://mb.com.ph/2021/04/05/covid-19-poses-challenge-to-phs-healthcare-system-dost-funded-study/\n",
      "\n",
      "URL:  https://mb.com.ph/2021/04/05/use-of-oxygen-tank-at-home-should-be-supervised-by-a-doctor-doh/\n",
      "\n",
      "URL:  https://mb.com.ph/2021/04/05/bi-gives-stern-warning-to-foreigners-who-break-iatf-rules/\n",
      "\n",
      "URL:  https://mb.com.ph/2021/04/05/doh-fda-chinese-drug-lianhua-qingwen-not-registered-as-covid-19-medication/\n",
      "\n",
      "Number of headlines:  14\n"
     ]
    }
   ],
   "source": [
    "count = 0\n",
    "for x in headlines:\n",
    "    if x.find('h3',{'class': 'title'}) is not None:\n",
    "        print(\"\\nURL: \", x.find('h3',{'class': 'title'}).find('a')['href'])\n",
    "        count+=1\n",
    "    else:\n",
    "        if x.find('h4',{'class': 'title'}) is not None:\n",
    "            print(\"\\nURL: \", x.find('h4',{'class': 'title'}).find('a')['href'])\n",
    "            count+=1\n",
    "            \n",
    "print(\"\\nNumber of headlines: \", count)"
   ]
  },
  {
   "cell_type": "code",
   "execution_count": 21,
   "metadata": {},
   "outputs": [
    {
     "name": "stdout",
     "output_type": "stream",
     "text": [
      "\n",
      "URL:  https://mb.com.ph/2021/04/05/go-holistic-approach-needed-to-curb-rise-in-covid-19-cases/\n",
      "\n",
      "URL:  https://mb.com.ph/2021/04/05/tiangco-to-get-sinovac-vaccine-with-a-heavy-heart/\n",
      "\n",
      "URL:  https://mb.com.ph/2021/04/05/lotto-digit-games-operations-remain-suspended-in-ecq-areas-pcso/\n",
      "\n",
      "URL:  https://mb.com.ph/2021/04/05/covid-19-virus-spreading-in-ph-three-to-nine-times-more-contagious-doh/\n",
      "\n",
      "URL:  https://mb.com.ph/2021/04/05/police-sarge-caught-in-anti-illegal-cockfighting-operation-in-iloilo/\n",
      "\n",
      "URL:  https://mb.com.ph/2021/04/05/palace-to-philhealth-make-prompt-payment-of-hospital-claims/\n",
      "\n",
      "URL:  https://mb.com.ph/2021/04/05/sec-guevarra-suggests-no-prison-term-or-fine-for-ecq-violators-in-ncr/\n",
      "\n",
      "URL:  https://mb.com.ph/2021/04/05/binay-backs-doctors-groups-call-to-convert-hotels-into-temporary-hospital-facilities/\n",
      "\n",
      "URL:  https://mb.com.ph/2021/04/05/9-rescued-as-motor-launch-loaded-with-gasoline-explodes/\n",
      "\n",
      "URL:  https://mb.com.ph/2021/04/05/calls-for-covid-19-mass-testing-ok-if-funds-available-dilg-mum-on-idea/\n",
      "\n",
      "URL:  https://mb.com.ph/2021/04/05/dost-provides-financial-aid-to-students-engaged-in-agritech-startups/\n",
      "\n",
      "URL:  https://mb.com.ph/2021/04/05/7000-pinoys-lose-jobs-in-a-matter-of-days-dole-figures-show/\n",
      "\n",
      "URL:  https://mb.com.ph/2021/04/05/widow-found-dead-with-multiple-stab-wounds-in-pangasinan/\n",
      "\n",
      "Number of headlines:  14\n"
     ]
    }
   ],
   "source": [
    "# get more from second page\n",
    "URL_2 = \"https://mb.com.ph/news/page/2\"\n",
    "page_2 = requests.get(URL_2, headers=headers) # Access time: 04-05-2021, 20:20\n",
    "soup_2 = BeautifulSoup(page_2.content, 'html.parser')\n",
    "container_2 = soup_2.find('ul',{'class': 'articles-list'})\n",
    "headlines_2 = container_2.find_all('li',{'class': 'article'})\n",
    "\n",
    "count_2 = 0\n",
    "for x in headlines_2:\n",
    "    if x.find('h3',{'class': 'title'}) is not None:\n",
    "        print(\"\\nURL: \", x.find('h3',{'class': 'title'}).find('a')['href'])\n",
    "        count_2+=1\n",
    "    else:\n",
    "        if x.find('h4',{'class': 'title'}) is not None:\n",
    "            print(\"\\nURL: \", x.find('h4',{'class': 'title'}).find('a')['href'])\n",
    "            count_2+=1\n",
    "            \n",
    "print(\"\\nNumber of headlines: \", count)"
   ]
  },
  {
   "cell_type": "code",
   "execution_count": 22,
   "metadata": {},
   "outputs": [
    {
     "name": "stdout",
     "output_type": "stream",
     "text": [
      "Number of headlines:  27\n"
     ]
    }
   ],
   "source": [
    "# store all headlines\n",
    "news_urls = []\n",
    "\n",
    "for x in headlines:\n",
    "    if x.find('h3',{'class': 'title'}) is not None:\n",
    "        news_urls.append(x.find('h3',{'class': 'title'}).find('a')['href'])\n",
    "    else:\n",
    "        if x.find('h4',{'class': 'title'}) is not None:\n",
    "            news_urls.append(x.find('h4',{'class': 'title'}).find('a')['href'])\n",
    "            \n",
    "for x in headlines_2:\n",
    "    if x.find('h3',{'class': 'title'}) is not None:\n",
    "        news_urls.append(x.find('h3',{'class': 'title'}).find('a')['href'])\n",
    "    else:\n",
    "        if x.find('h4',{'class': 'title'}) is not None:\n",
    "            news_urls.append(x.find('h4',{'class': 'title'}).find('a')['href'])\n",
    "\n",
    "print(\"Number of headlines: \", len(news_urls))"
   ]
  },
  {
   "cell_type": "markdown",
   "metadata": {},
   "source": [
    "### Scraping the news pages"
   ]
  },
  {
   "cell_type": "code",
   "execution_count": 23,
   "metadata": {},
   "outputs": [
    {
     "name": "stdout",
     "output_type": "stream",
     "text": [
      "URL:  https://mb.com.ph/2021/03/31/fil-am-woman-attacked-in-nyc-security-guard-shuts-doors-on-her/\n",
      "\n",
      "Headline:  Fil-Am woman attacked in NYC, security guard shuts doors on her\n",
      "\n",
      "Author:  Jaleen Ramos\n",
      "\n",
      "Date:  March 31, 2021, 9:10 AM\n",
      "\n",
      "Article Body: \n",
      " An elderly Filipina immigrant was randomly attacked in Midtown Manhattan in New York City on Monday, the latest in the string of violent attacks against Asian Americans.\n",
      "The 65-year-old Filipino woman was walking along 360 West 43rd Street on Monday when a man approached her and suddenly kicked her multiple times, according to the report by the New York Police District (NYPD).\n",
      "Authorities said the attacker “made anti-Asian statements” towards the victim as he kicked her and shouted “F*ck you. You don’t belong here.”\n",
      "In a video circulated online, bystanders who were on the scene just watched without intervening.\n",
      "A security guard from inside an adjacent building where the incident happened also failed to aid the woman and even closed the door.\n",
      "The victim, whose identity has not been released, was hospitalized with multiple injuries and suffered a fractured pelvis.\n",
      "Authorities have yet to identify the attacker and appealed to those with information to come forward.New York Governor Andrew Cuomo said the violence was becoming “an epidemic” across the country that “must stop now.”\n",
      "New York City Mayor Bill de Blasio called on anyone who witnesses an attack to “literally shout” to disturb the aggressor and attract attention.\n",
      "The NYPD has already stepped up its presence in neighborhoods with high Asian immigrant populations while volunteer groups have formed safety patrols.\n",
      "Several demonstrations expressing solidarity with Asian-American communities have also taken place. They have been attended by New York mayoral candidates and the Reverend Al Sharpton, the influential Black rights activist.\n",
      "New York has more than one million inhabitants of Asian descent.\n",
      "In the week of March 15 to 21, police recorded a total of nine hate crimes, up from three in the same period of 2020. (With a report from Agence France-Presse)\n",
      "\n"
     ]
    }
   ],
   "source": [
    "curr_url = news_urls[0]\n",
    "curr_page = requests.get(curr_url, headers=headers)\n",
    "curr_soup = BeautifulSoup(curr_page.content, 'html.parser')\n",
    "\n",
    "# parsing the page\n",
    "headline = curr_soup.find('h2',{'class':'title'}).text.strip()\n",
    "author = curr_soup.find('div',{'class':'meta'}).find('p',{'class':'author'}).text.strip()\n",
    "date = curr_soup.find('div',{'class':'meta'}).find('p',{'class':'published'}).text.strip()\n",
    "\n",
    "body = ''\n",
    "body_parts = curr_soup.find('section',{'class':'article-content'}).find_all('p')\n",
    "\n",
    "for p in body_parts:\n",
    "    body += p.text.strip() + '\\n'\n",
    "\n",
    "print(\"URL: \", curr_url)\n",
    "print(\"\\nHeadline: \", headline)\n",
    "print(\"\\nAuthor: \", author[3:])\n",
    "print(\"\\nDate: \", date[10:])\n",
    "print(\"\\nArticle Body: \\n\", body)"
   ]
  },
  {
   "cell_type": "code",
   "execution_count": 24,
   "metadata": {},
   "outputs": [
    {
     "name": "stdout",
     "output_type": "stream",
     "text": [
      "[SCRAPING] URL:  https://mb.com.ph/2021/03/31/fil-am-woman-attacked-in-nyc-security-guard-shuts-doors-on-her/\n",
      "DONE. DELAY:  10\n",
      "[SCRAPING] URL:  https://mb.com.ph/2021/04/05/no-extension-after-all-april-15-deadline-for-2020-itr-filing-stays-says-bir/\n",
      "DONE. DELAY:  13\n",
      "[SCRAPING] URL:  https://mb.com.ph/2021/04/05/defensor-to-give-away-ivermectin-to-qc-residents-for-free/\n",
      "DONE. DELAY:  11\n",
      "[SCRAPING] URL:  https://mb.com.ph/2021/04/05/doh-fda-do-not-recommend-use-of-ivermectin-for-covid-19-treatment/\n",
      "DONE. DELAY:  15\n",
      "[SCRAPING] URL:  https://mb.com.ph/2021/04/05/who-delivery-of-astrazeneca-vaccines-from-covax-may-be-delayed/\n",
      "DONE. DELAY:  19\n",
      "[SCRAPING] URL:  https://mb.com.ph/2021/04/05/doh-fda-deny-profiting-from-remdesivir-tocilizumab-use/\n",
      "DONE. DELAY:  15\n",
      "[SCRAPING] URL:  https://mb.com.ph/2021/04/05/mayor-tiangco-household-lockdown-is-a-good-plan-but-how-do-you-implement-it/\n",
      "DONE. DELAY:  12\n",
      "[SCRAPING] URL:  https://mb.com.ph/2021/04/05/start-of-something-good-dar-links-pangasinan-squash-kamote-farmers-to-enutribun-producer/\n",
      "DONE. DELAY:  15\n",
      "[SCRAPING] URL:  https://mb.com.ph/2021/04/05/avoid-rapid-tests-ph-red-cross-reminds-public-to-choose-rt-pcr-for-saliva-based-covid-19-testing/\n",
      "DONE. DELAY:  20\n",
      "[SCRAPING] URL:  https://mb.com.ph/2021/04/05/number-of-residents-willing-to-be-vaccinated-doubles-in-navotas/\n",
      "DONE. DELAY:  13\n",
      "[SCRAPING] URL:  https://mb.com.ph/2021/04/05/covid-19-poses-challenge-to-phs-healthcare-system-dost-funded-study/\n",
      "DONE. DELAY:  20\n",
      "[SCRAPING] URL:  https://mb.com.ph/2021/04/05/use-of-oxygen-tank-at-home-should-be-supervised-by-a-doctor-doh/\n",
      "DONE. DELAY:  14\n",
      "[SCRAPING] URL:  https://mb.com.ph/2021/04/05/bi-gives-stern-warning-to-foreigners-who-break-iatf-rules/\n",
      "DONE. DELAY:  19\n",
      "[SCRAPING] URL:  https://mb.com.ph/2021/04/05/doh-fda-chinese-drug-lianhua-qingwen-not-registered-as-covid-19-medication/\n",
      "DONE. DELAY:  20\n",
      "[SCRAPING] URL:  https://mb.com.ph/2021/04/05/go-holistic-approach-needed-to-curb-rise-in-covid-19-cases/\n",
      "DONE. DELAY:  15\n",
      "[SCRAPING] URL:  https://mb.com.ph/2021/04/05/tiangco-to-get-sinovac-vaccine-with-a-heavy-heart/\n",
      "DONE. DELAY:  13\n",
      "[SCRAPING] URL:  https://mb.com.ph/2021/04/05/lotto-digit-games-operations-remain-suspended-in-ecq-areas-pcso/\n",
      "DONE. DELAY:  12\n",
      "[SCRAPING] URL:  https://mb.com.ph/2021/04/05/covid-19-virus-spreading-in-ph-three-to-nine-times-more-contagious-doh/\n",
      "DONE. DELAY:  13\n",
      "[SCRAPING] URL:  https://mb.com.ph/2021/04/05/police-sarge-caught-in-anti-illegal-cockfighting-operation-in-iloilo/\n",
      "DONE. DELAY:  17\n",
      "[SCRAPING] URL:  https://mb.com.ph/2021/04/05/palace-to-philhealth-make-prompt-payment-of-hospital-claims/\n",
      "DONE. DELAY:  14\n",
      "[SCRAPING] URL:  https://mb.com.ph/2021/04/05/sec-guevarra-suggests-no-prison-term-or-fine-for-ecq-violators-in-ncr/\n",
      "DONE. DELAY:  18\n",
      "[SCRAPING] URL:  https://mb.com.ph/2021/04/05/binay-backs-doctors-groups-call-to-convert-hotels-into-temporary-hospital-facilities/\n",
      "DONE. DELAY:  19\n",
      "[SCRAPING] URL:  https://mb.com.ph/2021/04/05/9-rescued-as-motor-launch-loaded-with-gasoline-explodes/\n",
      "DONE. DELAY:  12\n",
      "[SCRAPING] URL:  https://mb.com.ph/2021/04/05/calls-for-covid-19-mass-testing-ok-if-funds-available-dilg-mum-on-idea/\n",
      "DONE. DELAY:  15\n",
      "[SCRAPING] URL:  https://mb.com.ph/2021/04/05/dost-provides-financial-aid-to-students-engaged-in-agritech-startups/\n",
      "DONE. DELAY:  12\n",
      "[SCRAPING] URL:  https://mb.com.ph/2021/04/05/7000-pinoys-lose-jobs-in-a-matter-of-days-dole-figures-show/\n",
      "DONE. DELAY:  18\n",
      "[SCRAPING] URL:  https://mb.com.ph/2021/04/05/widow-found-dead-with-multiple-stab-wounds-in-pangasinan/\n",
      "DONE. DELAY:  19\n",
      "\n",
      "Articles scraped:  27\n"
     ]
    }
   ],
   "source": [
    "# actual scraping\n",
    "\n",
    "mb_news = []\n",
    "\n",
    "for x in news_urls:\n",
    "    print(\"[SCRAPING] URL: \", x)\n",
    "    \n",
    "    curr_url = x\n",
    "    curr_page = requests.get(curr_url, headers=headers)\n",
    "    curr_soup = BeautifulSoup(curr_page.content, 'html.parser')\n",
    "\n",
    "    headline = curr_soup.find('h2',{'class':'title'}).text.strip()\n",
    "    author = curr_soup.find('div',{'class':'meta'}).find('p',{'class':'author'}).text.strip()\n",
    "    date = curr_soup.find('div',{'class':'meta'}).find('p',{'class':'published'}).text.strip()\n",
    "\n",
    "    body = ''\n",
    "    body_parts = curr_soup.find('section',{'class':'article-content'}).find_all('p')\n",
    "\n",
    "    for p in body_parts:\n",
    "        body += p.text.strip() + '\\n'\n",
    "        \n",
    "    mb_news.append({\n",
    "        'source': curr_url,\n",
    "        'date': date[10:],\n",
    "        'title': headline,\n",
    "        'article_body': body,\n",
    "        'author': author[3:]\n",
    "    })\n",
    "    \n",
    "    rand_delay = random.randint(10,20)\n",
    "    print(\"DONE. DELAY: \", rand_delay)\n",
    "    time.sleep(rand_delay)\n",
    "    \n",
    "print(\"\\nArticles scraped: \", len(mb_news))"
   ]
  },
  {
   "cell_type": "code",
   "execution_count": 25,
   "metadata": {},
   "outputs": [
    {
     "name": "stdout",
     "output_type": "stream",
     "text": [
      "Index:  15\n",
      "\n",
      "Source:  https://mb.com.ph/2021/04/05/tiangco-to-get-sinovac-vaccine-with-a-heavy-heart/\n",
      "\n",
      "Title:  Tiangco to get Sinovac vaccine ‘with a heavy heart’\n",
      "\n",
      "Author:  Joseph Pedrajas\n",
      "\n",
      "Date:  April 5, 2021, 5:55 PM\n",
      "\n",
      "Article body: \n",
      " Navotas City Mayor Toby Tiangco said Monday he will take the Chinese Sinovac vaccine “with a heavy heart” as Metro Manila mayors started getting vaccinated amid rising cases of coronavirus disease (COVID-19) in the country.\n",
      "Tiangco explained in an ANC interview that his reservations on getting the Chinese vaccine were not because of its “medical efficacy” but because of the Philippines’ issue with China on the West Philippine Sea.\n",
      "“I don’t know if it’s a wrong sense of patriotism, it could be wrong, ‘yung issue kasi doon sa (but the issue on) West Philippine Sea… parang papasukin namin ‘yung West Philippine Sea, hindi naman kayo makaka-angal kasi nagbibigay kami ng bakuna eh (For me it’s like they could occupy the West Philippine Sea since we could not object because they’re giving us vaccines),” he said.\n",
      "“Kung umangal kayo, e di ihinto namin ‘yung bakuna. Parang ganoon lang ‘yung dating sakin eh (If you object against our presence on the West Philippine Sea, then we might stop supplying you the vaccine. That’s how I perceive it),” he added.\n",
      "Tiangco also praised Defense Secretary Delfin Lorenzana, who also chairs the country’s national task force on COVID-19, for being able to speak out against the presence of Chinese vessels on the West Philippine Sea.\n",
      "“I appreciate very much na pumapalag s’ya (that he spoke out),” he said, “Pero… pwede nilang ipitin unti-unti ‘yung bakuna eh (But you know, China may gradually limit the supply of the vaccine to us). That’s my own personal opinion.”\n",
      "Tiangco admitted that he feels “prostituted about it,” although he still “will proceed” to show his constituents that “it’s safe.”\n",
      "In January, Tiangco admitted he feared getting the Sinovac vaccine although he did not give any explanation about it. He also maintained that people can be picky with the COVID-19 vaccine brand that they would get.\n",
      "\n"
     ]
    }
   ],
   "source": [
    "# sanity check\n",
    "\n",
    "article_no = random.randint(0,len(mb_news)-1)\n",
    "\n",
    "print('Index: ', article_no)\n",
    "print('\\nSource: ', mb_news[article_no]['source'])\n",
    "print(\"\\nTitle: \", mb_news[article_no]['title'])\n",
    "print(\"\\nAuthor: \", mb_news[article_no]['author'])\n",
    "print(\"\\nDate: \", mb_news[article_no]['date'])\n",
    "print(\"\\nArticle body: \\n\", mb_news[article_no]['article_body'])"
   ]
  },
  {
   "cell_type": "code",
   "execution_count": 26,
   "metadata": {},
   "outputs": [],
   "source": [
    "# write to file\n",
    "with open('mb_news.json', 'w') as file:\n",
    "    json.dump(mb_news, file, indent=4)"
   ]
  },
  {
   "cell_type": "markdown",
   "metadata": {},
   "source": [
    "## Using API for The Guardian"
   ]
  },
  {
   "cell_type": "code",
   "execution_count": 27,
   "metadata": {},
   "outputs": [
    {
     "name": "stdout",
     "output_type": "stream",
     "text": [
      "50\n",
      "{'id': 'news/2021/apr/04/corrections-and-clarifications', 'type': 'article', 'sectionId': 'news', 'sectionName': 'News', 'webPublicationDate': '2021-04-04T20:00:16Z', 'webTitle': 'Corrections and clarifications', 'webUrl': 'https://www.theguardian.com/news/2021/apr/04/corrections-and-clarifications', 'apiUrl': 'https://content.guardianapis.com/news/2021/apr/04/corrections-and-clarifications', 'isHosted': False, 'pillarId': 'pillar/news', 'pillarName': 'News'}\n"
     ]
    }
   ],
   "source": [
    "# get the key from local file\n",
    "API_KEY = ''\n",
    "with open('key.txt', 'r') as file:\n",
    "    API_KEY = file.read()\n",
    "\n",
    "# get 50 articles\n",
    "results = requests.get(\"https://content.guardianapis.com/search?api-key=\" + API_KEY + \"&section=news&page-size=50\")\n",
    "articles = json.loads(results.text)\n",
    "print(len(articles['response']['results']))\n",
    "\n",
    "print(articles['response']['results'][0])"
   ]
  },
  {
   "cell_type": "code",
   "execution_count": 28,
   "metadata": {
    "scrolled": true
   },
   "outputs": [
    {
     "name": "stdout",
     "output_type": "stream",
     "text": [
      "{'id': 'news/2021/apr/04/corrections-and-clarifications', 'type': 'article', 'sectionId': 'news', 'sectionName': 'News', 'webPublicationDate': '2021-04-04T20:00:16Z', 'webTitle': 'Corrections and clarifications', 'webUrl': 'https://www.theguardian.com/news/2021/apr/04/corrections-and-clarifications', 'apiUrl': 'https://content.guardianapis.com/news/2021/apr/04/corrections-and-clarifications', 'tags': [{'id': 'profile/editor-of-the-corrections-and-clarifications-column', 'type': 'contributor', 'webTitle': 'Corrections and clarifications column editor', 'webUrl': 'https://www.theguardian.com/profile/editor-of-the-corrections-and-clarifications-column', 'apiUrl': 'https://content.guardianapis.com/profile/editor-of-the-corrections-and-clarifications-column', 'references': [], 'firstName': 'editor', 'lastName': 'ofthecorrectionsandclarificationscolumn'}], 'blocks': {'body': [{'id': '5e74af488f085c6327bc3b4f', 'bodyHtml': '<p>• An article about city traffic (<a href=\"https://www.theguardian.com/news/2021/mar/25/traffic-wars-who-will-win-the-battle-for-city-streets\" title=\"\">The long read: To the barricades</a>, 25 March, page 5, Journal) said 15 pedestrians and cyclists were killed on London’s Kensington High Street in the last three years; that is the number who were seriously injured. Also, mention was made of a 1939 plan to create national cycle routes, but some already existed then.</p> <p>• We mistakenly reprinted an old Doonesbury cartoon in Friday’s G2 (page 12). The strip we meant to publish can be found at <a href=\"http://theguardian.com/doonesbury2803\" title=\"\">theguardian.com/doonesbury2803</a>.</p>', 'bodyTextSummary': '• An article about city traffic (The long read: To the barricades, 25 March, page 5, Journal) said 15 pedestrians and cyclists were killed on London’s Kensington High Street in the last three years; that is the number who were seriously injured. Also, mention was made of a 1939 plan to create national cycle routes, but some already existed then. • We mistakenly reprinted an old Doonesbury cartoon in Friday’s G2 (page 12). The strip we meant to publish can be found at theguardian.com/doonesbury2803.', 'attributes': {}, 'published': True, 'createdDate': '2020-03-20T11:55:52Z', 'lastModifiedDate': '2021-04-02T16:31:34Z', 'contributors': [], 'elements': [{'type': 'text', 'assets': [], 'textTypeData': {'html': '<p>• An article about city traffic (<a href=\"https://www.theguardian.com/news/2021/mar/25/traffic-wars-who-will-win-the-battle-for-city-streets\" title=\"\">The long read: To the barricades</a>, 25 March, page 5, Journal) said 15 pedestrians and cyclists were killed on London’s Kensington High Street in the last three years; that is the number who were seriously injured. Also, mention was made of a 1939 plan to create national cycle routes, but some already existed then.</p> \\n<p>• We mistakenly reprinted an old Doonesbury cartoon in Friday’s G2 (page 12). The strip we meant to publish can be found at <a href=\"http://theguardian.com/doonesbury2803\" title=\"\">theguardian.com/doonesbury2803</a>.</p>'}}]}], 'totalBodyBlocks': 1}, 'isHosted': False, 'pillarId': 'pillar/news', 'pillarName': 'News'}\n"
     ]
    }
   ],
   "source": [
    "# get the author and the text as well\n",
    "results = requests.get(\"https://content.guardianapis.com/search?api-key=\" + API_KEY + \"&section=news&page-size=50&show-tags=contributor&show-blocks=body\")\n",
    "# Access time: 03-27-2021, 0047\n",
    "articles = json.loads(results.text)\n",
    "print(articles['response']['results'][0])"
   ]
  },
  {
   "cell_type": "code",
   "execution_count": 31,
   "metadata": {},
   "outputs": [
    {
     "name": "stdout",
     "output_type": "stream",
     "text": [
      "• An article about city traffic (The long read: To the barricades, 25 March, page 5, Journal) said 15 pedestrians and cyclists were killed on London’s Kensington High Street in the last three years; that is the number who were seriously injured. Also, mention was made of a 1939 plan to create national cycle routes, but some already existed then. • We mistakenly reprinted an old Doonesbury cartoon in Friday’s G2 (page 12). The strip we meant to publish can be found at theguardian.com/doonesbury2803.\n"
     ]
    }
   ],
   "source": [
    "# get the article text according to the docs\n",
    "print(articles['response']['results'][0]['blocks']['body'][0]['bodyTextSummary'])\n",
    "test = articles"
   ]
  },
  {
   "cell_type": "code",
   "execution_count": 32,
   "metadata": {},
   "outputs": [
    {
     "name": "stdout",
     "output_type": "stream",
     "text": [
      "URL:  https://www.theguardian.com/news/2021/apr/02/corrections-and-clarifications\n",
      "\n",
      "Headline:  Corrections and clarifications\n",
      "\n",
      "Author:  ['Corrections and clarifications column editor']\n",
      "\n",
      "Date:  2021-04-02T20:00:18Z\n",
      "\n",
      "Article Body: \n",
      " • The photo featuring a railway viaduct that accompanied a travel article about surprising villages did not show the “view across Morecambe Bay towards … Arnside”, as claimed in the caption; it was of the Leven viaduct, a few miles away from the Kent viaduct that approaches Arnside. A second photo mistakenly described the Youlgrave water tank, dated 1829, as Victorian. And we are pleased to say decorative tiles are still made in Jackfield, contrary to what the article said (Small wonders, 27 March, page 58). • Other recently amended articles include: Grenfell expert witness is father of council’s head of fire safety ‘A game of two halves’: how Bristol protest went from calm to mayhem Senior policing figures fear further violence after Bristol ‘kill the bill’ protest Brit awards nominations 2021: Dua Lipa, Arlo Parks and Celeste lead improved field for women Rihanna’s 30 greatest singles – ranked! What is allowed under Covid lockdown rules around the UK? ‘Like champagne, mate’: how a US kangaroo ban could kill off an Indigenous opportunity 2021 in books: what to look forward to this year The Guardian view on autism awareness: recognising diverse talents – and needs\n"
     ]
    }
   ],
   "source": [
    "# filter out other article types (e.g. liveblogs)\n",
    "articles = list(filter(lambda x: x['type'] == 'article', test['response']['results']))\n",
    "\n",
    "# parsing the json\n",
    "url = articles[3]['webUrl']\n",
    "headline = articles[3]['webTitle']\n",
    "author = []\n",
    "\n",
    "for x in articles[3]['tags']:\n",
    "    if x['type'] != 'contributor':\n",
    "        continue\n",
    "    author.append(x['webTitle'])\n",
    "\n",
    "date = articles[3]['webPublicationDate']\n",
    "body = articles[3]['blocks']['body'][0]['bodyTextSummary']\n",
    "\n",
    "print(\"URL: \", url)\n",
    "print(\"\\nHeadline: \", headline)\n",
    "print(\"\\nAuthor: \", author)\n",
    "print(\"\\nDate: \", date)\n",
    "print(\"\\nArticle Body: \\n\", body)"
   ]
  },
  {
   "cell_type": "code",
   "execution_count": 33,
   "metadata": {},
   "outputs": [
    {
     "name": "stdout",
     "output_type": "stream",
     "text": [
      "Corrections and clarifications\n",
      "• The photo featuring a railway viaduct that accompanied a travel article about surprising villages did not show the “view across Morecambe Bay towards … Arnside”, as claimed in the caption; it was of the Leven viaduct, a few miles away from the Kent viaduct that approaches Arnside. A second photo mistakenly described the Youlgrave water tank, dated 1829, as Victorian. And we are pleased to say decorative tiles are still made in Jackfield, contrary to what the article said (Small wonders, 27 March, page 58). • Other recently amended articles include: Grenfell expert witness is father of council’s head of fire safety ‘A game of two halves’: how Bristol protest went from calm to mayhem Senior policing figures fear further violence after Bristol ‘kill the bill’ protest Brit awards nominations 2021: Dua Lipa, Arlo Parks and Celeste lead improved field for women Rihanna’s 30 greatest singles – ranked! What is allowed under Covid lockdown rules around the UK? ‘Like champagne, mate’: how a US kangaroo ban could kill off an Indigenous opportunity 2021 in books: what to look forward to this year The Guardian view on autism awareness: recognising diverse talents – and needs\n"
     ]
    }
   ],
   "source": [
    "# clean the body & headline\n",
    "body.replace(\"â€™\", \"'\").replace(\"â€œ\", \"\\\"\").replace(\"â€�\", \"\\\"\").replace(\"â€¢\", \"*\").replace(\"Ã©\", \"e\").replace(\"Ã¼\", \"u\").replace(\"â€“\", \"-\")\n",
    "headline.replace(\"â€™\", \"'\").replace(\"â€œ\", \"\\\"\").replace(\"â€�\", \"\\\"\").replace(\"â€¢\", \"*\").replace(\"Ã©\", \"e\").replace(\"Ã¼\", \"u\").replace(\"â€“\", \"-\")\n",
    "\n",
    "print(headline)\n",
    "print(body)"
   ]
  },
  {
   "cell_type": "code",
   "execution_count": 34,
   "metadata": {},
   "outputs": [
    {
     "name": "stdout",
     "output_type": "stream",
     "text": [
      "49\n"
     ]
    }
   ],
   "source": [
    "guardian_news = []\n",
    "\n",
    "for x in articles:\n",
    "    curr_url = x['webUrl']\n",
    "    headline = x['webTitle']\n",
    "    author = []\n",
    "\n",
    "    for y in x['tags']:\n",
    "        if y['type'] != 'contributor':\n",
    "            continue\n",
    "        author.append(y['webTitle'])\n",
    "\n",
    "    date = x['webPublicationDate']\n",
    "    body = x['blocks']['body'][0]['bodyTextSummary']\n",
    "    body.replace(\"â€™\", \"'\").replace(\"â€œ\", \"\\\"\").replace(\"â€�\", \"\\\"\").replace(\"â€¢\", \"*\").replace(\"Ã©\", \"e\").replace(\"Ã¼\", \"u\").replace(\"â€“\", \"-\")\n",
    "    headline.replace(\"â€™\", \"'\").replace(\"â€œ\", \"\\\"\").replace(\"â€�\", \"\\\"\").replace(\"â€¢\", \"*\").replace(\"Ã©\", \"e\").replace(\"Ã¼\", \"u\").replace(\"â€“\", \"-\")\n",
    "    \n",
    "    guardian_news.append({\n",
    "        'source': curr_url,\n",
    "        'date': date,\n",
    "        'title': headline,\n",
    "        'article_body': body,\n",
    "        'author': author\n",
    "    })\n",
    "    \n",
    "print(len(guardian_news))"
   ]
  },
  {
   "cell_type": "code",
   "execution_count": 35,
   "metadata": {},
   "outputs": [],
   "source": [
    "# write to file\n",
    "with open('guardian_news.json', 'w') as file:\n",
    "    json.dump(guardian_news, file, indent=4)"
   ]
  },
  {
   "cell_type": "code",
   "execution_count": null,
   "metadata": {},
   "outputs": [],
   "source": []
  }
 ],
 "metadata": {
  "kernelspec": {
   "display_name": "Python 3",
   "language": "python",
   "name": "python3"
  },
  "language_info": {
   "codemirror_mode": {
    "name": "ipython",
    "version": 3
   },
   "file_extension": ".py",
   "mimetype": "text/x-python",
   "name": "python",
   "nbconvert_exporter": "python",
   "pygments_lexer": "ipython3",
   "version": "3.7.4"
  }
 },
 "nbformat": 4,
 "nbformat_minor": 2
}
