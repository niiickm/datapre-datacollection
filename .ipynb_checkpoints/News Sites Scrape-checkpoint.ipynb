{
 "cells": [
  {
   "cell_type": "markdown",
   "metadata": {},
   "source": [
    "# Scraping from 3 different news sites"
   ]
  },
  {
   "cell_type": "markdown",
   "metadata": {},
   "source": [
    "**Datetime:** 03-26-2021 1600\n",
    "\n",
    "**Sites:** \n",
    "    - Inquirer (Crawl delay: 5)\n",
    "    - Manila Bulletin (Crawl delay: unspecified, use random between 10-20)\n",
    "    - The Guardian (Using API)"
   ]
  },
  {
   "cell_type": "markdown",
   "metadata": {},
   "source": [
    "## Imports"
   ]
  },
  {
   "cell_type": "code",
   "execution_count": 1,
   "metadata": {},
   "outputs": [],
   "source": [
    "import requests\n",
    "import json\n",
    "import time\n",
    "import random\n",
    "from bs4 import BeautifulSoup"
   ]
  },
  {
   "cell_type": "markdown",
   "metadata": {},
   "source": [
    "## Scraping from Inquirer"
   ]
  },
  {
   "cell_type": "markdown",
   "metadata": {},
   "source": [
    "### Getting the latest news links"
   ]
  },
  {
   "cell_type": "code",
   "execution_count": 3,
   "metadata": {},
   "outputs": [],
   "source": [
    "URL = \"https://www.inquirer.net/latest-stories\"\n",
    "headers = {'User-agent' : '*'}\n",
    "page = requests.get(URL, headers=headers) # Access time: 03-26-2021, 1644\n",
    "soup = BeautifulSoup(page.content, 'html.parser')"
   ]
  },
  {
   "cell_type": "code",
   "execution_count": 5,
   "metadata": {
    "scrolled": true
   },
   "outputs": [
    {
     "name": "stdout",
     "output_type": "stream",
     "text": [
      "<div id=\"al-box\">\n",
      "<div id=\"al-time\">POP - 4:38 PM</div>\n",
      "<h2><a href=\"https://pop.inquirer.net/107813/this-teacher-took-his-class-on-a-virtual-field-trip-to-the-zoo\">This teacher took his class on a virtual field trip to the zoo</a></h2>\n",
      "</div>\n"
     ]
    }
   ],
   "source": [
    "container = soup.find(id='al-wrap')\n",
    "headlines = container.find_all(id='al-box')\n",
    "# Sanity Check\n",
    "print(headlines[0])"
   ]
  },
  {
   "cell_type": "code",
   "execution_count": 6,
   "metadata": {
    "scrolled": true
   },
   "outputs": [
    {
     "name": "stdout",
     "output_type": "stream",
     "text": [
      "Index  0  Content:\n",
      " \n",
      "\n",
      "Index  1  Content:\n",
      " <div id=\"al-time\">POP - 4:38 PM</div>\n",
      "Index  2  Content:\n",
      " \n",
      "\n",
      "Index  3  Content:\n",
      " <h2><a href=\"https://pop.inquirer.net/107813/this-teacher-took-his-class-on-a-virtual-field-trip-to-the-zoo\">This teacher took his class on a virtual field trip to the zoo</a></h2>\n",
      "Index  4  Content:\n",
      " \n",
      "\n",
      "----------\n",
      "Index  0  Content:\n",
      " <a href=\"https://pop.inquirer.net/107813/this-teacher-took-his-class-on-a-virtual-field-trip-to-the-zoo\">This teacher took his class on a virtual field trip to the zoo</a>\n",
      "----------\n",
      "\n",
      "Type - time:  POP - 4:38 PM\n",
      "\n",
      "Headline:  This teacher took his class on a virtual field trip to the zoo\n",
      "\n",
      "URL:  https://pop.inquirer.net/107813/this-teacher-took-his-class-on-a-virtual-field-trip-to-the-zoo\n"
     ]
    }
   ],
   "source": [
    "# parse content\n",
    "\n",
    "for idx in range(len(headlines[0].contents)):\n",
    "    print(\"Index \", idx, \" Content:\\n\", headlines[0].contents[idx])\n",
    "\n",
    "print(\"----------\")    \n",
    "for idx in range(len(headlines[0].contents[3].contents)):\n",
    "    print(\"Index \", idx, \" Content:\\n\", headlines[0].contents[3].contents[idx])\n",
    "\n",
    "    \n",
    "print(\"----------\")\n",
    "print(\"\\nType - time: \", headlines[0].contents[1].text.strip())\n",
    "print(\"\\nHeadline: \", headlines[0].contents[3].contents[0].text.strip())\n",
    "print(\"\\nURL: \", headlines[0].contents[3].contents[0]['href'])"
   ]
  },
  {
   "cell_type": "code",
   "execution_count": 11,
   "metadata": {
    "scrolled": true
   },
   "outputs": [
    {
     "name": "stdout",
     "output_type": "stream",
     "text": [
      "['https://newsinfo.inquirer.net/1411623/sc-confirms-another-justice-to-retire-for-health-reasons', 'https://newsinfo.inquirer.net/1411718/phs-covid-19-cases-top-700000-as-doh-reports-about-10000-new-infections', 'https://newsinfo.inquirer.net/1411705/thailand-faces-meth-trafficking-surge-after-myanmar-coup', 'https://newsinfo.inquirer.net/1411707/covid-19-hits-over-15000-health-workers-doh', 'https://newsinfo.inquirer.net/1411686/bureau-of-immigration-warns-public-against-online-scammers', 'https://newsinfo.inquirer.net/1411690/ched-six-heis-partner-with-lgus-to-serve-as-vaccination-centers', 'https://newsinfo.inquirer.net/1411680/solon-seeks-instant-sanctions-for-govt-execs-who-skipped-vaccine-priority-list', 'https://newsinfo.inquirer.net/1411696/zambales-mayor-tests-positive-for-covid-19', 'https://newsinfo.inquirer.net/1411643/thailand-urges-calm-after-death-of-covid-19-vaccine-recipient', 'https://newsinfo.inquirer.net/1411677/covid-19-icu-occupancy-rate-nearing-moderate-risk-treatment-czar', 'https://newsinfo.inquirer.net/1411670/duque-to-recommend-elevating-ofws-spot-in-covid-19-vaccine-priority-list', 'https://newsinfo.inquirer.net/1411666/ched-allows-24-colleges-universities-to-hold-limited-in-person-classes', 'https://newsinfo.inquirer.net/1411659/taiwan-us-to-strengthen-maritime-coordination-after-china-law', 'https://newsinfo.inquirer.net/1411656/allow-local-health-execs-to-give-next-priority-group-unused-vaccines-villanueva', 'https://newsinfo.inquirer.net/1411654/missile-test-propels-north-korea-to-top-of-bidens-foreign-agenda', 'https://newsinfo.inquirer.net/1411652/new-zealands-catholic-church-apologizes-to-survivors-of-abuse', 'https://newsinfo.inquirer.net/1411645/as-ph-ranking-in-happiness-index-drops-palace-pins-hope-on-vaccines', 'https://newsinfo.inquirer.net/1411638/amid-line-jumpers-drilon-says-govt-should-ramp-up-vaccine-supply', 'https://newsinfo.inquirer.net/1411626/active-covid-19-cases-in-quezon-city-now-more-than-7800', 'https://newsinfo.inquirer.net/1411625/owwa-492000-ofws-repatriated-since-start-of-pandemic', 'https://newsinfo.inquirer.net/1411624/doh-depression-a-comorbidity-but-current-covid-vaccine-supply-reserved-for-health-frontliners', 'https://newsinfo.inquirer.net/1411615/7-others-mayors-1-councilor-may-also-get-show-cause-orders-for-jumping-vaccination-line', 'https://newsinfo.inquirer.net/1411618/dti-nixes-extension-of-gcq-bubble-beyond-april-4', 'https://newsinfo.inquirer.net/1411613/iatf-allows-prc-to-conduct-licensure-exams-in-may-june-palace', 'https://newsinfo.inquirer.net/1411611/new-york-poised-to-legalize-marijuana-as-lawmakers-agree-on-terms-reports', 'https://newsinfo.inquirer.net/1411592/makabayan-bloc-seeks-probe-on-red-tagging-of-mandaluyong-judge', 'https://newsinfo.inquirer.net/1411557/2-drug-suspects-dead-in-cavite-busts-75-alleged-pushers-held', 'https://newsinfo.inquirer.net/1411576/2-drug-suspects-slain-in-shootout-with-bulacan-cops', 'https://newsinfo.inquirer.net/1411597/healthcare-workers-in-ncr-bubble-cebu-davao-to-get-400000-sinovac-vaccines', 'https://newsinfo.inquirer.net/1411588/1921-hurdle-2021-medical-technology-licensure-exam-pangasinan-grad-is-topnotcher', 'https://newsinfo.inquirer.net/1411591/govt-oks-once-a-day-church-gatherings-of-10-percent-capacity-for-holy-week', 'https://newsinfo.inquirer.net/1411584/cbcp-seeks-clearance-to-hold-holy-week-church-gatherings-at-10-capacity', 'https://newsinfo.inquirer.net/1411582/deped-vows-action-against-those-responsible-for-superspreader-seminars-in-zambales', 'https://newsinfo.inquirer.net/1411575/kabataan-party-list-files-manifestation-of-intent-to-join-2022-polls', 'https://newsinfo.inquirer.net/1411568/dilg-should-at-least-reprimand-local-execs-who-jumped-covid-vax-line-mayor', 'https://newsinfo.inquirer.net/1411567/doh-tracking-down-health-workers-in-covid-19-vax-priority-list-spox', 'https://newsinfo.inquirer.net/1411570/manila-eyes-to-vaccinate-1700-frontline-workers-on-friday', 'https://newsinfo.inquirer.net/1411561/actors-covid-19-vaccination-inappropriate-says-marikina-city-mayor', 'https://newsinfo.inquirer.net/1411554/lacson-slams-malicious-photo-as-dirty-hatchet-job', 'https://newsinfo.inquirer.net/1411553/canada-calling-hong-kong-residents-shift-billions-abroad-after-clampdown', 'https://newsinfo.inquirer.net/1411547/taal-volcano-update-alert-level-2-stays-270-volcanic-quakes-recorded-in-24-hours', 'https://newsinfo.inquirer.net/1411545/exposure-to-protection-from-covid-19-essential-for-mayors-job-locsin', 'https://newsinfo.inquirer.net/1411542/marikina-has-nearly-1500-active-covid-19-cases-highest-since-start-of-pandemic-mayor', 'https://newsinfo.inquirer.net/1411538/hot-weather-expected-in-large-part-of-luzon-33-degrees-maximum-in-metro-manila', 'https://newsinfo.inquirer.net/1411535/egypt-shuts-suez-canal-amid-struggle-to-refloat-grounded-megaship', 'https://newsinfo.inquirer.net/1411532/new-york-city-deploying-asian-undercover-force-to-combat-hate-crimes', 'https://newsinfo.inquirer.net/1411529/still-a-mess-trauma-haunts-u-s-mass-shooting-survivors-due-to-gaps-in-mental-healthcare', 'https://newsinfo.inquirer.net/1411526/biden-warns-of-responses-if-north-korea-escalates-but-open-to-diplomacy', 'https://newsinfo.inquirer.net/1411523/u-s-and-britain-blacklist-myanmar-military-controlled-companies']\n"
     ]
    }
   ],
   "source": [
    "# get only of type NEWSINFO\n",
    "\n",
    "news_headlines = []\n",
    "\n",
    "for item in headlines:\n",
    "    if item.contents[1].text.strip().find('NEWSINFO') != -1:\n",
    "        news_headlines.append({\n",
    "            'type': item.contents[1].text.strip(),\n",
    "            'Headline': item.contents[3].contents[0].text.strip(),\n",
    "            'URL': item.contents[3].contents[0]['href']\n",
    "        })\n",
    "\n",
    "news_urls = [item['URL'] for item in news_headlines]\n",
    "\n",
    "# Sanity Check\n",
    "print(news_urls)"
   ]
  },
  {
   "cell_type": "markdown",
   "metadata": {},
   "source": [
    "### Scraping the news pages"
   ]
  },
  {
   "cell_type": "code",
   "execution_count": 63,
   "metadata": {},
   "outputs": [
    {
     "name": "stdout",
     "output_type": "stream",
     "text": [
      "URL:  https://newsinfo.inquirer.net/1411623/sc-confirms-another-justice-to-retire-for-health-reasons\n",
      "\n",
      "Headline:  SC confirms another justice to retire for health reasons\n",
      "\n",
      "Author:  Tetch Torres-Tupas\n",
      "\n",
      "Date:  4:34 PM March 26, 2021\n",
      "\n",
      "Article body: \n",
      " \n",
      "MANILA, Philippines—Supreme Court Associate Justice Edgardo Delos Santos is considering retiring early due to health reasons, Public Information Chief and Spokesperson Atty. Brian Keith Hosaka said Friday.\n",
      "“According to Justice Delos Santos, due to health reasons, he is considering the possibility of retiring ahead of his 70th birthday on 12 June 2022,” Hosaka told reporters.\n",
      "Hosaka said the magistrate had sent a letter to his staff advising them as early as March 19, 2021, to look for other employment, “knowing the difficulty of finding a job during this pandemic.”\n",
      "“Justice Delos Santos further added that he remains an incumbent member of the Supreme Court until after a specific date of retirement, as may be indicated in a formal letter from him to the En Banc, is accepted and acted upon by the Court,” Hosaka added.\n",
      "Since last year, Delos Santos is the third magistrate to opt for early retirement and the second to cite health reasons.\n",
      "In November last year, the high court has accepted the early retirement of Associate Justice Priscilla Baltazar-Padilla. She was supposed to retire in 2028. The high court did not provide details on her reason for early retiring except that she applied for “disability retirement.”\n",
      "On the other hand, Chief Justice Diosdado Peralta has also opted for early retirement. Today is his last day as Chief Justice, as his retirement is on March 27. He was supposed to hang his robe on March 27, 2022. He gave no reason for his decision to retire early.\n",
      "To date, President Rodrigo Duterte has appointed 16 magistrates—three have already retired while two retired early—Padilla and now Ombudsman Samuel Martires.\n",
      "Duterte has also appointed three chief justices—Lucas Bersamin, Teresita Leonardo De Castro, and Peralta.\n",
      "The Judicial and Bar Council has already submitted to the President the names of a possible replacement for Peralta and the fourth chief justice appointed by the President.\n"
     ]
    }
   ],
   "source": [
    "curr_url = news_urls[0]\n",
    "curr_page = requests.get(curr_url, headers=headers)\n",
    "curr_soup = BeautifulSoup(curr_page.content, 'html.parser')\n",
    "\n",
    "# attempt to find format\n",
    "headline = curr_soup.find('h1', {'class':'entry-title'}).text.strip()\n",
    "author = curr_soup.find(id='art_author')['data-byline-strips']\n",
    "date = curr_soup.find(id='art_plat').contents[2]\n",
    "\n",
    "body = ''\n",
    "body_soup = curr_soup.find(id='article_content').contents[1].find_all('p')\n",
    "\n",
    "# remove all children from <p>s found in article content (e.g. advertisments, extenral links)\n",
    "for x in body_soup:\n",
    "    for y in x.find_all():\n",
    "        if len(list(y.parents)) >= 1:\n",
    "            y.extract()\n",
    "    # to remove the caption\n",
    "    if x.has_key('class'):\n",
    "        if x['class'][0] == 'wp-caption-text':\n",
    "            x.extract()\n",
    "\n",
    "for x in body_soup:\n",
    "    #print(\"Index: \", x)\n",
    "    #print(\"\\n\", body_soup[x].text.strip())\n",
    "    if x.text.strip() == 'RELATED STORIES': # cut off of article\n",
    "        break\n",
    "    if x.has_key('class'):\n",
    "        if x['class'][0] == 'corona_article_tracker': # to account for the common paragraphs abt covid-19 in covid related news\n",
    "            break\n",
    "        pass\n",
    "    else:\n",
    "        body += '\\n' + x.text.strip()\n",
    "\n",
    "print('URL: ', curr_url)\n",
    "print(\"\\nHeadline: \", headline)\n",
    "print(\"\\nAuthor: \", author)\n",
    "print(\"\\nDate: \", date[4:])\n",
    "print(\"\\nArticle body: \\n\", body)"
   ]
  },
  {
   "cell_type": "code",
   "execution_count": 66,
   "metadata": {},
   "outputs": [
    {
     "name": "stdout",
     "output_type": "stream",
     "text": [
      "[SCRAPING] URL:  https://newsinfo.inquirer.net/1411623/sc-confirms-another-justice-to-retire-for-health-reasons\n",
      "DONE, NEXT:\n",
      "[SCRAPING] URL:  https://newsinfo.inquirer.net/1411718/phs-covid-19-cases-top-700000-as-doh-reports-about-10000-new-infections\n",
      "DONE, NEXT:\n",
      "[SCRAPING] URL:  https://newsinfo.inquirer.net/1411705/thailand-faces-meth-trafficking-surge-after-myanmar-coup\n",
      "DONE, NEXT:\n",
      "[SCRAPING] URL:  https://newsinfo.inquirer.net/1411707/covid-19-hits-over-15000-health-workers-doh\n",
      "DONE, NEXT:\n",
      "[SCRAPING] URL:  https://newsinfo.inquirer.net/1411686/bureau-of-immigration-warns-public-against-online-scammers\n",
      "DONE, NEXT:\n",
      "[SCRAPING] URL:  https://newsinfo.inquirer.net/1411690/ched-six-heis-partner-with-lgus-to-serve-as-vaccination-centers\n",
      "DONE, NEXT:\n",
      "[SCRAPING] URL:  https://newsinfo.inquirer.net/1411680/solon-seeks-instant-sanctions-for-govt-execs-who-skipped-vaccine-priority-list\n",
      "DONE, NEXT:\n",
      "[SCRAPING] URL:  https://newsinfo.inquirer.net/1411696/zambales-mayor-tests-positive-for-covid-19\n",
      "DONE, NEXT:\n",
      "[SCRAPING] URL:  https://newsinfo.inquirer.net/1411643/thailand-urges-calm-after-death-of-covid-19-vaccine-recipient\n",
      "DONE, NEXT:\n",
      "[SCRAPING] URL:  https://newsinfo.inquirer.net/1411677/covid-19-icu-occupancy-rate-nearing-moderate-risk-treatment-czar\n",
      "DONE, NEXT:\n",
      "[SCRAPING] URL:  https://newsinfo.inquirer.net/1411670/duque-to-recommend-elevating-ofws-spot-in-covid-19-vaccine-priority-list\n",
      "DONE, NEXT:\n",
      "[SCRAPING] URL:  https://newsinfo.inquirer.net/1411666/ched-allows-24-colleges-universities-to-hold-limited-in-person-classes\n",
      "DONE, NEXT:\n",
      "[SCRAPING] URL:  https://newsinfo.inquirer.net/1411659/taiwan-us-to-strengthen-maritime-coordination-after-china-law\n",
      "DONE, NEXT:\n",
      "[SCRAPING] URL:  https://newsinfo.inquirer.net/1411656/allow-local-health-execs-to-give-next-priority-group-unused-vaccines-villanueva\n",
      "DONE, NEXT:\n",
      "[SCRAPING] URL:  https://newsinfo.inquirer.net/1411654/missile-test-propels-north-korea-to-top-of-bidens-foreign-agenda\n",
      "DONE, NEXT:\n",
      "[SCRAPING] URL:  https://newsinfo.inquirer.net/1411652/new-zealands-catholic-church-apologizes-to-survivors-of-abuse\n",
      "DONE, NEXT:\n",
      "[SCRAPING] URL:  https://newsinfo.inquirer.net/1411645/as-ph-ranking-in-happiness-index-drops-palace-pins-hope-on-vaccines\n",
      "DONE, NEXT:\n",
      "[SCRAPING] URL:  https://newsinfo.inquirer.net/1411638/amid-line-jumpers-drilon-says-govt-should-ramp-up-vaccine-supply\n",
      "DONE, NEXT:\n",
      "[SCRAPING] URL:  https://newsinfo.inquirer.net/1411626/active-covid-19-cases-in-quezon-city-now-more-than-7800\n",
      "DONE, NEXT:\n",
      "[SCRAPING] URL:  https://newsinfo.inquirer.net/1411625/owwa-492000-ofws-repatriated-since-start-of-pandemic\n",
      "DONE, NEXT:\n",
      "[SCRAPING] URL:  https://newsinfo.inquirer.net/1411624/doh-depression-a-comorbidity-but-current-covid-vaccine-supply-reserved-for-health-frontliners\n",
      "DONE, NEXT:\n",
      "[SCRAPING] URL:  https://newsinfo.inquirer.net/1411615/7-others-mayors-1-councilor-may-also-get-show-cause-orders-for-jumping-vaccination-line\n",
      "DONE, NEXT:\n",
      "[SCRAPING] URL:  https://newsinfo.inquirer.net/1411618/dti-nixes-extension-of-gcq-bubble-beyond-april-4\n",
      "DONE, NEXT:\n",
      "[SCRAPING] URL:  https://newsinfo.inquirer.net/1411613/iatf-allows-prc-to-conduct-licensure-exams-in-may-june-palace\n",
      "DONE, NEXT:\n",
      "[SCRAPING] URL:  https://newsinfo.inquirer.net/1411611/new-york-poised-to-legalize-marijuana-as-lawmakers-agree-on-terms-reports\n",
      "DONE, NEXT:\n",
      "[SCRAPING] URL:  https://newsinfo.inquirer.net/1411592/makabayan-bloc-seeks-probe-on-red-tagging-of-mandaluyong-judge\n",
      "DONE, NEXT:\n",
      "[SCRAPING] URL:  https://newsinfo.inquirer.net/1411557/2-drug-suspects-dead-in-cavite-busts-75-alleged-pushers-held\n",
      "DONE, NEXT:\n",
      "[SCRAPING] URL:  https://newsinfo.inquirer.net/1411576/2-drug-suspects-slain-in-shootout-with-bulacan-cops\n",
      "DONE, NEXT:\n",
      "[SCRAPING] URL:  https://newsinfo.inquirer.net/1411597/healthcare-workers-in-ncr-bubble-cebu-davao-to-get-400000-sinovac-vaccines\n",
      "DONE, NEXT:\n",
      "[SCRAPING] URL:  https://newsinfo.inquirer.net/1411588/1921-hurdle-2021-medical-technology-licensure-exam-pangasinan-grad-is-topnotcher\n",
      "DONE, NEXT:\n",
      "[SCRAPING] URL:  https://newsinfo.inquirer.net/1411591/govt-oks-once-a-day-church-gatherings-of-10-percent-capacity-for-holy-week\n",
      "DONE, NEXT:\n",
      "[SCRAPING] URL:  https://newsinfo.inquirer.net/1411584/cbcp-seeks-clearance-to-hold-holy-week-church-gatherings-at-10-capacity\n",
      "DONE, NEXT:\n",
      "[SCRAPING] URL:  https://newsinfo.inquirer.net/1411582/deped-vows-action-against-those-responsible-for-superspreader-seminars-in-zambales\n",
      "DONE, NEXT:\n",
      "[SCRAPING] URL:  https://newsinfo.inquirer.net/1411575/kabataan-party-list-files-manifestation-of-intent-to-join-2022-polls\n",
      "DONE, NEXT:\n",
      "[SCRAPING] URL:  https://newsinfo.inquirer.net/1411568/dilg-should-at-least-reprimand-local-execs-who-jumped-covid-vax-line-mayor\n",
      "DONE, NEXT:\n",
      "[SCRAPING] URL:  https://newsinfo.inquirer.net/1411567/doh-tracking-down-health-workers-in-covid-19-vax-priority-list-spox\n",
      "DONE, NEXT:\n",
      "[SCRAPING] URL:  https://newsinfo.inquirer.net/1411570/manila-eyes-to-vaccinate-1700-frontline-workers-on-friday\n",
      "DONE, NEXT:\n",
      "[SCRAPING] URL:  https://newsinfo.inquirer.net/1411561/actors-covid-19-vaccination-inappropriate-says-marikina-city-mayor\n",
      "DONE, NEXT:\n",
      "[SCRAPING] URL:  https://newsinfo.inquirer.net/1411554/lacson-slams-malicious-photo-as-dirty-hatchet-job\n",
      "DONE, NEXT:\n",
      "[SCRAPING] URL:  https://newsinfo.inquirer.net/1411553/canada-calling-hong-kong-residents-shift-billions-abroad-after-clampdown\n",
      "DONE, NEXT:\n",
      "[SCRAPING] URL:  https://newsinfo.inquirer.net/1411547/taal-volcano-update-alert-level-2-stays-270-volcanic-quakes-recorded-in-24-hours\n",
      "DONE, NEXT:\n",
      "[SCRAPING] URL:  https://newsinfo.inquirer.net/1411545/exposure-to-protection-from-covid-19-essential-for-mayors-job-locsin\n",
      "DONE, NEXT:\n",
      "[SCRAPING] URL:  https://newsinfo.inquirer.net/1411542/marikina-has-nearly-1500-active-covid-19-cases-highest-since-start-of-pandemic-mayor\n",
      "DONE, NEXT:\n",
      "[SCRAPING] URL:  https://newsinfo.inquirer.net/1411538/hot-weather-expected-in-large-part-of-luzon-33-degrees-maximum-in-metro-manila\n",
      "DONE, NEXT:\n",
      "[SCRAPING] URL:  https://newsinfo.inquirer.net/1411535/egypt-shuts-suez-canal-amid-struggle-to-refloat-grounded-megaship\n",
      "DONE, NEXT:\n",
      "[SCRAPING] URL:  https://newsinfo.inquirer.net/1411532/new-york-city-deploying-asian-undercover-force-to-combat-hate-crimes\n",
      "DONE, NEXT:\n",
      "[SCRAPING] URL:  https://newsinfo.inquirer.net/1411529/still-a-mess-trauma-haunts-u-s-mass-shooting-survivors-due-to-gaps-in-mental-healthcare\n",
      "DONE, NEXT:\n",
      "[SCRAPING] URL:  https://newsinfo.inquirer.net/1411526/biden-warns-of-responses-if-north-korea-escalates-but-open-to-diplomacy\n",
      "DONE, NEXT:\n",
      "[SCRAPING] URL:  https://newsinfo.inquirer.net/1411523/u-s-and-britain-blacklist-myanmar-military-controlled-companies\n",
      "DONE, NEXT:\n"
     ]
    }
   ],
   "source": [
    "# actual scraping\n",
    "\n",
    "inquirer_news = []\n",
    "\n",
    "for x in news_urls:\n",
    "    print(\"[SCRAPING] URL: \", x)\n",
    "    curr_url = x\n",
    "    curr_page = requests.get(curr_url, headers=headers)\n",
    "    curr_soup = BeautifulSoup(curr_page.content, 'html.parser')\n",
    "\n",
    "    # attempt to find format\n",
    "    headline = curr_soup.find('h1', {'class':'entry-title'}).text.strip()\n",
    "    if curr_soup.find(id='art_author') is not None:\n",
    "        author = curr_soup.find(id='art_author')['data-byline-strips']\n",
    "    else:\n",
    "        author = ''\n",
    "    date = curr_soup.find(id='art_plat').contents[2]\n",
    "\n",
    "    body = ''\n",
    "    body_soup = curr_soup.find(id='article_content').contents[1].find_all('p')\n",
    "\n",
    "    # remove all children from <p>s found in article content (e.g. advertisments, extenral links)\n",
    "    for x in body_soup:\n",
    "        for y in x.find_all():\n",
    "            if len(list(y.parents)) >= 1:\n",
    "                y.extract()\n",
    "        # to remove the caption\n",
    "        if x.has_key('class'):\n",
    "            if x['class'][0] == 'wp-caption-text':\n",
    "                x.extract()\n",
    "\n",
    "    for x in body_soup:\n",
    "        if x.text.strip() == 'RELATED STORIES': # cut off of article\n",
    "            break\n",
    "        if x.has_key('class'):\n",
    "            if x['class'][0] == 'corona_article_tracker': # to account for the common paragraphs abt covid-19 in covid related news\n",
    "                break\n",
    "            pass\n",
    "        else:\n",
    "            body += '\\n' + x.text.strip()\n",
    "    \n",
    "    inquirer_news.append({\n",
    "        'source': curr_url,\n",
    "        'date': date[4:],\n",
    "        'title': headline,\n",
    "        'article_body': body,\n",
    "        'author': author\n",
    "    })\n",
    "    \n",
    "    time.sleep(5)\n",
    "    print(\"DONE, NEXT:\")"
   ]
  },
  {
   "cell_type": "code",
   "execution_count": 74,
   "metadata": {},
   "outputs": [
    {
     "name": "stdout",
     "output_type": "stream",
     "text": [
      "Index:  28\n",
      "\n",
      "Source:  https://newsinfo.inquirer.net/1411597/healthcare-workers-in-ncr-bubble-cebu-davao-to-get-400000-sinovac-vaccines\n",
      "\n",
      "Title:  Healthcare workers in NCR bubble, Cebu, Davao to get 400,000 Sinovac vaccines\n",
      "\n",
      "Author:  Daphne Galvez\n",
      "\n",
      "Date:  2:06 PM March 26, 2021\n",
      "\n",
      "Article body: \n",
      " \n",
      "\n",
      "MANILA, Philippines — The government will be allocating most of the recently delivered  of Sinovac BioTech for healthcare workers in areas most affected by new coronavirus variants, Malacañang said Friday.\n",
      "This includes healthcare workers in the National Capital Region “bubble” (NCR, Batangas, Rizal, Laguna, Cavite) Cebu and Davao, Presidential spokesman Harry Roque said.\n",
      "“Nagkaroon na ng desisyon ang ating NITAG (National Immunization Technical Advisory Group) na ‘yung mga kakarating na pinakahuling donasyon ng China na 400,000 na Sinovac ay ibibigay ang karamihan nito doon sa pinaka-apektado ng new variants kasama na ang NCR plus, Cebu, at Davao,” Presidential spokesman Harry Roque announced in a pre-taped interview over Laging Handa briefing.\n",
      "(The NITAG has come up with a decision to concentrate most of the 400,000 Sinovac jabs to areas most affected by the new variants including NCR plus, Cebu, at Davao.)\n",
      "The vaccine shots, which arrived in the Philippines on Wednesday, were donated by the Chinese government.\n",
      "The donated vaccines were in addition to the initial 600,000 doses that arrived in the country last February 28.\n",
      "One million more doses of Sinovac vaccines purchased by the national government will arrive on March 29.\n",
      "The government is currently in the process of vaccinating healthcare workers in the country, who are the top priority in the vaccination program.\n"
     ]
    }
   ],
   "source": [
    "# sanity check\n",
    "\n",
    "article_no = random.randint(0,len(inquirer_news)-1)\n",
    "\n",
    "print('Index: ', article_no)\n",
    "print('\\nSource: ', inquirer_news[article_no]['source'])\n",
    "print(\"\\nTitle: \", inquirer_news[article_no]['title'])\n",
    "print(\"\\nAuthor: \", inquirer_news[article_no]['author'])\n",
    "print(\"\\nDate: \", inquirer_news[article_no]['date'])\n",
    "print(\"\\nArticle body: \\n\", inquirer_news[article_no]['article_body'])"
   ]
  },
  {
   "cell_type": "code",
   "execution_count": 75,
   "metadata": {},
   "outputs": [],
   "source": [
    "# write to file\n",
    "with open('inquirer_news.json', 'w') as file:\n",
    "    json.dump(inquirer_news, file, indent=4)"
   ]
  },
  {
   "cell_type": "markdown",
   "metadata": {},
   "source": [
    "## Scraping from Manila Bulletin"
   ]
  },
  {
   "cell_type": "markdown",
   "metadata": {},
   "source": [
    "### Getting the latest news links"
   ]
  },
  {
   "cell_type": "code",
   "execution_count": 69,
   "metadata": {},
   "outputs": [],
   "source": [
    "URL = \"https://mb.com.ph/news/\"\n",
    "headers = {'User-agent' : '*'}\n",
    "page = requests.get(URL, headers=headers) # Access time: 03-26-2021, 2202\n",
    "soup = BeautifulSoup(page.content, 'html.parser')"
   ]
  },
  {
   "cell_type": "code",
   "execution_count": 70,
   "metadata": {},
   "outputs": [
    {
     "name": "stdout",
     "output_type": "stream",
     "text": [
      "<li class=\"article article-highlight\">\n",
      "<div class=\"article-inner row flex-row-reverse flex-md-row\">\n",
      "<figure class=\"article-figure col col-sm-auto\">\n",
      "<a class=\"article-img\" href=\"https://mb.com.ph/2021/03/24/govt-urged-to-employ-soft-mecq-if-ncr-plus-bubble-fails/\">\n",
      "<img alt=\"Shopping and Entertainment at the SM Mall of Asia Complex\" src=\"https://mb.com.ph/wp-content/uploads/2020/12/openblooomberg.jpg\"/>\n",
      "</a>\n",
      "</figure>\n",
      "<div class=\"article-info col\">\n",
      "<div class=\"cat\">\n",
      "<a href=\"https://mb.com.ph/category/news/national/\">National</a>, <a href=\"https://mb.com.ph/category/news/\">News</a> </div>\n",
      "<h3 class=\"title\"><a href=\"https://mb.com.ph/2021/03/24/govt-urged-to-employ-soft-mecq-if-ncr-plus-bubble-fails/\">Gov’t urged to employ ‘soft MECQ’ if ‘NCR Plus’ bubble fails</a></h3>\n",
      "<div class=\"desc\">\n",
      "<p>OCTA Research fellow, professor Ranjit Rye on Wednesday, March 24 proposed the implementation of “soft” modified enhanced community quarantine (MECQ) as a “last resort” if the current government interventions fail to address the spread of the coronavirus disease (COVID-19).</p>\n",
      "</div>\n",
      "<div class=\"post-meta\">\n",
      "<span class=\"time-posted\">\n",
      "<i class=\"mb-icon-time\"></i>\n",
      "<span class=\"count\"><time class=\"time-ago\" data-time=\"2021-03-24 15:34:17\"></time></span>\n",
      "</span>\n",
      "<span class=\"share counter\">\n",
      "<i class=\"mb-icon-share\"></i>\n",
      "<span class=\"count\">\n",
      "\t\t\t\t\t\t\t\t\t\t\t\t\t\t\t0 Share\t\t\t\t\t\t\t\t\t\t\t\t\t\t</span>\n",
      "</span>\n",
      "</div>\n",
      "</div>\n",
      "</div>\n",
      "</li>\n"
     ]
    }
   ],
   "source": [
    "container = soup.find('ul',{'class': 'articles-list'}) # the div with the main news articles\n",
    "headlines = container.find_all('li',{'class': 'article'})\n",
    "\n",
    "# Sanity check\n",
    "print(headlines[0])"
   ]
  },
  {
   "cell_type": "code",
   "execution_count": 71,
   "metadata": {},
   "outputs": [
    {
     "name": "stdout",
     "output_type": "stream",
     "text": [
      "URL https://mb.com.ph/2021/03/24/govt-urged-to-employ-soft-mecq-if-ncr-plus-bubble-fails/\n",
      "\n",
      "Title:  Gov’t urged to employ ‘soft MECQ’ if ‘NCR Plus’ bubble fails\n"
     ]
    }
   ],
   "source": [
    "# parse format\n",
    "\n",
    "print(\"URL\", headlines[0].find('h3',{'class': 'title'}).find('a')['href'])\n",
    "print('\\nTitle: ', headlines[0].find('h3',{'class': 'title'}).find('a').text.strip())"
   ]
  },
  {
   "cell_type": "code",
   "execution_count": 77,
   "metadata": {
    "scrolled": true
   },
   "outputs": [
    {
     "name": "stdout",
     "output_type": "stream",
     "text": [
      "\n",
      "URL:  https://mb.com.ph/2021/03/24/govt-urged-to-employ-soft-mecq-if-ncr-plus-bubble-fails/\n",
      "\n",
      "URL:  https://mb.com.ph/2021/03/26/powerful-hospital-ads-urge-people-to-wear-masks-stay-at-home/\n",
      "\n",
      "URL:  https://mb.com.ph/2021/03/26/duterte-recommends-raising-mav-for-pork-imports-to-350000-metric-tons/\n",
      "\n",
      "URL:  https://mb.com.ph/2021/03/26/ph-red-cross-asks-public-to-be-exaggerated-avoid-3cs-to-reduce-spread-of-covid-19/\n",
      "\n",
      "URL:  https://mb.com.ph/2021/03/26/clinical-trials-for-lagundi-as-covid-19-therapeutic-near-completion/\n",
      "\n",
      "URL:  https://mb.com.ph/2021/03/26/drug-distributors-pledge-to-restock-supply-of-remdesivir-tocilizumab-doh/\n",
      "\n",
      "URL:  https://mb.com.ph/2021/03/26/report-them-deped-says-instigators-of-distance-cheating-should-be-arrested/\n",
      "\n",
      "URL:  https://mb.com.ph/2021/03/26/the-story-behind-the-image-teachers-zoom-meeting-at-the-beach/\n",
      "\n",
      "URL:  https://mb.com.ph/2021/03/26/a-green-ally-pro-environment-energy-group-hopeful-to-end-coal-financing-in-ph-with-help-of-new-manila-archbishop/\n",
      "\n",
      "URL:  https://mb.com.ph/2021/03/26/salceda-lauds-signing-of-create/\n",
      "\n",
      "URL:  https://mb.com.ph/2021/03/26/seniors-people-with-hypertension-abnormal-rapid-breathing-have-higher-chance-of-death-due-to-covid-19-pcp-study/\n",
      "\n",
      "URL:  https://mb.com.ph/2021/03/26/now-is-not-the-time-ph-red-cross-warns-against-gatherings-this-holy-week/\n",
      "\n",
      "URL:  https://mb.com.ph/2021/03/26/carpio-over-analyzing-chinas-vaccine-donations-lacson/\n",
      "\n",
      "URL:  https://mb.com.ph/2021/03/26/deped-continues-to-monitor-abandoned-damaged-school-buildings/\n",
      "\n",
      "Number of headlines:  14\n"
     ]
    }
   ],
   "source": [
    "count = 0\n",
    "for x in headlines:\n",
    "    if x.find('h3',{'class': 'title'}) is not None:\n",
    "        print(\"\\nURL: \", x.find('h3',{'class': 'title'}).find('a')['href'])\n",
    "        count+=1\n",
    "    else:\n",
    "        if x.find('h4',{'class': 'title'}) is not None:\n",
    "            print(\"\\nURL: \", x.find('h4',{'class': 'title'}).find('a')['href'])\n",
    "            count+=1\n",
    "            \n",
    "print(\"\\nNumber of headlines: \", count)"
   ]
  },
  {
   "cell_type": "code",
   "execution_count": 78,
   "metadata": {},
   "outputs": [
    {
     "name": "stdout",
     "output_type": "stream",
     "text": [
      "\n",
      "URL:  https://mb.com.ph/2021/03/26/cyli-launches-digital-skills-training-mentorship-program-for-campus-journalists-in-caloocan/\n",
      "\n",
      "URL:  https://mb.com.ph/2021/03/26/robredo-covid-19-not-an-excuse-to-postpone-2022-polls/\n",
      "\n",
      "URL:  https://mb.com.ph/2021/03/26/robredo-we-need-to-talk-about-2022-elections/\n",
      "\n",
      "URL:  https://mb.com.ph/2021/03/26/duterte-inks-law-lowering-corporate-income-tax-exempting-covid-19-vaccines-from-vat/\n",
      "\n",
      "URL:  https://mb.com.ph/2021/03/26/solon-mulls-ways-to-solve-sss-pension-deficits/\n",
      "\n",
      "URL:  https://mb.com.ph/2021/03/26/60-provinces-cities-adopt-dosts-s-pass-travel-app/\n",
      "\n",
      "URL:  https://mb.com.ph/2021/03/26/its-official-summer-err-hot-dry-season-begins-in-ph/\n",
      "\n",
      "URL:  https://mb.com.ph/2021/03/26/dont-let-your-guard-down-ph-red-cross-reminds-public-to-be-vigilant-during-holy-week/\n",
      "\n",
      "URL:  https://mb.com.ph/2021/03/26/27-more-overseas-filipinos-infected-with-covid-19-while-16-others-recovered/\n",
      "\n",
      "URL:  https://mb.com.ph/2021/03/26/salceda-covid-19-jabs-to-solve-worrisome-ph-crisis/\n",
      "\n",
      "URL:  https://mb.com.ph/2021/03/26/hospital-admission-in-ncr-increasing-says-doh/\n",
      "\n",
      "URL:  https://mb.com.ph/2021/03/26/cha-cha-effort-in-house-now-headed-for-graveyard-defensor/\n",
      "\n",
      "URL:  https://mb.com.ph/2021/03/26/pulse-asia-63-of-filipinos-distrust-china-made-vaccine-44-trust-us-jab/\n",
      "\n",
      "Number of headlines:  14\n"
     ]
    }
   ],
   "source": [
    "# get more from second page\n",
    "URL_2 = \"https://mb.com.ph/news/page/2\"\n",
    "page_2 = requests.get(URL_2, headers=headers) # Access time: 03-26-2021, 2210\n",
    "soup_2 = BeautifulSoup(page_2.content, 'html.parser')\n",
    "container_2 = soup_2.find('ul',{'class': 'articles-list'})\n",
    "headlines_2 = container_2.find_all('li',{'class': 'article'})\n",
    "\n",
    "count_2 = 0\n",
    "for x in headlines_2:\n",
    "    if x.find('h3',{'class': 'title'}) is not None:\n",
    "        print(\"\\nURL: \", x.find('h3',{'class': 'title'}).find('a')['href'])\n",
    "        count_2+=1\n",
    "    else:\n",
    "        if x.find('h4',{'class': 'title'}) is not None:\n",
    "            print(\"\\nURL: \", x.find('h4',{'class': 'title'}).find('a')['href'])\n",
    "            count_2+=1\n",
    "            \n",
    "print(\"\\nNumber of headlines: \", count)"
   ]
  },
  {
   "cell_type": "code",
   "execution_count": 79,
   "metadata": {},
   "outputs": [
    {
     "name": "stdout",
     "output_type": "stream",
     "text": [
      "Number of headlines:  27\n"
     ]
    }
   ],
   "source": [
    "# store all headlines\n",
    "news_urls = []\n",
    "\n",
    "for x in headlines:\n",
    "    if x.find('h3',{'class': 'title'}) is not None:\n",
    "        news_urls.append(x.find('h3',{'class': 'title'}).find('a')['href'])\n",
    "    else:\n",
    "        if x.find('h4',{'class': 'title'}) is not None:\n",
    "            news_urls.append(x.find('h4',{'class': 'title'}).find('a')['href'])\n",
    "            \n",
    "for x in headlines_2:\n",
    "    if x.find('h3',{'class': 'title'}) is not None:\n",
    "        news_urls.append(x.find('h3',{'class': 'title'}).find('a')['href'])\n",
    "    else:\n",
    "        if x.find('h4',{'class': 'title'}) is not None:\n",
    "            news_urls.append(x.find('h4',{'class': 'title'}).find('a')['href'])\n",
    "\n",
    "print(\"Number of headlines: \", len(news_urls))"
   ]
  },
  {
   "cell_type": "markdown",
   "metadata": {},
   "source": [
    "### Scraping the news pages"
   ]
  },
  {
   "cell_type": "code",
   "execution_count": 80,
   "metadata": {},
   "outputs": [
    {
     "name": "stdout",
     "output_type": "stream",
     "text": [
      "URL:  https://mb.com.ph/2021/03/24/govt-urged-to-employ-soft-mecq-if-ncr-plus-bubble-fails/\n",
      "\n",
      "Headline:  Gov’t urged to employ ‘soft MECQ’ if ‘NCR Plus’ bubble fails\n",
      "\n",
      "Author:  Ellalyn De Vera-Ruiz\n",
      "\n",
      "Date:  March 24, 2021, 3:34 PM\n",
      "\n",
      "Article Body: \n",
      " OCTA Research fellow, professor Ranjit Rye on Wednesday, March 24 proposed the implementation of “soft” modified enhanced community quarantine (MECQ) as a “last resort” if the current government interventions fail to address the spread of the coronavirus disease (COVID-19).\n",
      "“Naintindihan namin ang sitwasyon ng gobyerno, kailangang balansehin ang ekonomiya at saka ang kalusugan. (We understand the situation of the government, we need to balance the economy and public health),” Rye said during the Laging Handa public briefing.\n",
      "“Pero lumalabas po ay pataas pa rin po iyong kaso natin. May momentum kasi siya. So hintayin natin ang ilang araw, let’s give the bubble a chance. Pero kung pataas pa rin siya after next week eh mukhang kailangan na tayong mag isip-isip ng mas istrikto pang quarantine classification. (But it seems the number of cases is still going up. It  has gained momentum. So let’s wait a few days, let’s give the bubble a chance. But if it is still increasing after next week, it looks like we need to think about a stricter quarantine classification),” he said.\n",
      "Rye said the group recognizes the government efforts to control the spread of the virus by implementing the “NCR Plus” bubble but expressed concern that it may not be as effective not to overwhelm the hospitals’ COVID bed capacity.\n",
      "“To be very brutally frank, iyong sa ating mga pag-aaral, mukhang mahihirapan tayo kasi grabe iyong momentum ng ating surge. Hindi naman natin inaasahan na ganito kabilis iyan at ganito kagrabe ang pagkalat. (Based on our studies, it looks like we will have a hard time because the momentum of our surge is immense. We didn’t expect it to spread so fast and so badly),” he explained.\n",
      "“Itong interventions natin ngayon, best efforts, it will take some time mga maybe three to four weeks bago may effect. (Our interventions now, best efforts, it will take some time maybe three to four weeks before it takes effect),” he added.\n",
      "Rye said OCTA Research Group is proposing a soft MECQ where there is “very significant mobility restriction.”\n",
      "“So iyon ay last resort natin kapag hindi nag-work itong interventions ng gobyerno. At ipinagdadasal din namin, at alam namin sa bayanihan baka talagang mapahina na ito. (So that is our last resort if government interventions do not work. And we are also praying for it, and we know with the bayanihan spirit, the virus might really weaken),” he added.\n",
      "He said the goal is to reduce the number of infections, and not overwhelm hospitals.\n",
      "Rye also underscored the importance of following minimum public health standards, such as wearing of face masks and face shield, washing of hands regularly, and practicing physical distancing, as well as avoiding mass gathering.\n",
      "Ang simple lang naman na sinasabi ng siyensya. Magsuot ka ng mask, magsuot ka ng face shield kasi iyong combo na iyan para kang nakabakuna niyan eh, more than 90 percent ang proteksiyon niyan. (What the science is telling us is simple. Wear face mask, wear face shield because that combo is just like you have been vaccinated, which has more than 90 percent protection),” Rye said.\n",
      "“So, we are hoping that with all of these interventions currently being implemented that we will not anymore move to MECQ. We’re hoping that, well, let’s try to make this bubble work. But it would require incredible cooperation, high degree of cooperation between civil society, the private sector, and government,” he added.\n",
      "\n"
     ]
    }
   ],
   "source": [
    "curr_url = news_urls[0]\n",
    "curr_page = requests.get(curr_url, headers=headers)\n",
    "curr_soup = BeautifulSoup(curr_page.content, 'html.parser')\n",
    "\n",
    "# parsing the page\n",
    "headline = curr_soup.find('h2',{'class':'title'}).text.strip()\n",
    "author = curr_soup.find('div',{'class':'meta'}).find('p',{'class':'author'}).text.strip()\n",
    "date = curr_soup.find('div',{'class':'meta'}).find('p',{'class':'published'}).text.strip()\n",
    "\n",
    "body = ''\n",
    "body_parts = curr_soup.find('section',{'class':'article-content'}).find_all('p')\n",
    "\n",
    "for p in body_parts:\n",
    "    body += p.text.strip() + '\\n'\n",
    "\n",
    "print(\"URL: \", curr_url)\n",
    "print(\"\\nHeadline: \", headline)\n",
    "print(\"\\nAuthor: \", author[3:])\n",
    "print(\"\\nDate: \", date[10:])\n",
    "print(\"\\nArticle Body: \\n\", body)"
   ]
  },
  {
   "cell_type": "code",
   "execution_count": 81,
   "metadata": {},
   "outputs": [
    {
     "name": "stdout",
     "output_type": "stream",
     "text": [
      "[SCRAPING] URL:  https://mb.com.ph/2021/03/24/govt-urged-to-employ-soft-mecq-if-ncr-plus-bubble-fails/\n",
      "DONE. DELAY:  13\n",
      "[SCRAPING] URL:  https://mb.com.ph/2021/03/26/powerful-hospital-ads-urge-people-to-wear-masks-stay-at-home/\n",
      "DONE. DELAY:  19\n",
      "[SCRAPING] URL:  https://mb.com.ph/2021/03/26/duterte-recommends-raising-mav-for-pork-imports-to-350000-metric-tons/\n",
      "DONE. DELAY:  10\n",
      "[SCRAPING] URL:  https://mb.com.ph/2021/03/26/ph-red-cross-asks-public-to-be-exaggerated-avoid-3cs-to-reduce-spread-of-covid-19/\n",
      "DONE. DELAY:  12\n",
      "[SCRAPING] URL:  https://mb.com.ph/2021/03/26/clinical-trials-for-lagundi-as-covid-19-therapeutic-near-completion/\n",
      "DONE. DELAY:  19\n",
      "[SCRAPING] URL:  https://mb.com.ph/2021/03/26/drug-distributors-pledge-to-restock-supply-of-remdesivir-tocilizumab-doh/\n",
      "DONE. DELAY:  15\n",
      "[SCRAPING] URL:  https://mb.com.ph/2021/03/26/report-them-deped-says-instigators-of-distance-cheating-should-be-arrested/\n",
      "DONE. DELAY:  11\n",
      "[SCRAPING] URL:  https://mb.com.ph/2021/03/26/the-story-behind-the-image-teachers-zoom-meeting-at-the-beach/\n",
      "DONE. DELAY:  11\n",
      "[SCRAPING] URL:  https://mb.com.ph/2021/03/26/a-green-ally-pro-environment-energy-group-hopeful-to-end-coal-financing-in-ph-with-help-of-new-manila-archbishop/\n",
      "DONE. DELAY:  18\n",
      "[SCRAPING] URL:  https://mb.com.ph/2021/03/26/salceda-lauds-signing-of-create/\n",
      "DONE. DELAY:  16\n",
      "[SCRAPING] URL:  https://mb.com.ph/2021/03/26/seniors-people-with-hypertension-abnormal-rapid-breathing-have-higher-chance-of-death-due-to-covid-19-pcp-study/\n",
      "DONE. DELAY:  14\n",
      "[SCRAPING] URL:  https://mb.com.ph/2021/03/26/now-is-not-the-time-ph-red-cross-warns-against-gatherings-this-holy-week/\n",
      "DONE. DELAY:  18\n",
      "[SCRAPING] URL:  https://mb.com.ph/2021/03/26/carpio-over-analyzing-chinas-vaccine-donations-lacson/\n",
      "DONE. DELAY:  19\n",
      "[SCRAPING] URL:  https://mb.com.ph/2021/03/26/deped-continues-to-monitor-abandoned-damaged-school-buildings/\n",
      "DONE. DELAY:  17\n",
      "[SCRAPING] URL:  https://mb.com.ph/2021/03/26/cyli-launches-digital-skills-training-mentorship-program-for-campus-journalists-in-caloocan/\n",
      "DONE. DELAY:  17\n",
      "[SCRAPING] URL:  https://mb.com.ph/2021/03/26/robredo-covid-19-not-an-excuse-to-postpone-2022-polls/\n",
      "DONE. DELAY:  17\n",
      "[SCRAPING] URL:  https://mb.com.ph/2021/03/26/robredo-we-need-to-talk-about-2022-elections/\n",
      "DONE. DELAY:  14\n",
      "[SCRAPING] URL:  https://mb.com.ph/2021/03/26/duterte-inks-law-lowering-corporate-income-tax-exempting-covid-19-vaccines-from-vat/\n",
      "DONE. DELAY:  15\n",
      "[SCRAPING] URL:  https://mb.com.ph/2021/03/26/solon-mulls-ways-to-solve-sss-pension-deficits/\n",
      "DONE. DELAY:  20\n",
      "[SCRAPING] URL:  https://mb.com.ph/2021/03/26/60-provinces-cities-adopt-dosts-s-pass-travel-app/\n",
      "DONE. DELAY:  18\n",
      "[SCRAPING] URL:  https://mb.com.ph/2021/03/26/its-official-summer-err-hot-dry-season-begins-in-ph/\n",
      "DONE. DELAY:  10\n",
      "[SCRAPING] URL:  https://mb.com.ph/2021/03/26/dont-let-your-guard-down-ph-red-cross-reminds-public-to-be-vigilant-during-holy-week/\n",
      "DONE. DELAY:  16\n",
      "[SCRAPING] URL:  https://mb.com.ph/2021/03/26/27-more-overseas-filipinos-infected-with-covid-19-while-16-others-recovered/\n",
      "DONE. DELAY:  11\n",
      "[SCRAPING] URL:  https://mb.com.ph/2021/03/26/salceda-covid-19-jabs-to-solve-worrisome-ph-crisis/\n",
      "DONE. DELAY:  18\n",
      "[SCRAPING] URL:  https://mb.com.ph/2021/03/26/hospital-admission-in-ncr-increasing-says-doh/\n",
      "DONE. DELAY:  19\n",
      "[SCRAPING] URL:  https://mb.com.ph/2021/03/26/cha-cha-effort-in-house-now-headed-for-graveyard-defensor/\n",
      "DONE. DELAY:  18\n",
      "[SCRAPING] URL:  https://mb.com.ph/2021/03/26/pulse-asia-63-of-filipinos-distrust-china-made-vaccine-44-trust-us-jab/\n",
      "DONE. DELAY:  19\n",
      "\n",
      "Articles scraped:  27\n"
     ]
    }
   ],
   "source": [
    "# actual scraping\n",
    "\n",
    "mb_news = []\n",
    "\n",
    "for x in news_urls:\n",
    "    print(\"[SCRAPING] URL: \", x)\n",
    "    \n",
    "    curr_url = x\n",
    "    curr_page = requests.get(curr_url, headers=headers)\n",
    "    curr_soup = BeautifulSoup(curr_page.content, 'html.parser')\n",
    "\n",
    "    headline = curr_soup.find('h2',{'class':'title'}).text.strip()\n",
    "    author = curr_soup.find('div',{'class':'meta'}).find('p',{'class':'author'}).text.strip()\n",
    "    date = curr_soup.find('div',{'class':'meta'}).find('p',{'class':'published'}).text.strip()\n",
    "\n",
    "    body = ''\n",
    "    body_parts = curr_soup.find('section',{'class':'article-content'}).find_all('p')\n",
    "\n",
    "    for p in body_parts:\n",
    "        body += p.text.strip() + '\\n'\n",
    "        \n",
    "    mb_news.append({\n",
    "        'source': curr_url,\n",
    "        'date': date[10:],\n",
    "        'title': headline,\n",
    "        'article_body': body,\n",
    "        'author': author[3:]\n",
    "    })\n",
    "    \n",
    "    rand_delay = random.randint(10,20)\n",
    "    print(\"DONE. DELAY: \", rand_delay)\n",
    "    time.sleep(rand_delay)\n",
    "    \n",
    "print(\"\\nArticles scraped: \", len(mb_news))"
   ]
  },
  {
   "cell_type": "code",
   "execution_count": 82,
   "metadata": {},
   "outputs": [
    {
     "name": "stdout",
     "output_type": "stream",
     "text": [
      "Index:  12\n",
      "\n",
      "Source:  https://mb.com.ph/2021/03/26/carpio-over-analyzing-chinas-vaccine-donations-lacson/\n",
      "\n",
      "Title:  Carpio ‘over-analyzing’ China’s vaccine donations — Lacson\n",
      "\n",
      "Author:  Vanne Elaine Terrazola\n",
      "\n",
      "Date:  March 26, 2021, 8:23 PM\n",
      "\n",
      "Article body: \n",
      " Former Supreme Court Senior Associate Justice Antonio might just be “over-analyzing” the connection between the China’s vaccine donations and its encroachment in the West Philippines Sea, Senator Panfilo Lacson said on Friday, March 26.\n",
      "Lacson, chairman of the Senate committee on national defense and security, believed that the Chinese government is giving the Philippines vaccine supplies in good faith, and not in exchange of seizing the country’s territory.\n",
      "Carpio, who has been vocal against China’s activities in the West Philippines Sea, earlier said the Chinese government is “trying to soften the blow” of its incursions in the Philippines’ maritime zones by sending COVID-19 vaccines. He said the Philippines should not be accepting donations from China due to the territorial dispute.\n",
      "Recently, over 200 Chinese fishing vessels were spotted in a formation at the Julian Felipe Reef, which is part of the Philippines’ exclusive economic zone (EEZ). The Philippines has protested their presence.\n",
      "“Justice Carpio is over analyzing by equating the vaccine donations to the WPS issue, particularly the latest incident in the Julian Felipe reef. The former is an act of goodwill. The latter may be tantamount to invasion of our territory,” Lacson said in a text message.\n",
      "The senator, however, admitted that Philippines can only do so much with a diplomatic protest, which he said “is only good as a point of information.”“And unfortunately, China has time and again merely takes note of the several protests that DFA (Department of Foreign Affairs) has filed,” he lamented.\n",
      "“That said, maybe our government should consider leveling up in terms of official action if only to impress upon China that we take their unabated incursions into our territory more seriously,” Lacson appealed.\n",
      "While saying he leaves the matter to the DFA, he said one option may be an address to the United Nations (UN) General Assembly “to call out China by citing all the incidents of intrusions and other violations of international laws and UNCLOS (UN Convention on the Law of the Sea) that they have committed against our country.”\n",
      "“While we value friendship, we must put our national interest above all aspects of our  diplomatic relations,” Lacson stressed.\n",
      "Senate Minority Leader Franklin Drilon, on the other hand, shared Carpio’s apprehension about China’s donations.\n",
      "“No strings attached, please. I call on the government to implement the arbitral ruling. The Department of Foreign Affairs and the Armed Forces of the Philippines should be on their toes and remain vigilant against intrusions,” Drilon said in a separate message.\n",
      "China has donated to the Philippines a total of one million doses of coronavirus vaccines, which were developed by Sinovac.\n",
      "\n"
     ]
    }
   ],
   "source": [
    "# sanity check\n",
    "\n",
    "article_no = random.randint(0,len(mb_news)-1)\n",
    "\n",
    "print('Index: ', article_no)\n",
    "print('\\nSource: ', mb_news[article_no]['source'])\n",
    "print(\"\\nTitle: \", mb_news[article_no]['title'])\n",
    "print(\"\\nAuthor: \", mb_news[article_no]['author'])\n",
    "print(\"\\nDate: \", mb_news[article_no]['date'])\n",
    "print(\"\\nArticle body: \\n\", mb_news[article_no]['article_body'])"
   ]
  },
  {
   "cell_type": "code",
   "execution_count": 83,
   "metadata": {},
   "outputs": [],
   "source": [
    "# write to file\n",
    "with open('mb_news.json', 'w') as file:\n",
    "    json.dump(mb_news, file, indent=4)"
   ]
  },
  {
   "cell_type": "markdown",
   "metadata": {},
   "source": [
    "## Using API for The Guardian"
   ]
  },
  {
   "cell_type": "code",
   "execution_count": 95,
   "metadata": {},
   "outputs": [
    {
     "name": "stdout",
     "output_type": "stream",
     "text": [
      "50\n",
      "{'id': 'news/2021/mar/25/corrections-and-clarifications', 'type': 'article', 'sectionId': 'news', 'sectionName': 'News', 'webPublicationDate': '2021-03-25T21:00:24Z', 'webTitle': 'Corrections and clarifications', 'webUrl': 'https://www.theguardian.com/news/2021/mar/25/corrections-and-clarifications', 'apiUrl': 'https://content.guardianapis.com/news/2021/mar/25/corrections-and-clarifications', 'isHosted': False, 'pillarId': 'pillar/news', 'pillarName': 'News'}\n"
     ]
    }
   ],
   "source": [
    "# get the key from local file\n",
    "API_KEY = ''\n",
    "with open('key.txt', 'r') as file:\n",
    "    API_KEY = file.read()\n",
    "\n",
    "# get 50 articles\n",
    "results = requests.get(\"https://content.guardianapis.com/search?api-key=\" + API_KEY + \"&section=news&page-size=50\")\n",
    "articles = json.loads(results.text)\n",
    "print(len(articles['response']['results']))\n",
    "\n",
    "print(articles['response']['results'][0])"
   ]
  },
  {
   "cell_type": "code",
   "execution_count": 97,
   "metadata": {
    "scrolled": true
   },
   "outputs": [
    {
     "name": "stdout",
     "output_type": "stream",
     "text": [
      "{'id': 'news/2021/mar/25/corrections-and-clarifications', 'type': 'article', 'sectionId': 'news', 'sectionName': 'News', 'webPublicationDate': '2021-03-25T21:00:24Z', 'webTitle': 'Corrections and clarifications', 'webUrl': 'https://www.theguardian.com/news/2021/mar/25/corrections-and-clarifications', 'apiUrl': 'https://content.guardianapis.com/news/2021/mar/25/corrections-and-clarifications', 'tags': [{'id': 'profile/editor-of-the-corrections-and-clarifications-column', 'type': 'contributor', 'webTitle': 'Corrections and clarifications column editor', 'webUrl': 'https://www.theguardian.com/profile/editor-of-the-corrections-and-clarifications-column', 'apiUrl': 'https://content.guardianapis.com/profile/editor-of-the-corrections-and-clarifications-column', 'references': [], 'firstName': 'editor', 'lastName': 'ofthecorrectionsandclarificationscolumn'}], 'blocks': {'body': [{'id': '5e74af488f085c6327bc3b4f', 'bodyHtml': '<p>• Due to incorrect figures supplied to us, an article and an editorial misreported the findings of a survey carried out for the all-party parliamentary group for UN Women. The poll of 1,089 women in the UK found that 86% of those aged 18-24, and 71% of all women, said they had been sexually harassed in public spaces; not 97% and 80% as we stated (<a href=\"https://www.theguardian.com/world/2021/mar/10/almost-all-young-women-in-the-uk-have-been-sexually-harassed-survey-finds\" title=\"\">Survey reveals sex harassment ordeal faced by young women</a>, 10 March, page 2; <a href=\"https://www.theguardian.com/commentisfree/2021/mar/11/the-guardian-view-on-violence-against-women-without-safety-there-can-be-no-equality\" title=\"\">Violent crime</a>, 12 March, page 2, Journal).</p> <p>• Other recently amended articles include:</p> <p><a href=\"https://www.theguardian.com/world/2021/mar/23/taiwan-china-threat-admiral-john-aquilino\" title=\"\">China threat to invade Taiwan is ‘closer than most think’, says US admiral</a></p> <p><a href=\"https://www.theguardian.com/environment/2021/mar/23/covid-vaccine-used-great-apes-san-diego-zoo-trialled-mink\" title=\"\">Covid vaccine used on apes at San Diego zoo trialled on mink</a></p> <p><a href=\"https://www.theguardian.com/world/2021/mar/23/no-more-shame-the-french-women-breaking-the-law-to-highlight-femicide\" title=\"\">‘No more shame’: the French women breaking the law to highlight femicide</a></p> <p><a href=\"https://www.theguardian.com/us-news/2021/mar/24/asian-woman-fought-attacker-donates-gofundme-xiao-zhen-xie\" title=\"\">Elderly Asian woman who fought attacker donates nearly $1m from GoFundMe</a></p>', 'bodyTextSummary': '• Due to incorrect figures supplied to us, an article and an editorial misreported the findings of a survey carried out for the all-party parliamentary group for UN Women. The poll of 1,089 women in the UK found that 86% of those aged 18-24, and 71% of all women, said they had been sexually harassed in public spaces; not 97% and 80% as we stated (Survey reveals sex harassment ordeal faced by young women, 10 March, page 2; Violent crime, 12 March, page 2, Journal). • Other recently amended articles include: China threat to invade Taiwan is ‘closer than most think’, says US admiral Covid vaccine used on apes at San Diego zoo trialled on mink ‘No more shame’: the French women breaking the law to highlight femicide Elderly Asian woman who fought attacker donates nearly $1m from GoFundMe', 'attributes': {}, 'published': True, 'createdDate': '2020-03-20T11:55:52Z', 'lastModifiedDate': '2021-03-25T14:39:15Z', 'contributors': [], 'elements': [{'type': 'text', 'assets': [], 'textTypeData': {'html': '<p>• Due to incorrect figures supplied to us, an article and an editorial misreported the findings of a survey carried out for the all-party parliamentary group for UN Women. The poll of 1,089 women in the UK found that 86% of those aged 18-24, and 71% of all women, said they had been sexually harassed in public spaces; not 97% and 80% as we stated (<a href=\"https://www.theguardian.com/world/2021/mar/10/almost-all-young-women-in-the-uk-have-been-sexually-harassed-survey-finds\" title=\"\">Survey reveals sex harassment ordeal faced by young women</a>, 10 March, page 2; <a href=\"https://www.theguardian.com/commentisfree/2021/mar/11/the-guardian-view-on-violence-against-women-without-safety-there-can-be-no-equality\" title=\"\">Violent crime</a>, 12 March, page 2, Journal).</p> \\n<p>• Other recently amended articles include:</p> \\n<p><a href=\"https://www.theguardian.com/world/2021/mar/23/taiwan-china-threat-admiral-john-aquilino\" title=\"\">China threat to invade Taiwan is ‘closer than most think’, says US admiral</a></p> \\n<p><a href=\"https://www.theguardian.com/environment/2021/mar/23/covid-vaccine-used-great-apes-san-diego-zoo-trialled-mink\" title=\"\">Covid vaccine used on apes at San Diego zoo trialled on mink</a></p> \\n<p><a href=\"https://www.theguardian.com/world/2021/mar/23/no-more-shame-the-french-women-breaking-the-law-to-highlight-femicide\" title=\"\">‘No more shame’: the French women breaking the law to highlight femicide</a></p> \\n<p><a href=\"https://www.theguardian.com/us-news/2021/mar/24/asian-woman-fought-attacker-donates-gofundme-xiao-zhen-xie\" title=\"\">Elderly Asian woman who fought attacker donates nearly $1m from GoFundMe</a></p>'}}]}], 'totalBodyBlocks': 1}, 'isHosted': False, 'pillarId': 'pillar/news', 'pillarName': 'News'}\n"
     ]
    }
   ],
   "source": [
    "# get the author and the text as well\n",
    "results = requests.get(\"https://content.guardianapis.com/search?api-key=\" + API_KEY + \"&section=news&page-size=50&show-tags=contributor&show-blocks=body\")\n",
    "# Access time: 03-27-2021, 0047\n",
    "articles = json.loads(results.text)\n",
    "print(articles['response']['results'][0])"
   ]
  },
  {
   "cell_type": "code",
   "execution_count": 98,
   "metadata": {},
   "outputs": [
    {
     "name": "stdout",
     "output_type": "stream",
     "text": [
      "• Due to incorrect figures supplied to us, an article and an editorial misreported the findings of a survey carried out for the all-party parliamentary group for UN Women. The poll of 1,089 women in the UK found that 86% of those aged 18-24, and 71% of all women, said they had been sexually harassed in public spaces; not 97% and 80% as we stated (Survey reveals sex harassment ordeal faced by young women, 10 March, page 2; Violent crime, 12 March, page 2, Journal). • Other recently amended articles include: China threat to invade Taiwan is ‘closer than most think’, says US admiral Covid vaccine used on apes at San Diego zoo trialled on mink ‘No more shame’: the French women breaking the law to highlight femicide Elderly Asian woman who fought attacker donates nearly $1m from GoFundMe\n"
     ]
    }
   ],
   "source": [
    "# get the article text according to the docs\n",
    "print(articles['response']['results'][0]['blocks']['body'][0]['bodyTextSummary'])"
   ]
  },
  {
   "cell_type": "code",
   "execution_count": 103,
   "metadata": {},
   "outputs": [
    {
     "name": "stdout",
     "output_type": "stream",
     "text": [
      "URL:  https://www.theguardian.com/news/2021/mar/24/the-clown-king-making-sense-of-boris-johnson-inside-the-26-march-guardian-weekly\n",
      "\n",
      "Headline:  The clown king – making sense of Boris Johnson: inside the 26 March Guardian Weekly\n",
      "\n",
      "Author:  ['Will Dean']\n",
      "\n",
      "Date:  2021-03-24T09:00:35Z\n",
      "\n",
      "Article Body: \n",
      " It’s been an infuriating week or so for AstraZeneca and those hoping for a swift deployment of its Oxford vaccine. First, fears of a link to blood clots saw many states pause their rollout of the jab before swiftly changing tack after its safety was confirmed. The moves will do little to boost confidence in the vaccine, which has been beset by PR problems. There was also the news that supplies of the vaccine to the UK were due to slump because of production issues in India and an ongoing row between the EU and UK about exports of vaccines. Do these struggles threaten – in the UK at least – to derail a mass vaccination programme that has helped dramatically reduce deaths since January’s huge third wave? Dismissing the United Kingdom’s prime minister as a clown is not, it ought to be noted, a completely original notion. The man who was brought to the world’s attention while stuck dangling from a zipwire before the 2012 Olympics has never had a completely serious reputation. But this week’s cover story by Edward Docx forensically unpicks Boris Johnson’s presentation and persona as a clown, in search of a true understanding of how a man seemingly so dedicated to not being serious ended up running Britain during its worst crisis since the second world war. As we went to press there was news of yet another mass shooting in the United States, this time in Colorado. It came a few days after a gunman in Atlanta targeted Asian Americans in a series of shootings at massage parlours, prompting a national discussion about the hate directed at that community. Ed Pilkington asks why no one heeded the warnings after a year of escalating vitriol. Also in this week’s edition, Steve Rose speaks to the scientists trying to make the Sinai peninsula a green and pleasant land for agriculture; in Culture, Jude Rogers interviews British folk legend Richard Thompson as he looks back at his long career, and Laura Spinney reviews Walter Isaacson’s new book about the development of gene editing – and the importance of scientific collaboration. Get the magazine delivered to your door\n"
     ]
    }
   ],
   "source": [
    "# filter out other article types (e.g. liveblogs)\n",
    "articles = list(filter(lambda x: x['type'] == 'article', test['response']['results']))\n",
    "\n",
    "# parsing the json\n",
    "url = articles[3]['webUrl']\n",
    "headline = articles[3]['webTitle']\n",
    "author = []\n",
    "\n",
    "for x in articles[3]['tags']:\n",
    "    if x['type'] != 'contributor':\n",
    "        continue\n",
    "    author.append(x['webTitle'])\n",
    "\n",
    "date = articles[3]['webPublicationDate']\n",
    "body = articles[3]['blocks']['body'][0]['bodyTextSummary']\n",
    "\n",
    "print(\"URL: \", url)\n",
    "print(\"\\nHeadline: \", headline)\n",
    "print(\"\\nAuthor: \", author)\n",
    "print(\"\\nDate: \", date)\n",
    "print(\"\\nArticle Body: \\n\", body)"
   ]
  },
  {
   "cell_type": "code",
   "execution_count": 104,
   "metadata": {},
   "outputs": [
    {
     "name": "stdout",
     "output_type": "stream",
     "text": [
      "The clown king – making sense of Boris Johnson: inside the 26 March Guardian Weekly\n",
      "It’s been an infuriating week or so for AstraZeneca and those hoping for a swift deployment of its Oxford vaccine. First, fears of a link to blood clots saw many states pause their rollout of the jab before swiftly changing tack after its safety was confirmed. The moves will do little to boost confidence in the vaccine, which has been beset by PR problems. There was also the news that supplies of the vaccine to the UK were due to slump because of production issues in India and an ongoing row between the EU and UK about exports of vaccines. Do these struggles threaten – in the UK at least – to derail a mass vaccination programme that has helped dramatically reduce deaths since January’s huge third wave? Dismissing the United Kingdom’s prime minister as a clown is not, it ought to be noted, a completely original notion. The man who was brought to the world’s attention while stuck dangling from a zipwire before the 2012 Olympics has never had a completely serious reputation. But this week’s cover story by Edward Docx forensically unpicks Boris Johnson’s presentation and persona as a clown, in search of a true understanding of how a man seemingly so dedicated to not being serious ended up running Britain during its worst crisis since the second world war. As we went to press there was news of yet another mass shooting in the United States, this time in Colorado. It came a few days after a gunman in Atlanta targeted Asian Americans in a series of shootings at massage parlours, prompting a national discussion about the hate directed at that community. Ed Pilkington asks why no one heeded the warnings after a year of escalating vitriol. Also in this week’s edition, Steve Rose speaks to the scientists trying to make the Sinai peninsula a green and pleasant land for agriculture; in Culture, Jude Rogers interviews British folk legend Richard Thompson as he looks back at his long career, and Laura Spinney reviews Walter Isaacson’s new book about the development of gene editing – and the importance of scientific collaboration. Get the magazine delivered to your door\n"
     ]
    }
   ],
   "source": [
    "# clean the body & headline\n",
    "body.replace(\"â€™\", \"'\").replace(\"â€œ\", \"\\\"\").replace(\"â€�\", \"\\\"\").replace(\"â€¢\", \"*\").replace(\"Ã©\", \"e\").replace(\"Ã¼\", \"u\").replace(\"â€“\", \"-\")\n",
    "headline.replace(\"â€™\", \"'\").replace(\"â€œ\", \"\\\"\").replace(\"â€�\", \"\\\"\").replace(\"â€¢\", \"*\").replace(\"Ã©\", \"e\").replace(\"Ã¼\", \"u\").replace(\"â€“\", \"-\")\n",
    "\n",
    "print(headline)\n",
    "print(body)"
   ]
  },
  {
   "cell_type": "code",
   "execution_count": 105,
   "metadata": {},
   "outputs": [
    {
     "name": "stdout",
     "output_type": "stream",
     "text": [
      "49\n"
     ]
    }
   ],
   "source": [
    "guardian_news = []\n",
    "\n",
    "for x in articles:\n",
    "    curr_url = x['webUrl']\n",
    "    headline = x['webTitle']\n",
    "    author = []\n",
    "\n",
    "    for y in x['tags']:\n",
    "        if y['type'] != 'contributor':\n",
    "            continue\n",
    "        author.append(y['webTitle'])\n",
    "\n",
    "    date = x['webPublicationDate']\n",
    "    body = x['blocks']['body'][0]['bodyTextSummary']\n",
    "    body.replace(\"â€™\", \"'\").replace(\"â€œ\", \"\\\"\").replace(\"â€�\", \"\\\"\").replace(\"â€¢\", \"*\").replace(\"Ã©\", \"e\").replace(\"Ã¼\", \"u\").replace(\"â€“\", \"-\")\n",
    "    headline.replace(\"â€™\", \"'\").replace(\"â€œ\", \"\\\"\").replace(\"â€�\", \"\\\"\").replace(\"â€¢\", \"*\").replace(\"Ã©\", \"e\").replace(\"Ã¼\", \"u\").replace(\"â€“\", \"-\")\n",
    "    \n",
    "    guardian_news.append({\n",
    "        'source': curr_url,\n",
    "        'date': date,\n",
    "        'title': headline,\n",
    "        'article_body': body,\n",
    "        'author': author\n",
    "    })\n",
    "    \n",
    "print(len(guardian_news))"
   ]
  },
  {
   "cell_type": "code",
   "execution_count": 106,
   "metadata": {},
   "outputs": [],
   "source": [
    "# write to file\n",
    "with open('guardian_news.json', 'w') as file:\n",
    "    json.dump(guardian_news, file, indent=4)"
   ]
  },
  {
   "cell_type": "code",
   "execution_count": null,
   "metadata": {},
   "outputs": [],
   "source": []
  }
 ],
 "metadata": {
  "kernelspec": {
   "display_name": "Python 3",
   "language": "python",
   "name": "python3"
  },
  "language_info": {
   "codemirror_mode": {
    "name": "ipython",
    "version": 3
   },
   "file_extension": ".py",
   "mimetype": "text/x-python",
   "name": "python",
   "nbconvert_exporter": "python",
   "pygments_lexer": "ipython3",
   "version": "3.7.4"
  }
 },
 "nbformat": 4,
 "nbformat_minor": 2
}
