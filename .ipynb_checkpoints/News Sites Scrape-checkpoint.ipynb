{
 "cells": [
  {
   "cell_type": "markdown",
   "metadata": {},
   "source": [
    "# Scraping from 3 different news sites"
   ]
  },
  {
   "cell_type": "markdown",
   "metadata": {},
   "source": [
    "**Datetime:** 03-26-2021 1600\n",
    "\n",
    "**Sites:** \n",
    "    - Inquirer (Crawl delay: 5)\n",
    "    - ABS-CBS (Crawl delay: 10)\n",
    "    - Philstar (Crawl delay: unspecified, will use 5)"
   ]
  },
  {
   "cell_type": "markdown",
   "metadata": {},
   "source": [
    "## Imports"
   ]
  },
  {
   "cell_type": "code",
   "execution_count": 69,
   "metadata": {},
   "outputs": [],
   "source": [
    "import requests\n",
    "import json\n",
    "import time\n",
    "import random\n",
    "from bs4 import BeautifulSoup"
   ]
  },
  {
   "cell_type": "markdown",
   "metadata": {},
   "source": [
    "## Scraping from Inquirer"
   ]
  },
  {
   "cell_type": "markdown",
   "metadata": {},
   "source": [
    "### Getting the latest news links"
   ]
  },
  {
   "cell_type": "code",
   "execution_count": 3,
   "metadata": {},
   "outputs": [],
   "source": [
    "URL = \"https://www.inquirer.net/latest-stories\"\n",
    "headers = {'User-agent' : '*'}\n",
    "page = requests.get(URL, headers=headers) # Access time: 03-26-2021, 1644\n",
    "soup = BeautifulSoup(page.content, 'html.parser')"
   ]
  },
  {
   "cell_type": "code",
   "execution_count": 5,
   "metadata": {
    "scrolled": true
   },
   "outputs": [
    {
     "name": "stdout",
     "output_type": "stream",
     "text": [
      "<div id=\"al-box\">\n",
      "<div id=\"al-time\">POP - 4:38 PM</div>\n",
      "<h2><a href=\"https://pop.inquirer.net/107813/this-teacher-took-his-class-on-a-virtual-field-trip-to-the-zoo\">This teacher took his class on a virtual field trip to the zoo</a></h2>\n",
      "</div>\n"
     ]
    }
   ],
   "source": [
    "container = soup.find(id='al-wrap')\n",
    "headlines = container.find_all(id='al-box')\n",
    "# Sanity Check\n",
    "print(headlines[0])"
   ]
  },
  {
   "cell_type": "code",
   "execution_count": 6,
   "metadata": {
    "scrolled": true
   },
   "outputs": [
    {
     "name": "stdout",
     "output_type": "stream",
     "text": [
      "Index  0  Content:\n",
      " \n",
      "\n",
      "Index  1  Content:\n",
      " <div id=\"al-time\">POP - 4:38 PM</div>\n",
      "Index  2  Content:\n",
      " \n",
      "\n",
      "Index  3  Content:\n",
      " <h2><a href=\"https://pop.inquirer.net/107813/this-teacher-took-his-class-on-a-virtual-field-trip-to-the-zoo\">This teacher took his class on a virtual field trip to the zoo</a></h2>\n",
      "Index  4  Content:\n",
      " \n",
      "\n",
      "----------\n",
      "Index  0  Content:\n",
      " <a href=\"https://pop.inquirer.net/107813/this-teacher-took-his-class-on-a-virtual-field-trip-to-the-zoo\">This teacher took his class on a virtual field trip to the zoo</a>\n",
      "----------\n",
      "\n",
      "Type - time:  POP - 4:38 PM\n",
      "\n",
      "Headline:  This teacher took his class on a virtual field trip to the zoo\n",
      "\n",
      "URL:  https://pop.inquirer.net/107813/this-teacher-took-his-class-on-a-virtual-field-trip-to-the-zoo\n"
     ]
    }
   ],
   "source": [
    "# parse content\n",
    "\n",
    "for idx in range(len(headlines[0].contents)):\n",
    "    print(\"Index \", idx, \" Content:\\n\", headlines[0].contents[idx])\n",
    "\n",
    "print(\"----------\")    \n",
    "for idx in range(len(headlines[0].contents[3].contents)):\n",
    "    print(\"Index \", idx, \" Content:\\n\", headlines[0].contents[3].contents[idx])\n",
    "\n",
    "    \n",
    "print(\"----------\")\n",
    "print(\"\\nType - time: \", headlines[0].contents[1].text.strip())\n",
    "print(\"\\nHeadline: \", headlines[0].contents[3].contents[0].text.strip())\n",
    "print(\"\\nURL: \", headlines[0].contents[3].contents[0]['href'])"
   ]
  },
  {
   "cell_type": "code",
   "execution_count": 11,
   "metadata": {
    "scrolled": true
   },
   "outputs": [
    {
     "name": "stdout",
     "output_type": "stream",
     "text": [
      "['https://newsinfo.inquirer.net/1411623/sc-confirms-another-justice-to-retire-for-health-reasons', 'https://newsinfo.inquirer.net/1411718/phs-covid-19-cases-top-700000-as-doh-reports-about-10000-new-infections', 'https://newsinfo.inquirer.net/1411705/thailand-faces-meth-trafficking-surge-after-myanmar-coup', 'https://newsinfo.inquirer.net/1411707/covid-19-hits-over-15000-health-workers-doh', 'https://newsinfo.inquirer.net/1411686/bureau-of-immigration-warns-public-against-online-scammers', 'https://newsinfo.inquirer.net/1411690/ched-six-heis-partner-with-lgus-to-serve-as-vaccination-centers', 'https://newsinfo.inquirer.net/1411680/solon-seeks-instant-sanctions-for-govt-execs-who-skipped-vaccine-priority-list', 'https://newsinfo.inquirer.net/1411696/zambales-mayor-tests-positive-for-covid-19', 'https://newsinfo.inquirer.net/1411643/thailand-urges-calm-after-death-of-covid-19-vaccine-recipient', 'https://newsinfo.inquirer.net/1411677/covid-19-icu-occupancy-rate-nearing-moderate-risk-treatment-czar', 'https://newsinfo.inquirer.net/1411670/duque-to-recommend-elevating-ofws-spot-in-covid-19-vaccine-priority-list', 'https://newsinfo.inquirer.net/1411666/ched-allows-24-colleges-universities-to-hold-limited-in-person-classes', 'https://newsinfo.inquirer.net/1411659/taiwan-us-to-strengthen-maritime-coordination-after-china-law', 'https://newsinfo.inquirer.net/1411656/allow-local-health-execs-to-give-next-priority-group-unused-vaccines-villanueva', 'https://newsinfo.inquirer.net/1411654/missile-test-propels-north-korea-to-top-of-bidens-foreign-agenda', 'https://newsinfo.inquirer.net/1411652/new-zealands-catholic-church-apologizes-to-survivors-of-abuse', 'https://newsinfo.inquirer.net/1411645/as-ph-ranking-in-happiness-index-drops-palace-pins-hope-on-vaccines', 'https://newsinfo.inquirer.net/1411638/amid-line-jumpers-drilon-says-govt-should-ramp-up-vaccine-supply', 'https://newsinfo.inquirer.net/1411626/active-covid-19-cases-in-quezon-city-now-more-than-7800', 'https://newsinfo.inquirer.net/1411625/owwa-492000-ofws-repatriated-since-start-of-pandemic', 'https://newsinfo.inquirer.net/1411624/doh-depression-a-comorbidity-but-current-covid-vaccine-supply-reserved-for-health-frontliners', 'https://newsinfo.inquirer.net/1411615/7-others-mayors-1-councilor-may-also-get-show-cause-orders-for-jumping-vaccination-line', 'https://newsinfo.inquirer.net/1411618/dti-nixes-extension-of-gcq-bubble-beyond-april-4', 'https://newsinfo.inquirer.net/1411613/iatf-allows-prc-to-conduct-licensure-exams-in-may-june-palace', 'https://newsinfo.inquirer.net/1411611/new-york-poised-to-legalize-marijuana-as-lawmakers-agree-on-terms-reports', 'https://newsinfo.inquirer.net/1411592/makabayan-bloc-seeks-probe-on-red-tagging-of-mandaluyong-judge', 'https://newsinfo.inquirer.net/1411557/2-drug-suspects-dead-in-cavite-busts-75-alleged-pushers-held', 'https://newsinfo.inquirer.net/1411576/2-drug-suspects-slain-in-shootout-with-bulacan-cops', 'https://newsinfo.inquirer.net/1411597/healthcare-workers-in-ncr-bubble-cebu-davao-to-get-400000-sinovac-vaccines', 'https://newsinfo.inquirer.net/1411588/1921-hurdle-2021-medical-technology-licensure-exam-pangasinan-grad-is-topnotcher', 'https://newsinfo.inquirer.net/1411591/govt-oks-once-a-day-church-gatherings-of-10-percent-capacity-for-holy-week', 'https://newsinfo.inquirer.net/1411584/cbcp-seeks-clearance-to-hold-holy-week-church-gatherings-at-10-capacity', 'https://newsinfo.inquirer.net/1411582/deped-vows-action-against-those-responsible-for-superspreader-seminars-in-zambales', 'https://newsinfo.inquirer.net/1411575/kabataan-party-list-files-manifestation-of-intent-to-join-2022-polls', 'https://newsinfo.inquirer.net/1411568/dilg-should-at-least-reprimand-local-execs-who-jumped-covid-vax-line-mayor', 'https://newsinfo.inquirer.net/1411567/doh-tracking-down-health-workers-in-covid-19-vax-priority-list-spox', 'https://newsinfo.inquirer.net/1411570/manila-eyes-to-vaccinate-1700-frontline-workers-on-friday', 'https://newsinfo.inquirer.net/1411561/actors-covid-19-vaccination-inappropriate-says-marikina-city-mayor', 'https://newsinfo.inquirer.net/1411554/lacson-slams-malicious-photo-as-dirty-hatchet-job', 'https://newsinfo.inquirer.net/1411553/canada-calling-hong-kong-residents-shift-billions-abroad-after-clampdown', 'https://newsinfo.inquirer.net/1411547/taal-volcano-update-alert-level-2-stays-270-volcanic-quakes-recorded-in-24-hours', 'https://newsinfo.inquirer.net/1411545/exposure-to-protection-from-covid-19-essential-for-mayors-job-locsin', 'https://newsinfo.inquirer.net/1411542/marikina-has-nearly-1500-active-covid-19-cases-highest-since-start-of-pandemic-mayor', 'https://newsinfo.inquirer.net/1411538/hot-weather-expected-in-large-part-of-luzon-33-degrees-maximum-in-metro-manila', 'https://newsinfo.inquirer.net/1411535/egypt-shuts-suez-canal-amid-struggle-to-refloat-grounded-megaship', 'https://newsinfo.inquirer.net/1411532/new-york-city-deploying-asian-undercover-force-to-combat-hate-crimes', 'https://newsinfo.inquirer.net/1411529/still-a-mess-trauma-haunts-u-s-mass-shooting-survivors-due-to-gaps-in-mental-healthcare', 'https://newsinfo.inquirer.net/1411526/biden-warns-of-responses-if-north-korea-escalates-but-open-to-diplomacy', 'https://newsinfo.inquirer.net/1411523/u-s-and-britain-blacklist-myanmar-military-controlled-companies']\n"
     ]
    }
   ],
   "source": [
    "# get only of type NEWSINFO\n",
    "\n",
    "news_headlines = []\n",
    "\n",
    "for item in headlines:\n",
    "    if item.contents[1].text.strip().find('NEWSINFO') != -1:\n",
    "        news_headlines.append({\n",
    "            'type': item.contents[1].text.strip(),\n",
    "            'Headline': item.contents[3].contents[0].text.strip(),\n",
    "            'URL': item.contents[3].contents[0]['href']\n",
    "        })\n",
    "\n",
    "news_urls = [item['URL'] for item in news_headlines]\n",
    "\n",
    "# Sanity Check\n",
    "print(news_urls)"
   ]
  },
  {
   "cell_type": "markdown",
   "metadata": {},
   "source": [
    "### Scraping the news pages"
   ]
  },
  {
   "cell_type": "code",
   "execution_count": 63,
   "metadata": {},
   "outputs": [
    {
     "name": "stdout",
     "output_type": "stream",
     "text": [
      "URL:  https://newsinfo.inquirer.net/1411623/sc-confirms-another-justice-to-retire-for-health-reasons\n",
      "\n",
      "Headline:  SC confirms another justice to retire for health reasons\n",
      "\n",
      "Author:  Tetch Torres-Tupas\n",
      "\n",
      "Date:  4:34 PM March 26, 2021\n",
      "\n",
      "Article body: \n",
      " \n",
      "MANILA, Philippines—Supreme Court Associate Justice Edgardo Delos Santos is considering retiring early due to health reasons, Public Information Chief and Spokesperson Atty. Brian Keith Hosaka said Friday.\n",
      "“According to Justice Delos Santos, due to health reasons, he is considering the possibility of retiring ahead of his 70th birthday on 12 June 2022,” Hosaka told reporters.\n",
      "Hosaka said the magistrate had sent a letter to his staff advising them as early as March 19, 2021, to look for other employment, “knowing the difficulty of finding a job during this pandemic.”\n",
      "“Justice Delos Santos further added that he remains an incumbent member of the Supreme Court until after a specific date of retirement, as may be indicated in a formal letter from him to the En Banc, is accepted and acted upon by the Court,” Hosaka added.\n",
      "Since last year, Delos Santos is the third magistrate to opt for early retirement and the second to cite health reasons.\n",
      "In November last year, the high court has accepted the early retirement of Associate Justice Priscilla Baltazar-Padilla. She was supposed to retire in 2028. The high court did not provide details on her reason for early retiring except that she applied for “disability retirement.”\n",
      "On the other hand, Chief Justice Diosdado Peralta has also opted for early retirement. Today is his last day as Chief Justice, as his retirement is on March 27. He was supposed to hang his robe on March 27, 2022. He gave no reason for his decision to retire early.\n",
      "To date, President Rodrigo Duterte has appointed 16 magistrates—three have already retired while two retired early—Padilla and now Ombudsman Samuel Martires.\n",
      "Duterte has also appointed three chief justices—Lucas Bersamin, Teresita Leonardo De Castro, and Peralta.\n",
      "The Judicial and Bar Council has already submitted to the President the names of a possible replacement for Peralta and the fourth chief justice appointed by the President.\n"
     ]
    }
   ],
   "source": [
    "# SANITY CHECK: another article\n",
    "curr_url = news_urls[0]\n",
    "curr_page = requests.get(curr_url, headers=headers)\n",
    "curr_soup = BeautifulSoup(curr_page.content, 'html.parser')\n",
    "\n",
    "# attempt to find format\n",
    "headline = curr_soup.find('h1', {'class':'entry-title'}).text.strip()\n",
    "author = curr_soup.find(id='art_author')['data-byline-strips']\n",
    "date = curr_soup.find(id='art_plat').contents[2]\n",
    "\n",
    "body = ''\n",
    "body_soup = curr_soup.find(id='article_content').contents[1].find_all('p')\n",
    "\n",
    "# remove all children from <p>s found in article content (e.g. advertisments, extenral links)\n",
    "for x in body_soup:\n",
    "    for y in x.find_all():\n",
    "        if len(list(y.parents)) >= 1:\n",
    "            y.extract()\n",
    "    # to remove the caption\n",
    "    if x.has_key('class'):\n",
    "        if x['class'][0] == 'wp-caption-text':\n",
    "            x.extract()\n",
    "\n",
    "for x in body_soup:\n",
    "    #print(\"Index: \", x)\n",
    "    #print(\"\\n\", body_soup[x].text.strip())\n",
    "    if x.text.strip() == 'RELATED STORIES': # cut off of article\n",
    "        break\n",
    "    if x.has_key('class'):\n",
    "        if x['class'][0] == 'corona_article_tracker': # to account for the common paragraphs abt covid-19 in covid related news\n",
    "            break\n",
    "        pass\n",
    "    else:\n",
    "        body += '\\n' + x.text.strip()\n",
    "\n",
    "print('URL: ', curr_url)\n",
    "print(\"\\nHeadline: \", headline)\n",
    "print(\"\\nAuthor: \", author)\n",
    "print(\"\\nDate: \", date[4:])\n",
    "print(\"\\nArticle body: \\n\", body)"
   ]
  },
  {
   "cell_type": "code",
   "execution_count": 66,
   "metadata": {},
   "outputs": [
    {
     "name": "stdout",
     "output_type": "stream",
     "text": [
      "[SCRAPING] URL:  https://newsinfo.inquirer.net/1411623/sc-confirms-another-justice-to-retire-for-health-reasons\n",
      "DONE, NEXT:\n",
      "[SCRAPING] URL:  https://newsinfo.inquirer.net/1411718/phs-covid-19-cases-top-700000-as-doh-reports-about-10000-new-infections\n",
      "DONE, NEXT:\n",
      "[SCRAPING] URL:  https://newsinfo.inquirer.net/1411705/thailand-faces-meth-trafficking-surge-after-myanmar-coup\n",
      "DONE, NEXT:\n",
      "[SCRAPING] URL:  https://newsinfo.inquirer.net/1411707/covid-19-hits-over-15000-health-workers-doh\n",
      "DONE, NEXT:\n",
      "[SCRAPING] URL:  https://newsinfo.inquirer.net/1411686/bureau-of-immigration-warns-public-against-online-scammers\n",
      "DONE, NEXT:\n",
      "[SCRAPING] URL:  https://newsinfo.inquirer.net/1411690/ched-six-heis-partner-with-lgus-to-serve-as-vaccination-centers\n",
      "DONE, NEXT:\n",
      "[SCRAPING] URL:  https://newsinfo.inquirer.net/1411680/solon-seeks-instant-sanctions-for-govt-execs-who-skipped-vaccine-priority-list\n",
      "DONE, NEXT:\n",
      "[SCRAPING] URL:  https://newsinfo.inquirer.net/1411696/zambales-mayor-tests-positive-for-covid-19\n",
      "DONE, NEXT:\n",
      "[SCRAPING] URL:  https://newsinfo.inquirer.net/1411643/thailand-urges-calm-after-death-of-covid-19-vaccine-recipient\n",
      "DONE, NEXT:\n",
      "[SCRAPING] URL:  https://newsinfo.inquirer.net/1411677/covid-19-icu-occupancy-rate-nearing-moderate-risk-treatment-czar\n",
      "DONE, NEXT:\n",
      "[SCRAPING] URL:  https://newsinfo.inquirer.net/1411670/duque-to-recommend-elevating-ofws-spot-in-covid-19-vaccine-priority-list\n",
      "DONE, NEXT:\n",
      "[SCRAPING] URL:  https://newsinfo.inquirer.net/1411666/ched-allows-24-colleges-universities-to-hold-limited-in-person-classes\n",
      "DONE, NEXT:\n",
      "[SCRAPING] URL:  https://newsinfo.inquirer.net/1411659/taiwan-us-to-strengthen-maritime-coordination-after-china-law\n",
      "DONE, NEXT:\n",
      "[SCRAPING] URL:  https://newsinfo.inquirer.net/1411656/allow-local-health-execs-to-give-next-priority-group-unused-vaccines-villanueva\n",
      "DONE, NEXT:\n",
      "[SCRAPING] URL:  https://newsinfo.inquirer.net/1411654/missile-test-propels-north-korea-to-top-of-bidens-foreign-agenda\n",
      "DONE, NEXT:\n",
      "[SCRAPING] URL:  https://newsinfo.inquirer.net/1411652/new-zealands-catholic-church-apologizes-to-survivors-of-abuse\n",
      "DONE, NEXT:\n",
      "[SCRAPING] URL:  https://newsinfo.inquirer.net/1411645/as-ph-ranking-in-happiness-index-drops-palace-pins-hope-on-vaccines\n",
      "DONE, NEXT:\n",
      "[SCRAPING] URL:  https://newsinfo.inquirer.net/1411638/amid-line-jumpers-drilon-says-govt-should-ramp-up-vaccine-supply\n",
      "DONE, NEXT:\n",
      "[SCRAPING] URL:  https://newsinfo.inquirer.net/1411626/active-covid-19-cases-in-quezon-city-now-more-than-7800\n",
      "DONE, NEXT:\n",
      "[SCRAPING] URL:  https://newsinfo.inquirer.net/1411625/owwa-492000-ofws-repatriated-since-start-of-pandemic\n",
      "DONE, NEXT:\n",
      "[SCRAPING] URL:  https://newsinfo.inquirer.net/1411624/doh-depression-a-comorbidity-but-current-covid-vaccine-supply-reserved-for-health-frontliners\n",
      "DONE, NEXT:\n",
      "[SCRAPING] URL:  https://newsinfo.inquirer.net/1411615/7-others-mayors-1-councilor-may-also-get-show-cause-orders-for-jumping-vaccination-line\n",
      "DONE, NEXT:\n",
      "[SCRAPING] URL:  https://newsinfo.inquirer.net/1411618/dti-nixes-extension-of-gcq-bubble-beyond-april-4\n",
      "DONE, NEXT:\n",
      "[SCRAPING] URL:  https://newsinfo.inquirer.net/1411613/iatf-allows-prc-to-conduct-licensure-exams-in-may-june-palace\n",
      "DONE, NEXT:\n",
      "[SCRAPING] URL:  https://newsinfo.inquirer.net/1411611/new-york-poised-to-legalize-marijuana-as-lawmakers-agree-on-terms-reports\n",
      "DONE, NEXT:\n",
      "[SCRAPING] URL:  https://newsinfo.inquirer.net/1411592/makabayan-bloc-seeks-probe-on-red-tagging-of-mandaluyong-judge\n",
      "DONE, NEXT:\n",
      "[SCRAPING] URL:  https://newsinfo.inquirer.net/1411557/2-drug-suspects-dead-in-cavite-busts-75-alleged-pushers-held\n",
      "DONE, NEXT:\n",
      "[SCRAPING] URL:  https://newsinfo.inquirer.net/1411576/2-drug-suspects-slain-in-shootout-with-bulacan-cops\n",
      "DONE, NEXT:\n",
      "[SCRAPING] URL:  https://newsinfo.inquirer.net/1411597/healthcare-workers-in-ncr-bubble-cebu-davao-to-get-400000-sinovac-vaccines\n",
      "DONE, NEXT:\n",
      "[SCRAPING] URL:  https://newsinfo.inquirer.net/1411588/1921-hurdle-2021-medical-technology-licensure-exam-pangasinan-grad-is-topnotcher\n",
      "DONE, NEXT:\n",
      "[SCRAPING] URL:  https://newsinfo.inquirer.net/1411591/govt-oks-once-a-day-church-gatherings-of-10-percent-capacity-for-holy-week\n",
      "DONE, NEXT:\n",
      "[SCRAPING] URL:  https://newsinfo.inquirer.net/1411584/cbcp-seeks-clearance-to-hold-holy-week-church-gatherings-at-10-capacity\n",
      "DONE, NEXT:\n",
      "[SCRAPING] URL:  https://newsinfo.inquirer.net/1411582/deped-vows-action-against-those-responsible-for-superspreader-seminars-in-zambales\n",
      "DONE, NEXT:\n",
      "[SCRAPING] URL:  https://newsinfo.inquirer.net/1411575/kabataan-party-list-files-manifestation-of-intent-to-join-2022-polls\n",
      "DONE, NEXT:\n",
      "[SCRAPING] URL:  https://newsinfo.inquirer.net/1411568/dilg-should-at-least-reprimand-local-execs-who-jumped-covid-vax-line-mayor\n",
      "DONE, NEXT:\n",
      "[SCRAPING] URL:  https://newsinfo.inquirer.net/1411567/doh-tracking-down-health-workers-in-covid-19-vax-priority-list-spox\n",
      "DONE, NEXT:\n",
      "[SCRAPING] URL:  https://newsinfo.inquirer.net/1411570/manila-eyes-to-vaccinate-1700-frontline-workers-on-friday\n",
      "DONE, NEXT:\n",
      "[SCRAPING] URL:  https://newsinfo.inquirer.net/1411561/actors-covid-19-vaccination-inappropriate-says-marikina-city-mayor\n",
      "DONE, NEXT:\n",
      "[SCRAPING] URL:  https://newsinfo.inquirer.net/1411554/lacson-slams-malicious-photo-as-dirty-hatchet-job\n",
      "DONE, NEXT:\n",
      "[SCRAPING] URL:  https://newsinfo.inquirer.net/1411553/canada-calling-hong-kong-residents-shift-billions-abroad-after-clampdown\n",
      "DONE, NEXT:\n",
      "[SCRAPING] URL:  https://newsinfo.inquirer.net/1411547/taal-volcano-update-alert-level-2-stays-270-volcanic-quakes-recorded-in-24-hours\n",
      "DONE, NEXT:\n",
      "[SCRAPING] URL:  https://newsinfo.inquirer.net/1411545/exposure-to-protection-from-covid-19-essential-for-mayors-job-locsin\n",
      "DONE, NEXT:\n",
      "[SCRAPING] URL:  https://newsinfo.inquirer.net/1411542/marikina-has-nearly-1500-active-covid-19-cases-highest-since-start-of-pandemic-mayor\n",
      "DONE, NEXT:\n",
      "[SCRAPING] URL:  https://newsinfo.inquirer.net/1411538/hot-weather-expected-in-large-part-of-luzon-33-degrees-maximum-in-metro-manila\n",
      "DONE, NEXT:\n",
      "[SCRAPING] URL:  https://newsinfo.inquirer.net/1411535/egypt-shuts-suez-canal-amid-struggle-to-refloat-grounded-megaship\n",
      "DONE, NEXT:\n",
      "[SCRAPING] URL:  https://newsinfo.inquirer.net/1411532/new-york-city-deploying-asian-undercover-force-to-combat-hate-crimes\n",
      "DONE, NEXT:\n",
      "[SCRAPING] URL:  https://newsinfo.inquirer.net/1411529/still-a-mess-trauma-haunts-u-s-mass-shooting-survivors-due-to-gaps-in-mental-healthcare\n",
      "DONE, NEXT:\n",
      "[SCRAPING] URL:  https://newsinfo.inquirer.net/1411526/biden-warns-of-responses-if-north-korea-escalates-but-open-to-diplomacy\n",
      "DONE, NEXT:\n",
      "[SCRAPING] URL:  https://newsinfo.inquirer.net/1411523/u-s-and-britain-blacklist-myanmar-military-controlled-companies\n",
      "DONE, NEXT:\n"
     ]
    }
   ],
   "source": [
    "# actual scraping\n",
    "\n",
    "inquirer_news = []\n",
    "\n",
    "for x in news_urls:\n",
    "    print(\"[SCRAPING] URL: \", x)\n",
    "    curr_url = x\n",
    "    curr_page = requests.get(curr_url, headers=headers)\n",
    "    curr_soup = BeautifulSoup(curr_page.content, 'html.parser')\n",
    "\n",
    "    # attempt to find format\n",
    "    headline = curr_soup.find('h1', {'class':'entry-title'}).text.strip()\n",
    "    if curr_soup.find(id='art_author') is not None:\n",
    "        author = curr_soup.find(id='art_author')['data-byline-strips']\n",
    "    else:\n",
    "        author = ''\n",
    "    date = curr_soup.find(id='art_plat').contents[2]\n",
    "\n",
    "    body = ''\n",
    "    body_soup = curr_soup.find(id='article_content').contents[1].find_all('p')\n",
    "\n",
    "    # remove all children from <p>s found in article content (e.g. advertisments, extenral links)\n",
    "    for x in body_soup:\n",
    "        for y in x.find_all():\n",
    "            if len(list(y.parents)) >= 1:\n",
    "                y.extract()\n",
    "        # to remove the caption\n",
    "        if x.has_key('class'):\n",
    "            if x['class'][0] == 'wp-caption-text':\n",
    "                x.extract()\n",
    "\n",
    "    for x in body_soup:\n",
    "        if x.text.strip() == 'RELATED STORIES': # cut off of article\n",
    "            break\n",
    "        if x.has_key('class'):\n",
    "            if x['class'][0] == 'corona_article_tracker': # to account for the common paragraphs abt covid-19 in covid related news\n",
    "                break\n",
    "            pass\n",
    "        else:\n",
    "            body += '\\n' + x.text.strip()\n",
    "    \n",
    "    inquirer_news.append({\n",
    "        'source': curr_url,\n",
    "        'date': date[4:],\n",
    "        'title': headline,\n",
    "        'article_body': body,\n",
    "        'author': author\n",
    "    })\n",
    "    \n",
    "    time.sleep(5)\n",
    "    print(\"DONE, NEXT:\")"
   ]
  },
  {
   "cell_type": "code",
   "execution_count": 74,
   "metadata": {},
   "outputs": [
    {
     "name": "stdout",
     "output_type": "stream",
     "text": [
      "Index:  28\n",
      "\n",
      "Source:  https://newsinfo.inquirer.net/1411597/healthcare-workers-in-ncr-bubble-cebu-davao-to-get-400000-sinovac-vaccines\n",
      "\n",
      "Title:  Healthcare workers in NCR bubble, Cebu, Davao to get 400,000 Sinovac vaccines\n",
      "\n",
      "Author:  Daphne Galvez\n",
      "\n",
      "Date:  2:06 PM March 26, 2021\n",
      "\n",
      "Article body: \n",
      " \n",
      "\n",
      "MANILA, Philippines — The government will be allocating most of the recently delivered  of Sinovac BioTech for healthcare workers in areas most affected by new coronavirus variants, Malacañang said Friday.\n",
      "This includes healthcare workers in the National Capital Region “bubble” (NCR, Batangas, Rizal, Laguna, Cavite) Cebu and Davao, Presidential spokesman Harry Roque said.\n",
      "“Nagkaroon na ng desisyon ang ating NITAG (National Immunization Technical Advisory Group) na ‘yung mga kakarating na pinakahuling donasyon ng China na 400,000 na Sinovac ay ibibigay ang karamihan nito doon sa pinaka-apektado ng new variants kasama na ang NCR plus, Cebu, at Davao,” Presidential spokesman Harry Roque announced in a pre-taped interview over Laging Handa briefing.\n",
      "(The NITAG has come up with a decision to concentrate most of the 400,000 Sinovac jabs to areas most affected by the new variants including NCR plus, Cebu, at Davao.)\n",
      "The vaccine shots, which arrived in the Philippines on Wednesday, were donated by the Chinese government.\n",
      "The donated vaccines were in addition to the initial 600,000 doses that arrived in the country last February 28.\n",
      "One million more doses of Sinovac vaccines purchased by the national government will arrive on March 29.\n",
      "The government is currently in the process of vaccinating healthcare workers in the country, who are the top priority in the vaccination program.\n"
     ]
    }
   ],
   "source": [
    "# sanity check\n",
    "\n",
    "article_no = random.randint(0,len(inquirer_news)-1)\n",
    "\n",
    "print('Index: ', article_no)\n",
    "print('\\nSource: ', inquirer_news[article_no]['source'])\n",
    "print(\"\\nTitle: \", inquirer_news[article_no]['title'])\n",
    "print(\"\\nAuthor: \", inquirer_news[article_no]['author'])\n",
    "print(\"\\nDate: \", inquirer_news[article_no]['date'])\n",
    "print(\"\\nArticle body: \\n\", inquirer_news[article_no]['article_body'])"
   ]
  },
  {
   "cell_type": "code",
   "execution_count": 75,
   "metadata": {},
   "outputs": [],
   "source": [
    "# write to file\n",
    "with open('inquirer_news.json', 'w') as file:\n",
    "    json.dump(inquirer_news, file, indent=4)"
   ]
  },
  {
   "cell_type": "code",
   "execution_count": null,
   "metadata": {},
   "outputs": [],
   "source": []
  }
 ],
 "metadata": {
  "kernelspec": {
   "display_name": "Python 3",
   "language": "python",
   "name": "python3"
  },
  "language_info": {
   "codemirror_mode": {
    "name": "ipython",
    "version": 3
   },
   "file_extension": ".py",
   "mimetype": "text/x-python",
   "name": "python",
   "nbconvert_exporter": "python",
   "pygments_lexer": "ipython3",
   "version": "3.7.4"
  }
 },
 "nbformat": 4,
 "nbformat_minor": 2
}
