{
 "cells": [
  {
   "cell_type": "markdown",
   "metadata": {},
   "source": [
    "# Scraping from the Bulbapedia Pokemon List"
   ]
  },
  {
   "cell_type": "markdown",
   "metadata": {},
   "source": [
    "### Imports"
   ]
  },
  {
   "cell_type": "code",
   "execution_count": 31,
   "metadata": {},
   "outputs": [],
   "source": [
    "import requests\n",
    "import json\n",
    "from bs4 import BeautifulSoup\n",
    "\n",
    "URL=\"https://bulbapedia.bulbagarden.net/wiki/List_of_Pok%C3%A9mon_by_National_Pok%C3%A9dex_number\"\n",
    "page=requests.get(URL)\n",
    "soup = BeautifulSoup(page.content, 'html.parser')"
   ]
  },
  {
   "cell_type": "markdown",
   "metadata": {},
   "source": [
    "### Get the relevant segments"
   ]
  },
  {
   "cell_type": "code",
   "execution_count": 3,
   "metadata": {},
   "outputs": [],
   "source": [
    "poke_content=soup.find(id='mw-content-text')\n",
    "\n",
    "poke_tables=poke_content.find_all('table')\n",
    "# table[0] refers to the table of contents\n",
    "# table[1-8] refers to the tables containing the list of pokemon per generation\n",
    "# table[9] refers to the navigation pane at the bottom"
   ]
  },
  {
   "cell_type": "markdown",
   "metadata": {},
   "source": [
    "### Get the content from the tables"
   ]
  },
  {
   "cell_type": "code",
   "execution_count": 13,
   "metadata": {},
   "outputs": [],
   "source": [
    "national_dex = []\n",
    "info_start = 3\n",
    "\n",
    "for i in range(1,8):\n",
    "    table = poke_tables[i]\n",
    "    gen = {\n",
    "        \"generation\": i,\n",
    "        \"dex\": []\n",
    "    }\n",
    "    for j in range(info_start, len(table.contents), 2 ):\n",
    "        poke_info = table.contents[j]\n",
    "        kdex=poke_info.contents[1].text.strip()\n",
    "        ndex=poke_info.contents[3].text.strip()\n",
    "        name=poke_info.contents[7].text.strip()\n",
    "        type1=poke_info.contents[9].text.strip()\n",
    "        if len(poke_info.contents) > 10:\n",
    "            type2=poke_info.contents[11].text.strip()\n",
    "            gen[\"dex\"].append({\n",
    "                \"ldex\": kdex, # local pokedex\n",
    "                \"ndex\": ndex,\n",
    "                \"name\": name,\n",
    "                \"type1\": type1,\n",
    "                \"type2\": type2\n",
    "            })\n",
    "        else:\n",
    "            gen[\"dex\"].append({\n",
    "                \"ldex\": kdex,\n",
    "                \"ndex\": ndex,\n",
    "                \"name\": name,\n",
    "                \"type1\": type1\n",
    "            })\n",
    "    national_dex.append(gen)\n"
   ]
  },
  {
   "cell_type": "markdown",
   "metadata": {},
   "source": [
    "### Write to file"
   ]
  },
  {
   "cell_type": "code",
   "execution_count": 14,
   "metadata": {},
   "outputs": [],
   "source": [
    "with open('national_dex.json', 'w') as file:\n",
    "    json.dump(national_dex, file, indent=4)"
   ]
  },
  {
   "cell_type": "markdown",
   "metadata": {},
   "source": [
    "### Sanity Check"
   ]
  },
  {
   "cell_type": "code",
   "execution_count": 15,
   "metadata": {},
   "outputs": [
    {
     "name": "stdout",
     "output_type": "stream",
     "text": [
      "{'generation': 1, 'dex': [{'ldex': '#001', 'ndex': '#001', 'name': 'Bulbasaur', 'type1': 'Grass', 'type2': 'Poison'}, {'ldex': '#002', 'ndex': '#002', 'name': 'Ivysaur', 'type1': 'Grass', 'type2': 'Poison'}, {'ldex': '#003', 'ndex': '#003', 'name': 'Venusaur', 'type1': 'Grass', 'type2': 'Poison'}, {'ldex': '#004', 'ndex': '#004', 'name': 'Charmander', 'type1': 'Fire'}, {'ldex': '#005', 'ndex': '#005', 'name': 'Charmeleon', 'type1': 'Fire'}, {'ldex': '#006', 'ndex': '#006', 'name': 'Charizard', 'type1': 'Fire', 'type2': 'Flying'}, {'ldex': '#007', 'ndex': '#007', 'name': 'Squirtle', 'type1': 'Water'}, {'ldex': '#008', 'ndex': '#008', 'name': 'Wartortle', 'type1': 'Water'}, {'ldex': '#009', 'ndex': '#009', 'name': 'Blastoise', 'type1': 'Water'}, {'ldex': '#010', 'ndex': '#010', 'name': 'Caterpie', 'type1': 'Bug'}, {'ldex': '#011', 'ndex': '#011', 'name': 'Metapod', 'type1': 'Bug'}, {'ldex': '#012', 'ndex': '#012', 'name': 'Butterfree', 'type1': 'Bug', 'type2': 'Flying'}, {'ldex': '#013', 'ndex': '#013', 'name': 'Weedle', 'type1': 'Bug', 'type2': 'Poison'}, {'ldex': '#014', 'ndex': '#014', 'name': 'Kakuna', 'type1': 'Bug', 'type2': 'Poison'}, {'ldex': '#015', 'ndex': '#015', 'name': 'Beedrill', 'type1': 'Bug', 'type2': 'Poison'}, {'ldex': '#016', 'ndex': '#016', 'name': 'Pidgey', 'type1': 'Normal', 'type2': 'Flying'}, {'ldex': '#017', 'ndex': '#017', 'name': 'Pidgeotto', 'type1': 'Normal', 'type2': 'Flying'}, {'ldex': '#018', 'ndex': '#018', 'name': 'Pidgeot', 'type1': 'Normal', 'type2': 'Flying'}, {'ldex': '#019', 'ndex': '#019', 'name': 'Rattata', 'type1': 'Normal'}, {'ldex': '', 'ndex': '#019', 'name': 'Rattata', 'type1': 'Dark', 'type2': 'Normal'}, {'ldex': '#020', 'ndex': '#020', 'name': 'Raticate', 'type1': 'Normal'}, {'ldex': '', 'ndex': '#020', 'name': 'Raticate', 'type1': 'Dark', 'type2': 'Normal'}, {'ldex': '#021', 'ndex': '#021', 'name': 'Spearow', 'type1': 'Normal', 'type2': 'Flying'}, {'ldex': '#022', 'ndex': '#022', 'name': 'Fearow', 'type1': 'Normal', 'type2': 'Flying'}, {'ldex': '#023', 'ndex': '#023', 'name': 'Ekans', 'type1': 'Poison'}, {'ldex': '#024', 'ndex': '#024', 'name': 'Arbok', 'type1': 'Poison'}, {'ldex': '#025', 'ndex': '#025', 'name': 'Pikachu', 'type1': 'Electric'}, {'ldex': '#026', 'ndex': '#026', 'name': 'Raichu', 'type1': 'Electric'}, {'ldex': '', 'ndex': '#026', 'name': 'Raichu', 'type1': 'Electric', 'type2': 'Psychic'}, {'ldex': '#027', 'ndex': '#027', 'name': 'Sandshrew', 'type1': 'Ground'}, {'ldex': '', 'ndex': '#027', 'name': 'Sandshrew', 'type1': 'Ice', 'type2': 'Steel'}, {'ldex': '#028', 'ndex': '#028', 'name': 'Sandslash', 'type1': 'Ground'}, {'ldex': '', 'ndex': '#028', 'name': 'Sandslash', 'type1': 'Ice', 'type2': 'Steel'}, {'ldex': '#029', 'ndex': '#029', 'name': 'Nidoran♀', 'type1': 'Poison'}, {'ldex': '#030', 'ndex': '#030', 'name': 'Nidorina', 'type1': 'Poison'}, {'ldex': '#031', 'ndex': '#031', 'name': 'Nidoqueen', 'type1': 'Poison', 'type2': 'Ground'}, {'ldex': '#032', 'ndex': '#032', 'name': 'Nidoran♂', 'type1': 'Poison'}, {'ldex': '#033', 'ndex': '#033', 'name': 'Nidorino', 'type1': 'Poison'}, {'ldex': '#034', 'ndex': '#034', 'name': 'Nidoking', 'type1': 'Poison', 'type2': 'Ground'}, {'ldex': '#035', 'ndex': '#035', 'name': 'Clefairy', 'type1': 'Fairy'}, {'ldex': '#036', 'ndex': '#036', 'name': 'Clefable', 'type1': 'Fairy'}, {'ldex': '#037', 'ndex': '#037', 'name': 'Vulpix', 'type1': 'Fire'}, {'ldex': '', 'ndex': '#037', 'name': 'Vulpix', 'type1': 'Ice'}, {'ldex': '#038', 'ndex': '#038', 'name': 'Ninetales', 'type1': 'Fire'}, {'ldex': '', 'ndex': '#038', 'name': 'Ninetales', 'type1': 'Ice', 'type2': 'Fairy'}, {'ldex': '#039', 'ndex': '#039', 'name': 'Jigglypuff', 'type1': 'Normal', 'type2': 'Fairy'}, {'ldex': '#040', 'ndex': '#040', 'name': 'Wigglytuff', 'type1': 'Normal', 'type2': 'Fairy'}, {'ldex': '#041', 'ndex': '#041', 'name': 'Zubat', 'type1': 'Poison', 'type2': 'Flying'}, {'ldex': '#042', 'ndex': '#042', 'name': 'Golbat', 'type1': 'Poison', 'type2': 'Flying'}, {'ldex': '#043', 'ndex': '#043', 'name': 'Oddish', 'type1': 'Grass', 'type2': 'Poison'}, {'ldex': '#044', 'ndex': '#044', 'name': 'Gloom', 'type1': 'Grass', 'type2': 'Poison'}, {'ldex': '#045', 'ndex': '#045', 'name': 'Vileplume', 'type1': 'Grass', 'type2': 'Poison'}, {'ldex': '#046', 'ndex': '#046', 'name': 'Paras', 'type1': 'Bug', 'type2': 'Grass'}, {'ldex': '#047', 'ndex': '#047', 'name': 'Parasect', 'type1': 'Bug', 'type2': 'Grass'}, {'ldex': '#048', 'ndex': '#048', 'name': 'Venonat', 'type1': 'Bug', 'type2': 'Poison'}, {'ldex': '#049', 'ndex': '#049', 'name': 'Venomoth', 'type1': 'Bug', 'type2': 'Poison'}, {'ldex': '#050', 'ndex': '#050', 'name': 'Diglett', 'type1': 'Ground'}, {'ldex': '', 'ndex': '#050', 'name': 'Diglett', 'type1': 'Ground', 'type2': 'Steel'}, {'ldex': '#051', 'ndex': '#051', 'name': 'Dugtrio', 'type1': 'Ground'}, {'ldex': '', 'ndex': '#051', 'name': 'Dugtrio', 'type1': 'Ground', 'type2': 'Steel'}, {'ldex': '#052', 'ndex': '#052', 'name': 'Meowth', 'type1': 'Normal'}, {'ldex': '', 'ndex': '#052', 'name': 'Meowth', 'type1': 'Dark'}, {'ldex': '', 'ndex': '#052', 'name': 'Meowth', 'type1': 'Steel'}, {'ldex': '#053', 'ndex': '#053', 'name': 'Persian', 'type1': 'Normal'}, {'ldex': '', 'ndex': '#053', 'name': 'Persian', 'type1': 'Dark'}, {'ldex': '#054', 'ndex': '#054', 'name': 'Psyduck', 'type1': 'Water'}, {'ldex': '#055', 'ndex': '#055', 'name': 'Golduck', 'type1': 'Water'}, {'ldex': '#056', 'ndex': '#056', 'name': 'Mankey', 'type1': 'Fighting'}, {'ldex': '#057', 'ndex': '#057', 'name': 'Primeape', 'type1': 'Fighting'}, {'ldex': '#058', 'ndex': '#058', 'name': 'Growlithe', 'type1': 'Fire'}, {'ldex': '#059', 'ndex': '#059', 'name': 'Arcanine', 'type1': 'Fire'}, {'ldex': '#060', 'ndex': '#060', 'name': 'Poliwag', 'type1': 'Water'}, {'ldex': '#061', 'ndex': '#061', 'name': 'Poliwhirl', 'type1': 'Water'}, {'ldex': '#062', 'ndex': '#062', 'name': 'Poliwrath', 'type1': 'Water', 'type2': 'Fighting'}, {'ldex': '#063', 'ndex': '#063', 'name': 'Abra', 'type1': 'Psychic'}, {'ldex': '#064', 'ndex': '#064', 'name': 'Kadabra', 'type1': 'Psychic'}, {'ldex': '#065', 'ndex': '#065', 'name': 'Alakazam', 'type1': 'Psychic'}, {'ldex': '#066', 'ndex': '#066', 'name': 'Machop', 'type1': 'Fighting'}, {'ldex': '#067', 'ndex': '#067', 'name': 'Machoke', 'type1': 'Fighting'}, {'ldex': '#068', 'ndex': '#068', 'name': 'Machamp', 'type1': 'Fighting'}, {'ldex': '#069', 'ndex': '#069', 'name': 'Bellsprout', 'type1': 'Grass', 'type2': 'Poison'}, {'ldex': '#070', 'ndex': '#070', 'name': 'Weepinbell', 'type1': 'Grass', 'type2': 'Poison'}, {'ldex': '#071', 'ndex': '#071', 'name': 'Victreebel', 'type1': 'Grass', 'type2': 'Poison'}, {'ldex': '#072', 'ndex': '#072', 'name': 'Tentacool', 'type1': 'Water', 'type2': 'Poison'}, {'ldex': '#073', 'ndex': '#073', 'name': 'Tentacruel', 'type1': 'Water', 'type2': 'Poison'}, {'ldex': '#074', 'ndex': '#074', 'name': 'Geodude', 'type1': 'Rock', 'type2': 'Ground'}, {'ldex': '', 'ndex': '#074', 'name': 'Geodude', 'type1': 'Rock', 'type2': 'Electric'}, {'ldex': '#075', 'ndex': '#075', 'name': 'Graveler', 'type1': 'Rock', 'type2': 'Ground'}, {'ldex': '', 'ndex': '#075', 'name': 'Graveler', 'type1': 'Rock', 'type2': 'Electric'}, {'ldex': '#076', 'ndex': '#076', 'name': 'Golem', 'type1': 'Rock', 'type2': 'Ground'}, {'ldex': '', 'ndex': '#076', 'name': 'Golem', 'type1': 'Rock', 'type2': 'Electric'}, {'ldex': '#077', 'ndex': '#077', 'name': 'Ponyta', 'type1': 'Fire'}, {'ldex': '', 'ndex': '#077', 'name': 'Ponyta', 'type1': 'Psychic'}, {'ldex': '#078', 'ndex': '#078', 'name': 'Rapidash', 'type1': 'Fire'}, {'ldex': '', 'ndex': '#078', 'name': 'Rapidash', 'type1': 'Psychic', 'type2': 'Fairy'}, {'ldex': '#079', 'ndex': '#079', 'name': 'Slowpoke', 'type1': 'Water', 'type2': 'Psychic'}, {'ldex': '', 'ndex': '#079', 'name': 'Slowpoke', 'type1': 'Psychic'}, {'ldex': '#080', 'ndex': '#080', 'name': 'Slowbro', 'type1': 'Water', 'type2': 'Psychic'}, {'ldex': '', 'ndex': '#080', 'name': 'Slowbro', 'type1': 'Poison', 'type2': 'Psychic'}, {'ldex': '#081', 'ndex': '#081', 'name': 'Magnemite', 'type1': 'Electric', 'type2': 'Steel'}, {'ldex': '#082', 'ndex': '#082', 'name': 'Magneton', 'type1': 'Electric', 'type2': 'Steel'}, {'ldex': '#083', 'ndex': '#083', 'name': \"Farfetch'd\", 'type1': 'Normal', 'type2': 'Flying'}, {'ldex': '', 'ndex': '#083', 'name': \"Farfetch'd\", 'type1': 'Fighting'}, {'ldex': '#084', 'ndex': '#084', 'name': 'Doduo', 'type1': 'Normal', 'type2': 'Flying'}, {'ldex': '#085', 'ndex': '#085', 'name': 'Dodrio', 'type1': 'Normal', 'type2': 'Flying'}, {'ldex': '#086', 'ndex': '#086', 'name': 'Seel', 'type1': 'Water'}, {'ldex': '#087', 'ndex': '#087', 'name': 'Dewgong', 'type1': 'Water', 'type2': 'Ice'}, {'ldex': '#088', 'ndex': '#088', 'name': 'Grimer', 'type1': 'Poison'}, {'ldex': '', 'ndex': '#088', 'name': 'Grimer', 'type1': 'Poison', 'type2': 'Dark'}, {'ldex': '#089', 'ndex': '#089', 'name': 'Muk', 'type1': 'Poison'}, {'ldex': '', 'ndex': '#089', 'name': 'Muk', 'type1': 'Poison', 'type2': 'Dark'}, {'ldex': '#090', 'ndex': '#090', 'name': 'Shellder', 'type1': 'Water'}, {'ldex': '#091', 'ndex': '#091', 'name': 'Cloyster', 'type1': 'Water', 'type2': 'Ice'}, {'ldex': '#092', 'ndex': '#092', 'name': 'Gastly', 'type1': 'Ghost', 'type2': 'Poison'}, {'ldex': '#093', 'ndex': '#093', 'name': 'Haunter', 'type1': 'Ghost', 'type2': 'Poison'}, {'ldex': '#094', 'ndex': '#094', 'name': 'Gengar', 'type1': 'Ghost', 'type2': 'Poison'}, {'ldex': '#095', 'ndex': '#095', 'name': 'Onix', 'type1': 'Rock', 'type2': 'Ground'}, {'ldex': '#096', 'ndex': '#096', 'name': 'Drowzee', 'type1': 'Psychic'}, {'ldex': '#097', 'ndex': '#097', 'name': 'Hypno', 'type1': 'Psychic'}, {'ldex': '#098', 'ndex': '#098', 'name': 'Krabby', 'type1': 'Water'}, {'ldex': '#099', 'ndex': '#099', 'name': 'Kingler', 'type1': 'Water'}, {'ldex': '#100', 'ndex': '#100', 'name': 'Voltorb', 'type1': 'Electric'}, {'ldex': '#101', 'ndex': '#101', 'name': 'Electrode', 'type1': 'Electric'}, {'ldex': '#102', 'ndex': '#102', 'name': 'Exeggcute', 'type1': 'Grass', 'type2': 'Psychic'}, {'ldex': '#103', 'ndex': '#103', 'name': 'Exeggutor', 'type1': 'Grass', 'type2': 'Psychic'}, {'ldex': '', 'ndex': '#103', 'name': 'Exeggutor', 'type1': 'Grass', 'type2': 'Dragon'}, {'ldex': '#104', 'ndex': '#104', 'name': 'Cubone', 'type1': 'Ground'}, {'ldex': '#105', 'ndex': '#105', 'name': 'Marowak', 'type1': 'Ground'}, {'ldex': '', 'ndex': '#105', 'name': 'Marowak', 'type1': 'Fire', 'type2': 'Ghost'}, {'ldex': '#106', 'ndex': '#106', 'name': 'Hitmonlee', 'type1': 'Fighting'}, {'ldex': '#107', 'ndex': '#107', 'name': 'Hitmonchan', 'type1': 'Fighting'}, {'ldex': '#108', 'ndex': '#108', 'name': 'Lickitung', 'type1': 'Normal'}, {'ldex': '#109', 'ndex': '#109', 'name': 'Koffing', 'type1': 'Poison'}, {'ldex': '#110', 'ndex': '#110', 'name': 'Weezing', 'type1': 'Poison'}, {'ldex': '', 'ndex': '#110', 'name': 'Weezing', 'type1': 'Poison', 'type2': 'Fairy'}, {'ldex': '#111', 'ndex': '#111', 'name': 'Rhyhorn', 'type1': 'Ground', 'type2': 'Rock'}, {'ldex': '#112', 'ndex': '#112', 'name': 'Rhydon', 'type1': 'Ground', 'type2': 'Rock'}, {'ldex': '#113', 'ndex': '#113', 'name': 'Chansey', 'type1': 'Normal'}, {'ldex': '#114', 'ndex': '#114', 'name': 'Tangela', 'type1': 'Grass'}, {'ldex': '#115', 'ndex': '#115', 'name': 'Kangaskhan', 'type1': 'Normal'}, {'ldex': '#116', 'ndex': '#116', 'name': 'Horsea', 'type1': 'Water'}, {'ldex': '#117', 'ndex': '#117', 'name': 'Seadra', 'type1': 'Water'}, {'ldex': '#118', 'ndex': '#118', 'name': 'Goldeen', 'type1': 'Water'}, {'ldex': '#119', 'ndex': '#119', 'name': 'Seaking', 'type1': 'Water'}, {'ldex': '#120', 'ndex': '#120', 'name': 'Staryu', 'type1': 'Water'}, {'ldex': '#121', 'ndex': '#121', 'name': 'Starmie', 'type1': 'Water', 'type2': 'Psychic'}, {'ldex': '#122', 'ndex': '#122', 'name': 'Mr. Mime', 'type1': 'Psychic', 'type2': 'Fairy'}, {'ldex': '', 'ndex': '#122', 'name': 'Mr. Mime', 'type1': 'Ice', 'type2': 'Psychic'}, {'ldex': '#123', 'ndex': '#123', 'name': 'Scyther', 'type1': 'Bug', 'type2': 'Flying'}, {'ldex': '#124', 'ndex': '#124', 'name': 'Jynx', 'type1': 'Ice', 'type2': 'Psychic'}, {'ldex': '#125', 'ndex': '#125', 'name': 'Electabuzz', 'type1': 'Electric'}, {'ldex': '#126', 'ndex': '#126', 'name': 'Magmar', 'type1': 'Fire'}, {'ldex': '#127', 'ndex': '#127', 'name': 'Pinsir', 'type1': 'Bug'}, {'ldex': '#128', 'ndex': '#128', 'name': 'Tauros', 'type1': 'Normal'}, {'ldex': '#129', 'ndex': '#129', 'name': 'Magikarp', 'type1': 'Water'}, {'ldex': '#130', 'ndex': '#130', 'name': 'Gyarados', 'type1': 'Water', 'type2': 'Flying'}, {'ldex': '#131', 'ndex': '#131', 'name': 'Lapras', 'type1': 'Water', 'type2': 'Ice'}, {'ldex': '#132', 'ndex': '#132', 'name': 'Ditto', 'type1': 'Normal'}, {'ldex': '#133', 'ndex': '#133', 'name': 'Eevee', 'type1': 'Normal'}, {'ldex': '#134', 'ndex': '#134', 'name': 'Vaporeon', 'type1': 'Water'}, {'ldex': '#135', 'ndex': '#135', 'name': 'Jolteon', 'type1': 'Electric'}, {'ldex': '#136', 'ndex': '#136', 'name': 'Flareon', 'type1': 'Fire'}, {'ldex': '#137', 'ndex': '#137', 'name': 'Porygon', 'type1': 'Normal'}, {'ldex': '#138', 'ndex': '#138', 'name': 'Omanyte', 'type1': 'Rock', 'type2': 'Water'}, {'ldex': '#139', 'ndex': '#139', 'name': 'Omastar', 'type1': 'Rock', 'type2': 'Water'}, {'ldex': '#140', 'ndex': '#140', 'name': 'Kabuto', 'type1': 'Rock', 'type2': 'Water'}, {'ldex': '#141', 'ndex': '#141', 'name': 'Kabutops', 'type1': 'Rock', 'type2': 'Water'}, {'ldex': '#142', 'ndex': '#142', 'name': 'Aerodactyl', 'type1': 'Rock', 'type2': 'Flying'}, {'ldex': '#143', 'ndex': '#143', 'name': 'Snorlax', 'type1': 'Normal'}, {'ldex': '#144', 'ndex': '#144', 'name': 'Articuno', 'type1': 'Ice', 'type2': 'Flying'}, {'ldex': '', 'ndex': '#144', 'name': 'Articuno', 'type1': 'Psychic', 'type2': 'Flying'}, {'ldex': '#145', 'ndex': '#145', 'name': 'Zapdos', 'type1': 'Electric', 'type2': 'Flying'}, {'ldex': '', 'ndex': '#145', 'name': 'Zapdos', 'type1': 'Fighting', 'type2': 'Flying'}, {'ldex': '#146', 'ndex': '#146', 'name': 'Moltres', 'type1': 'Fire', 'type2': 'Flying'}, {'ldex': '', 'ndex': '#146', 'name': 'Moltres', 'type1': 'Dark', 'type2': 'Flying'}, {'ldex': '#147', 'ndex': '#147', 'name': 'Dratini', 'type1': 'Dragon'}, {'ldex': '#148', 'ndex': '#148', 'name': 'Dragonair', 'type1': 'Dragon'}, {'ldex': '#149', 'ndex': '#149', 'name': 'Dragonite', 'type1': 'Dragon', 'type2': 'Flying'}, {'ldex': '#150', 'ndex': '#150', 'name': 'Mewtwo', 'type1': 'Psychic'}, {'ldex': '#151', 'ndex': '#151', 'name': 'Mew', 'type1': 'Psychic'}]}\n"
     ]
    }
   ],
   "source": [
    "# get generation 1\n",
    "print(national_dex[0])"
   ]
  },
  {
   "cell_type": "code",
   "execution_count": 30,
   "metadata": {},
   "outputs": [
    {
     "name": "stdout",
     "output_type": "stream",
     "text": [
      "Generation  3\n",
      "[{'ldex': '#069', 'ndex': '#303', 'name': 'Mawile', 'type1': 'Steel', 'type2': 'Fairy'}]\n"
     ]
    }
   ],
   "source": [
    "# get the 69th pokemon in the local dex in gen 3\n",
    "print(\"Generation \", national_dex[2][\"generation\"])\n",
    "poke = [a for a in national_dex[2][\"dex\"] if a['ldex'] == \"#069\"]\n",
    "print(poke)"
   ]
  },
  {
   "cell_type": "code",
   "execution_count": null,
   "metadata": {},
   "outputs": [],
   "source": []
  }
 ],
 "metadata": {
  "kernelspec": {
   "display_name": "Python 3",
   "language": "python",
   "name": "python3"
  },
  "language_info": {
   "codemirror_mode": {
    "name": "ipython",
    "version": 3
   },
   "file_extension": ".py",
   "mimetype": "text/x-python",
   "name": "python",
   "nbconvert_exporter": "python",
   "pygments_lexer": "ipython3",
   "version": "3.7.4"
  }
 },
 "nbformat": 4,
 "nbformat_minor": 2
}
